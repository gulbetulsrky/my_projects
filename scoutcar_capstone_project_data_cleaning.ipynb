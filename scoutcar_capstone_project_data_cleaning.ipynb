{
 "cells": [
  {
   "cell_type": "code",
   "execution_count": 1,
   "id": "e6a1a846-88aa-4ddf-83c2-676642dd88fe",
   "metadata": {},
   "outputs": [],
   "source": [
    "import numpy as np\n",
    "import pandas as pd\n",
    "from scipy import stats\n",
    "import seaborn as sns\n",
    "import matplotlib.pyplot as plt\n",
    "pd.options.display.max_rows = 100\n",
    "pd.options.display.max_columns = 100"
   ]
  },
  {
   "cell_type": "code",
   "execution_count": 2,
   "id": "c0ce08bf-7b7d-4936-8913-2bf2bf92822d",
   "metadata": {},
   "outputs": [
    {
     "name": "stdout",
     "output_type": "stream",
     "text": [
      "<class 'pandas.core.frame.DataFrame'>\n",
      "RangeIndex: 15919 entries, 0 to 15918\n",
      "Data columns (total 54 columns):\n",
      " #   Column                         Non-Null Count  Dtype  \n",
      "---  ------                         --------------  -----  \n",
      " 0   url                            15919 non-null  object \n",
      " 1   make_model                     15919 non-null  object \n",
      " 2   short_description              15873 non-null  object \n",
      " 3   body_type                      15859 non-null  object \n",
      " 4   price                          15919 non-null  int64  \n",
      " 5   vat                            11406 non-null  object \n",
      " 6   km                             15919 non-null  object \n",
      " 7   registration                   15919 non-null  object \n",
      " 8   prev_owner                     9091 non-null   object \n",
      " 9   kW                             0 non-null      float64\n",
      " 10  hp                             15919 non-null  object \n",
      " 11  Type                           15917 non-null  object \n",
      " 12  Previous Owners                9279 non-null   object \n",
      " 13  Next Inspection                3535 non-null   object \n",
      " 14  Inspection new                 3932 non-null   object \n",
      " 15  Warranty                       10499 non-null  object \n",
      " 16  Full Service                   8215 non-null   object \n",
      " 17  Non-smoking Vehicle            7177 non-null   object \n",
      " 18  null                           15919 non-null  object \n",
      " 19  Make                           15919 non-null  object \n",
      " 20  Model                          15919 non-null  object \n",
      " 21  Offer Number                   12744 non-null  object \n",
      " 22  First Registration             14322 non-null  object \n",
      " 23  Body Color                     15322 non-null  object \n",
      " 24  Paint Type                     10147 non-null  object \n",
      " 25  Body Color Original            12160 non-null  object \n",
      " 26  Upholstery                     12199 non-null  object \n",
      " 27  Body                           15859 non-null  object \n",
      " 28  Nr. of Doors                   15707 non-null  object \n",
      " 29  Nr. of Seats                   14942 non-null  object \n",
      " 30  Model Code                     4978 non-null   object \n",
      " 31  Gearing Type                   15919 non-null  object \n",
      " 32  Displacement                   15423 non-null  object \n",
      " 33  Cylinders                      10239 non-null  object \n",
      " 34  Weight                         8945 non-null   object \n",
      " 35  Drive chain                    9061 non-null   object \n",
      " 36  Fuel                           15919 non-null  object \n",
      " 37  Consumption                    14013 non-null  object \n",
      " 38  CO2 Emission                   14111 non-null  object \n",
      " 39  Emission Class                 12898 non-null  object \n",
      " 40  \n",
      "Comfort & Convenience\n",
      "        14999 non-null  object \n",
      " 41  \n",
      "Entertainment & Media\n",
      "        14545 non-null  object \n",
      " 42  \n",
      "Extras\n",
      "                       12957 non-null  object \n",
      " 43  \n",
      "Safety & Security\n",
      "            14937 non-null  object \n",
      " 44  description                    15919 non-null  object \n",
      " 45  Emission Label                 3985 non-null   object \n",
      " 46  Gears                          11207 non-null  object \n",
      " 47  Country version                7586 non-null   object \n",
      " 48  Electricity consumption        137 non-null    object \n",
      " 49  Last Service Date              566 non-null    object \n",
      " 50  Other Fuel Types               880 non-null    object \n",
      " 51  Availability                   635 non-null    object \n",
      " 52  Last Timing Belt Service Date  16 non-null     object \n",
      " 53  Available from                 272 non-null    object \n",
      "dtypes: float64(1), int64(1), object(52)\n",
      "memory usage: 6.6+ MB\n"
     ]
    }
   ],
   "source": [
    "scoutcar = pd.read_json(\"scout_car/scout_car.json\",lines=True)\n",
    "df = scoutcar.copy()\n",
    "df.info()"
   ]
  },
  {
   "cell_type": "code",
   "execution_count": 3,
   "id": "b4aa35d1-4660-4821-8da3-9f277c0000ee",
   "metadata": {},
   "outputs": [
    {
     "data": {
      "text/html": [
       "<div>\n",
       "<style scoped>\n",
       "    .dataframe tbody tr th:only-of-type {\n",
       "        vertical-align: middle;\n",
       "    }\n",
       "\n",
       "    .dataframe tbody tr th {\n",
       "        vertical-align: top;\n",
       "    }\n",
       "\n",
       "    .dataframe thead th {\n",
       "        text-align: right;\n",
       "    }\n",
       "</style>\n",
       "<table border=\"1\" class=\"dataframe\">\n",
       "  <thead>\n",
       "    <tr style=\"text-align: right;\">\n",
       "      <th></th>\n",
       "      <th>url</th>\n",
       "      <th>make_model</th>\n",
       "      <th>short_description</th>\n",
       "      <th>body_type</th>\n",
       "      <th>price</th>\n",
       "      <th>vat</th>\n",
       "      <th>km</th>\n",
       "      <th>registration</th>\n",
       "      <th>prev_owner</th>\n",
       "      <th>kW</th>\n",
       "      <th>hp</th>\n",
       "      <th>Type</th>\n",
       "      <th>Previous Owners</th>\n",
       "      <th>Next Inspection</th>\n",
       "      <th>Inspection new</th>\n",
       "      <th>Warranty</th>\n",
       "      <th>Full Service</th>\n",
       "      <th>Non-smoking Vehicle</th>\n",
       "      <th>null</th>\n",
       "      <th>Make</th>\n",
       "      <th>Model</th>\n",
       "      <th>Offer Number</th>\n",
       "      <th>First Registration</th>\n",
       "      <th>Body Color</th>\n",
       "      <th>Paint Type</th>\n",
       "      <th>Body Color Original</th>\n",
       "      <th>Upholstery</th>\n",
       "      <th>Body</th>\n",
       "      <th>Nr. of Doors</th>\n",
       "      <th>Nr. of Seats</th>\n",
       "      <th>Model Code</th>\n",
       "      <th>Gearing Type</th>\n",
       "      <th>Displacement</th>\n",
       "      <th>Cylinders</th>\n",
       "      <th>Weight</th>\n",
       "      <th>Drive chain</th>\n",
       "      <th>Fuel</th>\n",
       "      <th>Consumption</th>\n",
       "      <th>CO2 Emission</th>\n",
       "      <th>Emission Class</th>\n",
       "      <th>\\nComfort &amp; Convenience\\n</th>\n",
       "      <th>\\nEntertainment &amp; Media\\n</th>\n",
       "      <th>\\nExtras\\n</th>\n",
       "      <th>\\nSafety &amp; Security\\n</th>\n",
       "      <th>description</th>\n",
       "      <th>Emission Label</th>\n",
       "      <th>Gears</th>\n",
       "      <th>Country version</th>\n",
       "      <th>Electricity consumption</th>\n",
       "      <th>Last Service Date</th>\n",
       "      <th>Other Fuel Types</th>\n",
       "      <th>Availability</th>\n",
       "      <th>Last Timing Belt Service Date</th>\n",
       "      <th>Available from</th>\n",
       "    </tr>\n",
       "  </thead>\n",
       "  <tbody>\n",
       "    <tr>\n",
       "      <th>1205</th>\n",
       "      <td>https://www.autoscout24.com//offers/audi-a1-sp...</td>\n",
       "      <td>Audi A1</td>\n",
       "      <td>Sportback 1.4 TDI Adrenalin 66 kW (90 CV</td>\n",
       "      <td>Sedans</td>\n",
       "      <td>15900</td>\n",
       "      <td>VAT deductible</td>\n",
       "      <td>6,500 km</td>\n",
       "      <td>07/2018</td>\n",
       "      <td>None</td>\n",
       "      <td>NaN</td>\n",
       "      <td>66 kW</td>\n",
       "      <td>[, Used, , Diesel]</td>\n",
       "      <td>NaN</td>\n",
       "      <td>NaN</td>\n",
       "      <td>NaN</td>\n",
       "      <td>\\n60 months\\n</td>\n",
       "      <td>NaN</td>\n",
       "      <td>NaN</td>\n",
       "      <td>[]</td>\n",
       "      <td>\\nAudi\\n</td>\n",
       "      <td>[\\n, A1, \\n]</td>\n",
       "      <td>[\\n4800191\\n]</td>\n",
       "      <td>[\\n, 2018, \\n]</td>\n",
       "      <td>[\\n, White, \\n]</td>\n",
       "      <td>[\\nMetallic\\n]</td>\n",
       "      <td>[\\nBlanco\\n]</td>\n",
       "      <td>NaN</td>\n",
       "      <td>[\\n, Sedans, \\n]</td>\n",
       "      <td>[\\n5\\n]</td>\n",
       "      <td>[\\n5\\n]</td>\n",
       "      <td>NaN</td>\n",
       "      <td>[\\n, Manual, \\n]</td>\n",
       "      <td>[\\n1,422 cc\\n]</td>\n",
       "      <td>[\\n3\\n]</td>\n",
       "      <td>[\\n1,640 kg\\n]</td>\n",
       "      <td>NaN</td>\n",
       "      <td>[\\n, Diesel, \\n]</td>\n",
       "      <td>[[3.7 l/100 km (comb)], [3.9 l/100 km (city)],...</td>\n",
       "      <td>[\\n98 g CO2/km (comb)\\n]</td>\n",
       "      <td>[\\nEuro 6\\n]</td>\n",
       "      <td>[Air conditioning, Automatic climate control, ...</td>\n",
       "      <td>[Radio]</td>\n",
       "      <td>[Alloy wheels]</td>\n",
       "      <td>[ABS, Central door lock, Daytime running light...</td>\n",
       "      <td>[\\n, Equipamiento incluido, 1*PRECIO SUJETO A ...</td>\n",
       "      <td>NaN</td>\n",
       "      <td>[\\n5\\n]</td>\n",
       "      <td>[\\nSpain\\n]</td>\n",
       "      <td>NaN</td>\n",
       "      <td>NaN</td>\n",
       "      <td>NaN</td>\n",
       "      <td>NaN</td>\n",
       "      <td>NaN</td>\n",
       "      <td>NaN</td>\n",
       "    </tr>\n",
       "    <tr>\n",
       "      <th>7813</th>\n",
       "      <td>https://www.autoscout24.com//offers/opel-astra...</td>\n",
       "      <td>Opel Astra</td>\n",
       "      <td>5trg 120 Jahre 1.4 Autom./Klima/Intelli</td>\n",
       "      <td>Sedans</td>\n",
       "      <td>23940</td>\n",
       "      <td>VAT deductible</td>\n",
       "      <td>12 km</td>\n",
       "      <td>04/2019</td>\n",
       "      <td>None</td>\n",
       "      <td>NaN</td>\n",
       "      <td>110 kW</td>\n",
       "      <td>[, Pre-registered, , Super 95]</td>\n",
       "      <td>NaN</td>\n",
       "      <td>NaN</td>\n",
       "      <td>\\nYes\\n</td>\n",
       "      <td>[\\n, \\n, \\n134 g CO2/km (comb)\\n]</td>\n",
       "      <td>[\\n, \\n, \\nEuro 6d-TEMP\\n]</td>\n",
       "      <td>NaN</td>\n",
       "      <td>[]</td>\n",
       "      <td>\\nOpel\\n</td>\n",
       "      <td>[\\n, Astra, \\n]</td>\n",
       "      <td>[\\n00-11-95954\\n]</td>\n",
       "      <td>[\\n, 2019, \\n]</td>\n",
       "      <td>[\\n, Black, \\n]</td>\n",
       "      <td>[\\nMetallic\\n]</td>\n",
       "      <td>[\\nONYX SCHWARZ (METALLIC)\\n]</td>\n",
       "      <td>[\\nCloth, Black\\n]</td>\n",
       "      <td>[\\n, Sedans, \\n]</td>\n",
       "      <td>[\\n5\\n]</td>\n",
       "      <td>[\\n5\\n]</td>\n",
       "      <td>NaN</td>\n",
       "      <td>[\\n, Automatic, \\n]</td>\n",
       "      <td>[\\n1,398 cc\\n]</td>\n",
       "      <td>[\\n4\\n]</td>\n",
       "      <td>[\\n1,308 kg\\n]</td>\n",
       "      <td>[\\nfront\\n]</td>\n",
       "      <td>[\\n, Super 95, \\n]</td>\n",
       "      <td>[[5.9 l/100 km (comb)], [7.4 l/100 km (city)],...</td>\n",
       "      <td>[\\n134 g CO2/km (comb)\\n]</td>\n",
       "      <td>[\\nEuro 6d-TEMP\\n]</td>\n",
       "      <td>[Air conditioning, Armrest, Automatic climate ...</td>\n",
       "      <td>[On-board computer, Radio, USB]</td>\n",
       "      <td>[Alloy wheels, Catalytic Converter]</td>\n",
       "      <td>[ABS, Central door lock, Daytime running light...</td>\n",
       "      <td>[\\nFahrzeug-Nr: 00-11-95954,  ,  , Media,  , R...</td>\n",
       "      <td>[\\n4 (Green)\\n]</td>\n",
       "      <td>[\\n6\\n]</td>\n",
       "      <td>[\\nGermany\\n]</td>\n",
       "      <td>NaN</td>\n",
       "      <td>NaN</td>\n",
       "      <td>NaN</td>\n",
       "      <td>NaN</td>\n",
       "      <td>NaN</td>\n",
       "      <td>NaN</td>\n",
       "    </tr>\n",
       "    <tr>\n",
       "      <th>4300</th>\n",
       "      <td>https://www.autoscout24.com//offers/audi-a3-1-...</td>\n",
       "      <td>Audi A3</td>\n",
       "      <td>1.6 TDI Sport- UFFICIALE AUDI -PRONTA CONSEGNA</td>\n",
       "      <td>Sedans</td>\n",
       "      <td>17990</td>\n",
       "      <td>None</td>\n",
       "      <td>26,000 km</td>\n",
       "      <td>06/2017</td>\n",
       "      <td>1 previous owner</td>\n",
       "      <td>NaN</td>\n",
       "      <td>81 kW</td>\n",
       "      <td>[, Used, , Diesel]</td>\n",
       "      <td>\\n1\\n</td>\n",
       "      <td>NaN</td>\n",
       "      <td>NaN</td>\n",
       "      <td>[\\n12 months\\n, \\n107 g CO2/km (comb)\\n]</td>\n",
       "      <td>[\\n, \\n, \\nEuro 6\\n]</td>\n",
       "      <td>[\\n, \\n]</td>\n",
       "      <td>[]</td>\n",
       "      <td>\\nAudi\\n</td>\n",
       "      <td>[\\n, A3, \\n]</td>\n",
       "      <td>NaN</td>\n",
       "      <td>[\\n, 2017, \\n]</td>\n",
       "      <td>[\\n, White, \\n]</td>\n",
       "      <td>NaN</td>\n",
       "      <td>NaN</td>\n",
       "      <td>[\\nCloth, Black\\n]</td>\n",
       "      <td>[\\n, Sedans, \\n]</td>\n",
       "      <td>[\\n3\\n]</td>\n",
       "      <td>[\\n5\\n]</td>\n",
       "      <td>NaN</td>\n",
       "      <td>[\\n, Manual, \\n]</td>\n",
       "      <td>[\\n1,598 cc\\n]</td>\n",
       "      <td>[\\n4\\n]</td>\n",
       "      <td>[\\n1,310 kg\\n]</td>\n",
       "      <td>[\\nfront\\n]</td>\n",
       "      <td>[\\n, Diesel, \\n]</td>\n",
       "      <td>[[4 l/100 km (comb)], [4.7 l/100 km (city)], [...</td>\n",
       "      <td>[\\n107 g CO2/km (comb)\\n]</td>\n",
       "      <td>[\\nEuro 6\\n]</td>\n",
       "      <td>[Air conditioning, Armrest, Auxiliary heating,...</td>\n",
       "      <td>[Bluetooth, Hands-free equipment, MP3, On-boar...</td>\n",
       "      <td>[Alloy wheels]</td>\n",
       "      <td>[ABS, Alarm system, Central door lock, Central...</td>\n",
       "      <td>[\\nPRONTA CONSEGNA, CHIAMARE O MANDARE EMAIL P...</td>\n",
       "      <td>NaN</td>\n",
       "      <td>[\\n6\\n]</td>\n",
       "      <td>[\\nItaly\\n]</td>\n",
       "      <td>NaN</td>\n",
       "      <td>NaN</td>\n",
       "      <td>NaN</td>\n",
       "      <td>NaN</td>\n",
       "      <td>NaN</td>\n",
       "      <td>NaN</td>\n",
       "    </tr>\n",
       "  </tbody>\n",
       "</table>\n",
       "</div>"
      ],
      "text/plain": [
       "                                                    url  make_model  \\\n",
       "1205  https://www.autoscout24.com//offers/audi-a1-sp...     Audi A1   \n",
       "7813  https://www.autoscout24.com//offers/opel-astra...  Opel Astra   \n",
       "4300  https://www.autoscout24.com//offers/audi-a3-1-...     Audi A3   \n",
       "\n",
       "                                   short_description body_type  price  \\\n",
       "1205        Sportback 1.4 TDI Adrenalin 66 kW (90 CV    Sedans  15900   \n",
       "7813         5trg 120 Jahre 1.4 Autom./Klima/Intelli    Sedans  23940   \n",
       "4300  1.6 TDI Sport- UFFICIALE AUDI -PRONTA CONSEGNA    Sedans  17990   \n",
       "\n",
       "                 vat         km registration        prev_owner  kW      hp  \\\n",
       "1205  VAT deductible   6,500 km      07/2018              None NaN   66 kW   \n",
       "7813  VAT deductible      12 km      04/2019              None NaN  110 kW   \n",
       "4300            None  26,000 km      06/2017  1 previous owner NaN   81 kW   \n",
       "\n",
       "                                Type Previous Owners Next Inspection  \\\n",
       "1205              [, Used, , Diesel]             NaN             NaN   \n",
       "7813  [, Pre-registered, , Super 95]             NaN             NaN   \n",
       "4300              [, Used, , Diesel]           \\n1\\n             NaN   \n",
       "\n",
       "     Inspection new                                  Warranty  \\\n",
       "1205            NaN                             \\n60 months\\n   \n",
       "7813        \\nYes\\n         [\\n, \\n, \\n134 g CO2/km (comb)\\n]   \n",
       "4300            NaN  [\\n12 months\\n, \\n107 g CO2/km (comb)\\n]   \n",
       "\n",
       "                    Full Service Non-smoking Vehicle null      Make  \\\n",
       "1205                         NaN                 NaN   []  \\nAudi\\n   \n",
       "7813  [\\n, \\n, \\nEuro 6d-TEMP\\n]                 NaN   []  \\nOpel\\n   \n",
       "4300        [\\n, \\n, \\nEuro 6\\n]            [\\n, \\n]   []  \\nAudi\\n   \n",
       "\n",
       "                Model       Offer Number First Registration       Body Color  \\\n",
       "1205     [\\n, A1, \\n]      [\\n4800191\\n]     [\\n, 2018, \\n]  [\\n, White, \\n]   \n",
       "7813  [\\n, Astra, \\n]  [\\n00-11-95954\\n]     [\\n, 2019, \\n]  [\\n, Black, \\n]   \n",
       "4300     [\\n, A3, \\n]                NaN     [\\n, 2017, \\n]  [\\n, White, \\n]   \n",
       "\n",
       "          Paint Type            Body Color Original          Upholstery  \\\n",
       "1205  [\\nMetallic\\n]                   [\\nBlanco\\n]                 NaN   \n",
       "7813  [\\nMetallic\\n]  [\\nONYX SCHWARZ (METALLIC)\\n]  [\\nCloth, Black\\n]   \n",
       "4300             NaN                            NaN  [\\nCloth, Black\\n]   \n",
       "\n",
       "                  Body Nr. of Doors Nr. of Seats Model Code  \\\n",
       "1205  [\\n, Sedans, \\n]      [\\n5\\n]      [\\n5\\n]        NaN   \n",
       "7813  [\\n, Sedans, \\n]      [\\n5\\n]      [\\n5\\n]        NaN   \n",
       "4300  [\\n, Sedans, \\n]      [\\n3\\n]      [\\n5\\n]        NaN   \n",
       "\n",
       "             Gearing Type    Displacement Cylinders          Weight  \\\n",
       "1205     [\\n, Manual, \\n]  [\\n1,422 cc\\n]   [\\n3\\n]  [\\n1,640 kg\\n]   \n",
       "7813  [\\n, Automatic, \\n]  [\\n1,398 cc\\n]   [\\n4\\n]  [\\n1,308 kg\\n]   \n",
       "4300     [\\n, Manual, \\n]  [\\n1,598 cc\\n]   [\\n4\\n]  [\\n1,310 kg\\n]   \n",
       "\n",
       "      Drive chain                Fuel  \\\n",
       "1205          NaN    [\\n, Diesel, \\n]   \n",
       "7813  [\\nfront\\n]  [\\n, Super 95, \\n]   \n",
       "4300  [\\nfront\\n]    [\\n, Diesel, \\n]   \n",
       "\n",
       "                                            Consumption  \\\n",
       "1205  [[3.7 l/100 km (comb)], [3.9 l/100 km (city)],...   \n",
       "7813  [[5.9 l/100 km (comb)], [7.4 l/100 km (city)],...   \n",
       "4300  [[4 l/100 km (comb)], [4.7 l/100 km (city)], [...   \n",
       "\n",
       "                   CO2 Emission      Emission Class  \\\n",
       "1205   [\\n98 g CO2/km (comb)\\n]        [\\nEuro 6\\n]   \n",
       "7813  [\\n134 g CO2/km (comb)\\n]  [\\nEuro 6d-TEMP\\n]   \n",
       "4300  [\\n107 g CO2/km (comb)\\n]        [\\nEuro 6\\n]   \n",
       "\n",
       "                              \\nComfort & Convenience\\n  \\\n",
       "1205  [Air conditioning, Automatic climate control, ...   \n",
       "7813  [Air conditioning, Armrest, Automatic climate ...   \n",
       "4300  [Air conditioning, Armrest, Auxiliary heating,...   \n",
       "\n",
       "                              \\nEntertainment & Media\\n  \\\n",
       "1205                                            [Radio]   \n",
       "7813                    [On-board computer, Radio, USB]   \n",
       "4300  [Bluetooth, Hands-free equipment, MP3, On-boar...   \n",
       "\n",
       "                               \\nExtras\\n  \\\n",
       "1205                       [Alloy wheels]   \n",
       "7813  [Alloy wheels, Catalytic Converter]   \n",
       "4300                       [Alloy wheels]   \n",
       "\n",
       "                                  \\nSafety & Security\\n  \\\n",
       "1205  [ABS, Central door lock, Daytime running light...   \n",
       "7813  [ABS, Central door lock, Daytime running light...   \n",
       "4300  [ABS, Alarm system, Central door lock, Central...   \n",
       "\n",
       "                                            description   Emission Label  \\\n",
       "1205  [\\n, Equipamiento incluido, 1*PRECIO SUJETO A ...              NaN   \n",
       "7813  [\\nFahrzeug-Nr: 00-11-95954,  ,  , Media,  , R...  [\\n4 (Green)\\n]   \n",
       "4300  [\\nPRONTA CONSEGNA, CHIAMARE O MANDARE EMAIL P...              NaN   \n",
       "\n",
       "        Gears Country version Electricity consumption Last Service Date  \\\n",
       "1205  [\\n5\\n]     [\\nSpain\\n]                     NaN               NaN   \n",
       "7813  [\\n6\\n]   [\\nGermany\\n]                     NaN               NaN   \n",
       "4300  [\\n6\\n]     [\\nItaly\\n]                     NaN               NaN   \n",
       "\n",
       "     Other Fuel Types Availability Last Timing Belt Service Date  \\\n",
       "1205              NaN          NaN                           NaN   \n",
       "7813              NaN          NaN                           NaN   \n",
       "4300              NaN          NaN                           NaN   \n",
       "\n",
       "     Available from  \n",
       "1205            NaN  \n",
       "7813            NaN  \n",
       "4300            NaN  "
      ]
     },
     "execution_count": 3,
     "metadata": {},
     "output_type": "execute_result"
    }
   ],
   "source": [
    "df.sample(3)"
   ]
  },
  {
   "cell_type": "code",
   "execution_count": 4,
   "id": "4b246fc9-2d9c-455e-81c2-6422c79998f6",
   "metadata": {},
   "outputs": [
    {
     "name": "stderr",
     "output_type": "stream",
     "text": [
      "<ipython-input-4-00e2184ea1be>:1: FutureWarning: The default value of regex will change from True to False in a future version. In addition, single character regular expressions will*not* be treated as literal strings when regex=True.\n",
      "  df.columns = df.columns.str.lower().str.replace(' ','_').str.replace('.','').str.replace('\\n','').str.replace('_&','')\n"
     ]
    },
    {
     "data": {
      "text/html": [
       "<div>\n",
       "<style scoped>\n",
       "    .dataframe tbody tr th:only-of-type {\n",
       "        vertical-align: middle;\n",
       "    }\n",
       "\n",
       "    .dataframe tbody tr th {\n",
       "        vertical-align: top;\n",
       "    }\n",
       "\n",
       "    .dataframe thead th {\n",
       "        text-align: right;\n",
       "    }\n",
       "</style>\n",
       "<table border=\"1\" class=\"dataframe\">\n",
       "  <thead>\n",
       "    <tr style=\"text-align: right;\">\n",
       "      <th></th>\n",
       "      <th>13632</th>\n",
       "      <th>14266</th>\n",
       "      <th>14593</th>\n",
       "    </tr>\n",
       "  </thead>\n",
       "  <tbody>\n",
       "    <tr>\n",
       "      <th>url</th>\n",
       "      <td>https://www.autoscout24.com//offers/renault-cl...</td>\n",
       "      <td>https://www.autoscout24.com//offers/renault-cl...</td>\n",
       "      <td>https://www.autoscout24.com//offers/renault-cl...</td>\n",
       "    </tr>\n",
       "    <tr>\n",
       "      <th>make_model</th>\n",
       "      <td>Renault Clio</td>\n",
       "      <td>Renault Clio</td>\n",
       "      <td>Renault Clio</td>\n",
       "    </tr>\n",
       "    <tr>\n",
       "      <th>short_description</th>\n",
       "      <td>1.5 DCI 85 CV</td>\n",
       "      <td>1.2 75 CV 5 porte</td>\n",
       "      <td>Sporter 1.5 dCi 90CV Zen , NAVI - AZIENDALE</td>\n",
       "    </tr>\n",
       "    <tr>\n",
       "      <th>body_type</th>\n",
       "      <td>Station wagon</td>\n",
       "      <td>Sedans</td>\n",
       "      <td>Station wagon</td>\n",
       "    </tr>\n",
       "    <tr>\n",
       "      <th>price</th>\n",
       "      <td>7900</td>\n",
       "      <td>9990</td>\n",
       "      <td>10450</td>\n",
       "    </tr>\n",
       "    <tr>\n",
       "      <th>vat</th>\n",
       "      <td>None</td>\n",
       "      <td>VAT deductible</td>\n",
       "      <td>VAT deductible</td>\n",
       "    </tr>\n",
       "    <tr>\n",
       "      <th>km</th>\n",
       "      <td>135,050 km</td>\n",
       "      <td>26,000 km</td>\n",
       "      <td>39,500 km</td>\n",
       "    </tr>\n",
       "    <tr>\n",
       "      <th>registration</th>\n",
       "      <td>05/2016</td>\n",
       "      <td>06/2018</td>\n",
       "      <td>04/2018</td>\n",
       "    </tr>\n",
       "    <tr>\n",
       "      <th>prev_owner</th>\n",
       "      <td>None</td>\n",
       "      <td>None</td>\n",
       "      <td>None</td>\n",
       "    </tr>\n",
       "    <tr>\n",
       "      <th>kw</th>\n",
       "      <td>NaN</td>\n",
       "      <td>NaN</td>\n",
       "      <td>NaN</td>\n",
       "    </tr>\n",
       "    <tr>\n",
       "      <th>hp</th>\n",
       "      <td>63 kW</td>\n",
       "      <td>54 kW</td>\n",
       "      <td>66 kW</td>\n",
       "    </tr>\n",
       "    <tr>\n",
       "      <th>type</th>\n",
       "      <td>[, Used, , Diesel]</td>\n",
       "      <td>[, Used, , Gasoline]</td>\n",
       "      <td>[, Employee's car, , Diesel (Particulate Filter)]</td>\n",
       "    </tr>\n",
       "    <tr>\n",
       "      <th>previous_owners</th>\n",
       "      <td>NaN</td>\n",
       "      <td>NaN</td>\n",
       "      <td>NaN</td>\n",
       "    </tr>\n",
       "    <tr>\n",
       "      <th>next_inspection</th>\n",
       "      <td>NaN</td>\n",
       "      <td>NaN</td>\n",
       "      <td>NaN</td>\n",
       "    </tr>\n",
       "    <tr>\n",
       "      <th>inspection_new</th>\n",
       "      <td>NaN</td>\n",
       "      <td>NaN</td>\n",
       "      <td>NaN</td>\n",
       "    </tr>\n",
       "    <tr>\n",
       "      <th>warranty</th>\n",
       "      <td>\\n12 months\\n</td>\n",
       "      <td>\\n12 months\\n</td>\n",
       "      <td>\\n</td>\n",
       "    </tr>\n",
       "    <tr>\n",
       "      <th>full_service</th>\n",
       "      <td>NaN</td>\n",
       "      <td>[\\n, \\n, \\n127 g CO2/km (comb)\\n]</td>\n",
       "      <td>NaN</td>\n",
       "    </tr>\n",
       "    <tr>\n",
       "      <th>non-smoking_vehicle</th>\n",
       "      <td>[\\n, \\n]</td>\n",
       "      <td>NaN</td>\n",
       "      <td>NaN</td>\n",
       "    </tr>\n",
       "    <tr>\n",
       "      <th>null</th>\n",
       "      <td>[]</td>\n",
       "      <td>[]</td>\n",
       "      <td>[]</td>\n",
       "    </tr>\n",
       "    <tr>\n",
       "      <th>make</th>\n",
       "      <td>\\nRenault\\n</td>\n",
       "      <td>\\nRenault\\n</td>\n",
       "      <td>\\nRenault\\n</td>\n",
       "    </tr>\n",
       "    <tr>\n",
       "      <th>model</th>\n",
       "      <td>[\\n, Clio, \\n]</td>\n",
       "      <td>[\\n, Clio, \\n]</td>\n",
       "      <td>[\\n, Clio, \\n]</td>\n",
       "    </tr>\n",
       "    <tr>\n",
       "      <th>offer_number</th>\n",
       "      <td>NaN</td>\n",
       "      <td>[\\n10354580\\n]</td>\n",
       "      <td>[\\n2603853\\n]</td>\n",
       "    </tr>\n",
       "    <tr>\n",
       "      <th>first_registration</th>\n",
       "      <td>[\\n, 2016, \\n]</td>\n",
       "      <td>[\\n, 2018, \\n]</td>\n",
       "      <td>[\\n, 2018, \\n]</td>\n",
       "    </tr>\n",
       "    <tr>\n",
       "      <th>body_color</th>\n",
       "      <td>[\\n, White, \\n]</td>\n",
       "      <td>[\\n, Black, \\n]</td>\n",
       "      <td>[\\n, Grey, \\n]</td>\n",
       "    </tr>\n",
       "    <tr>\n",
       "      <th>paint_type</th>\n",
       "      <td>NaN</td>\n",
       "      <td>[\\nMetallic\\n]</td>\n",
       "      <td>NaN</td>\n",
       "    </tr>\n",
       "    <tr>\n",
       "      <th>body_color_original</th>\n",
       "      <td>[\\nBlanco\\n]</td>\n",
       "      <td>[\\nNero\\n]</td>\n",
       "      <td>[\\nGrigio\\n]</td>\n",
       "    </tr>\n",
       "    <tr>\n",
       "      <th>upholstery</th>\n",
       "      <td>NaN</td>\n",
       "      <td>NaN</td>\n",
       "      <td>[\\nCloth\\n]</td>\n",
       "    </tr>\n",
       "    <tr>\n",
       "      <th>body</th>\n",
       "      <td>[\\n, Station wagon, \\n]</td>\n",
       "      <td>[\\n, Sedans, \\n]</td>\n",
       "      <td>[\\n, Station wagon, \\n]</td>\n",
       "    </tr>\n",
       "    <tr>\n",
       "      <th>nr_of_doors</th>\n",
       "      <td>NaN</td>\n",
       "      <td>[\\n5\\n]</td>\n",
       "      <td>[\\n5\\n]</td>\n",
       "    </tr>\n",
       "    <tr>\n",
       "      <th>nr_of_seats</th>\n",
       "      <td>NaN</td>\n",
       "      <td>[\\n5\\n]</td>\n",
       "      <td>[\\n5\\n]</td>\n",
       "    </tr>\n",
       "    <tr>\n",
       "      <th>model_code</th>\n",
       "      <td>NaN</td>\n",
       "      <td>NaN</td>\n",
       "      <td>NaN</td>\n",
       "    </tr>\n",
       "    <tr>\n",
       "      <th>gearing_type</th>\n",
       "      <td>[\\n, Manual, \\n]</td>\n",
       "      <td>[\\n, Manual, \\n]</td>\n",
       "      <td>[\\n, Manual, \\n]</td>\n",
       "    </tr>\n",
       "    <tr>\n",
       "      <th>displacement</th>\n",
       "      <td>NaN</td>\n",
       "      <td>[\\n1,149 cc\\n]</td>\n",
       "      <td>[\\n1,461 cc\\n]</td>\n",
       "    </tr>\n",
       "    <tr>\n",
       "      <th>cylinders</th>\n",
       "      <td>NaN</td>\n",
       "      <td>[\\n4\\n]</td>\n",
       "      <td>NaN</td>\n",
       "    </tr>\n",
       "    <tr>\n",
       "      <th>weight</th>\n",
       "      <td>NaN</td>\n",
       "      <td>[\\n1,052 kg\\n]</td>\n",
       "      <td>[\\n1,119 kg\\n]</td>\n",
       "    </tr>\n",
       "    <tr>\n",
       "      <th>drive_chain</th>\n",
       "      <td>NaN</td>\n",
       "      <td>[\\nfront\\n]</td>\n",
       "      <td>[\\nfront\\n]</td>\n",
       "    </tr>\n",
       "    <tr>\n",
       "      <th>fuel</th>\n",
       "      <td>[\\n, Diesel, \\n]</td>\n",
       "      <td>[\\n, Gasoline, \\n]</td>\n",
       "      <td>[\\n, Diesel (Particulate Filter), \\n]</td>\n",
       "    </tr>\n",
       "    <tr>\n",
       "      <th>consumption</th>\n",
       "      <td>NaN</td>\n",
       "      <td>[[5.6 l/100 km (comb)], [7.2 l/100 km (city)],...</td>\n",
       "      <td>[[3.3 l/100 km (comb)], [3.7 l/100 km (city)],...</td>\n",
       "    </tr>\n",
       "    <tr>\n",
       "      <th>co2_emission</th>\n",
       "      <td>[[], [], []]</td>\n",
       "      <td>[\\n127 g CO2/km (comb)\\n]</td>\n",
       "      <td>[\\n85 g CO2/km (comb)\\n]</td>\n",
       "    </tr>\n",
       "    <tr>\n",
       "      <th>emission_class</th>\n",
       "      <td>NaN</td>\n",
       "      <td>[\\nEuro 6\\n]</td>\n",
       "      <td>[\\nEuro 6\\n]</td>\n",
       "    </tr>\n",
       "    <tr>\n",
       "      <th>comfort_convenience</th>\n",
       "      <td>NaN</td>\n",
       "      <td>[Air conditioning, Cruise control, Park Distan...</td>\n",
       "      <td>[Air conditioning, Cruise control, Electrical ...</td>\n",
       "    </tr>\n",
       "    <tr>\n",
       "      <th>entertainment_media</th>\n",
       "      <td>NaN</td>\n",
       "      <td>[Bluetooth, CD player, Hands-free equipment, O...</td>\n",
       "      <td>[Bluetooth, MP3, On-board computer, Radio, USB]</td>\n",
       "    </tr>\n",
       "    <tr>\n",
       "      <th>extras</th>\n",
       "      <td>NaN</td>\n",
       "      <td>NaN</td>\n",
       "      <td>[Roof rack]</td>\n",
       "    </tr>\n",
       "    <tr>\n",
       "      <th>safety_security</th>\n",
       "      <td>NaN</td>\n",
       "      <td>[ABS, Central door lock, Driver-side airbag, E...</td>\n",
       "      <td>[ABS, Central door lock, Driver-side airbag, E...</td>\n",
       "    </tr>\n",
       "    <tr>\n",
       "      <th>description</th>\n",
       "      <td>[\\nEQUIPADO CON NAVEGACION, CLIMA, BLUETOOTH, ...</td>\n",
       "      <td>[\\nPer info Paolo 3483326500, Test drive gratu...</td>\n",
       "      <td>[\\nDEK:[2603853], RIF: 1222833V, Renault Clio ...</td>\n",
       "    </tr>\n",
       "    <tr>\n",
       "      <th>emission_label</th>\n",
       "      <td>NaN</td>\n",
       "      <td>NaN</td>\n",
       "      <td>NaN</td>\n",
       "    </tr>\n",
       "    <tr>\n",
       "      <th>gears</th>\n",
       "      <td>NaN</td>\n",
       "      <td>[\\n5\\n]</td>\n",
       "      <td>[\\n5\\n]</td>\n",
       "    </tr>\n",
       "    <tr>\n",
       "      <th>country_version</th>\n",
       "      <td>NaN</td>\n",
       "      <td>NaN</td>\n",
       "      <td>NaN</td>\n",
       "    </tr>\n",
       "    <tr>\n",
       "      <th>electricity_consumption</th>\n",
       "      <td>NaN</td>\n",
       "      <td>NaN</td>\n",
       "      <td>NaN</td>\n",
       "    </tr>\n",
       "    <tr>\n",
       "      <th>last_service_date</th>\n",
       "      <td>NaN</td>\n",
       "      <td>NaN</td>\n",
       "      <td>NaN</td>\n",
       "    </tr>\n",
       "    <tr>\n",
       "      <th>other_fuel_types</th>\n",
       "      <td>NaN</td>\n",
       "      <td>NaN</td>\n",
       "      <td>NaN</td>\n",
       "    </tr>\n",
       "    <tr>\n",
       "      <th>availability</th>\n",
       "      <td>NaN</td>\n",
       "      <td>NaN</td>\n",
       "      <td>NaN</td>\n",
       "    </tr>\n",
       "    <tr>\n",
       "      <th>last_timing_belt_service_date</th>\n",
       "      <td>NaN</td>\n",
       "      <td>NaN</td>\n",
       "      <td>NaN</td>\n",
       "    </tr>\n",
       "    <tr>\n",
       "      <th>available_from</th>\n",
       "      <td>NaN</td>\n",
       "      <td>NaN</td>\n",
       "      <td>NaN</td>\n",
       "    </tr>\n",
       "  </tbody>\n",
       "</table>\n",
       "</div>"
      ],
      "text/plain": [
       "                                                                           13632  \\\n",
       "url                            https://www.autoscout24.com//offers/renault-cl...   \n",
       "make_model                                                          Renault Clio   \n",
       "short_description                                                  1.5 DCI 85 CV   \n",
       "body_type                                                          Station wagon   \n",
       "price                                                                       7900   \n",
       "vat                                                                         None   \n",
       "km                                                                    135,050 km   \n",
       "registration                                                             05/2016   \n",
       "prev_owner                                                                  None   \n",
       "kw                                                                           NaN   \n",
       "hp                                                                         63 kW   \n",
       "type                                                          [, Used, , Diesel]   \n",
       "previous_owners                                                              NaN   \n",
       "next_inspection                                                              NaN   \n",
       "inspection_new                                                               NaN   \n",
       "warranty                                                           \\n12 months\\n   \n",
       "full_service                                                                 NaN   \n",
       "non-smoking_vehicle                                                     [\\n, \\n]   \n",
       "null                                                                          []   \n",
       "make                                                                 \\nRenault\\n   \n",
       "model                                                             [\\n, Clio, \\n]   \n",
       "offer_number                                                                 NaN   \n",
       "first_registration                                                [\\n, 2016, \\n]   \n",
       "body_color                                                       [\\n, White, \\n]   \n",
       "paint_type                                                                   NaN   \n",
       "body_color_original                                                 [\\nBlanco\\n]   \n",
       "upholstery                                                                   NaN   \n",
       "body                                                     [\\n, Station wagon, \\n]   \n",
       "nr_of_doors                                                                  NaN   \n",
       "nr_of_seats                                                                  NaN   \n",
       "model_code                                                                   NaN   \n",
       "gearing_type                                                    [\\n, Manual, \\n]   \n",
       "displacement                                                                 NaN   \n",
       "cylinders                                                                    NaN   \n",
       "weight                                                                       NaN   \n",
       "drive_chain                                                                  NaN   \n",
       "fuel                                                            [\\n, Diesel, \\n]   \n",
       "consumption                                                                  NaN   \n",
       "co2_emission                                                        [[], [], []]   \n",
       "emission_class                                                               NaN   \n",
       "comfort_convenience                                                          NaN   \n",
       "entertainment_media                                                          NaN   \n",
       "extras                                                                       NaN   \n",
       "safety_security                                                              NaN   \n",
       "description                    [\\nEQUIPADO CON NAVEGACION, CLIMA, BLUETOOTH, ...   \n",
       "emission_label                                                               NaN   \n",
       "gears                                                                        NaN   \n",
       "country_version                                                              NaN   \n",
       "electricity_consumption                                                      NaN   \n",
       "last_service_date                                                            NaN   \n",
       "other_fuel_types                                                             NaN   \n",
       "availability                                                                 NaN   \n",
       "last_timing_belt_service_date                                                NaN   \n",
       "available_from                                                               NaN   \n",
       "\n",
       "                                                                           14266  \\\n",
       "url                            https://www.autoscout24.com//offers/renault-cl...   \n",
       "make_model                                                          Renault Clio   \n",
       "short_description                                              1.2 75 CV 5 porte   \n",
       "body_type                                                                 Sedans   \n",
       "price                                                                       9990   \n",
       "vat                                                               VAT deductible   \n",
       "km                                                                     26,000 km   \n",
       "registration                                                             06/2018   \n",
       "prev_owner                                                                  None   \n",
       "kw                                                                           NaN   \n",
       "hp                                                                         54 kW   \n",
       "type                                                        [, Used, , Gasoline]   \n",
       "previous_owners                                                              NaN   \n",
       "next_inspection                                                              NaN   \n",
       "inspection_new                                                               NaN   \n",
       "warranty                                                           \\n12 months\\n   \n",
       "full_service                                   [\\n, \\n, \\n127 g CO2/km (comb)\\n]   \n",
       "non-smoking_vehicle                                                          NaN   \n",
       "null                                                                          []   \n",
       "make                                                                 \\nRenault\\n   \n",
       "model                                                             [\\n, Clio, \\n]   \n",
       "offer_number                                                      [\\n10354580\\n]   \n",
       "first_registration                                                [\\n, 2018, \\n]   \n",
       "body_color                                                       [\\n, Black, \\n]   \n",
       "paint_type                                                        [\\nMetallic\\n]   \n",
       "body_color_original                                                   [\\nNero\\n]   \n",
       "upholstery                                                                   NaN   \n",
       "body                                                            [\\n, Sedans, \\n]   \n",
       "nr_of_doors                                                              [\\n5\\n]   \n",
       "nr_of_seats                                                              [\\n5\\n]   \n",
       "model_code                                                                   NaN   \n",
       "gearing_type                                                    [\\n, Manual, \\n]   \n",
       "displacement                                                      [\\n1,149 cc\\n]   \n",
       "cylinders                                                                [\\n4\\n]   \n",
       "weight                                                            [\\n1,052 kg\\n]   \n",
       "drive_chain                                                          [\\nfront\\n]   \n",
       "fuel                                                          [\\n, Gasoline, \\n]   \n",
       "consumption                    [[5.6 l/100 km (comb)], [7.2 l/100 km (city)],...   \n",
       "co2_emission                                           [\\n127 g CO2/km (comb)\\n]   \n",
       "emission_class                                                      [\\nEuro 6\\n]   \n",
       "comfort_convenience            [Air conditioning, Cruise control, Park Distan...   \n",
       "entertainment_media            [Bluetooth, CD player, Hands-free equipment, O...   \n",
       "extras                                                                       NaN   \n",
       "safety_security                [ABS, Central door lock, Driver-side airbag, E...   \n",
       "description                    [\\nPer info Paolo 3483326500, Test drive gratu...   \n",
       "emission_label                                                               NaN   \n",
       "gears                                                                    [\\n5\\n]   \n",
       "country_version                                                              NaN   \n",
       "electricity_consumption                                                      NaN   \n",
       "last_service_date                                                            NaN   \n",
       "other_fuel_types                                                             NaN   \n",
       "availability                                                                 NaN   \n",
       "last_timing_belt_service_date                                                NaN   \n",
       "available_from                                                               NaN   \n",
       "\n",
       "                                                                           14593  \n",
       "url                            https://www.autoscout24.com//offers/renault-cl...  \n",
       "make_model                                                          Renault Clio  \n",
       "short_description                    Sporter 1.5 dCi 90CV Zen , NAVI - AZIENDALE  \n",
       "body_type                                                          Station wagon  \n",
       "price                                                                      10450  \n",
       "vat                                                               VAT deductible  \n",
       "km                                                                     39,500 km  \n",
       "registration                                                             04/2018  \n",
       "prev_owner                                                                  None  \n",
       "kw                                                                           NaN  \n",
       "hp                                                                         66 kW  \n",
       "type                           [, Employee's car, , Diesel (Particulate Filter)]  \n",
       "previous_owners                                                              NaN  \n",
       "next_inspection                                                              NaN  \n",
       "inspection_new                                                               NaN  \n",
       "warranty                                                                      \\n  \n",
       "full_service                                                                 NaN  \n",
       "non-smoking_vehicle                                                          NaN  \n",
       "null                                                                          []  \n",
       "make                                                                 \\nRenault\\n  \n",
       "model                                                             [\\n, Clio, \\n]  \n",
       "offer_number                                                       [\\n2603853\\n]  \n",
       "first_registration                                                [\\n, 2018, \\n]  \n",
       "body_color                                                        [\\n, Grey, \\n]  \n",
       "paint_type                                                                   NaN  \n",
       "body_color_original                                                 [\\nGrigio\\n]  \n",
       "upholstery                                                           [\\nCloth\\n]  \n",
       "body                                                     [\\n, Station wagon, \\n]  \n",
       "nr_of_doors                                                              [\\n5\\n]  \n",
       "nr_of_seats                                                              [\\n5\\n]  \n",
       "model_code                                                                   NaN  \n",
       "gearing_type                                                    [\\n, Manual, \\n]  \n",
       "displacement                                                      [\\n1,461 cc\\n]  \n",
       "cylinders                                                                    NaN  \n",
       "weight                                                            [\\n1,119 kg\\n]  \n",
       "drive_chain                                                          [\\nfront\\n]  \n",
       "fuel                                       [\\n, Diesel (Particulate Filter), \\n]  \n",
       "consumption                    [[3.3 l/100 km (comb)], [3.7 l/100 km (city)],...  \n",
       "co2_emission                                            [\\n85 g CO2/km (comb)\\n]  \n",
       "emission_class                                                      [\\nEuro 6\\n]  \n",
       "comfort_convenience            [Air conditioning, Cruise control, Electrical ...  \n",
       "entertainment_media              [Bluetooth, MP3, On-board computer, Radio, USB]  \n",
       "extras                                                               [Roof rack]  \n",
       "safety_security                [ABS, Central door lock, Driver-side airbag, E...  \n",
       "description                    [\\nDEK:[2603853], RIF: 1222833V, Renault Clio ...  \n",
       "emission_label                                                               NaN  \n",
       "gears                                                                    [\\n5\\n]  \n",
       "country_version                                                              NaN  \n",
       "electricity_consumption                                                      NaN  \n",
       "last_service_date                                                            NaN  \n",
       "other_fuel_types                                                             NaN  \n",
       "availability                                                                 NaN  \n",
       "last_timing_belt_service_date                                                NaN  \n",
       "available_from                                                               NaN  "
      ]
     },
     "execution_count": 4,
     "metadata": {},
     "output_type": "execute_result"
    }
   ],
   "source": [
    "df.columns = df.columns.str.lower().str.replace(' ','_').str.replace('.','').str.replace('\\n','').str.replace('_&','')\n",
    "df.sample(3).T"
   ]
  },
  {
   "cell_type": "code",
   "execution_count": 5,
   "id": "af4fe83c-5222-4931-ad18-3eb8bbf39e07",
   "metadata": {},
   "outputs": [],
   "source": [
    "df.drop(\"url\", axis=1, inplace=True)  # url is unique for each row. so it is like index column. we won't need it during machine learning process."
   ]
  },
  {
   "cell_type": "code",
   "execution_count": 6,
   "id": "99a315d6-9dd4-463d-bff1-c82e4fcac503",
   "metadata": {},
   "outputs": [
    {
     "data": {
      "text/plain": [
       "make_model                         0.000000\n",
       "short_description                  0.288963\n",
       "body_type                          0.376908\n",
       "price                              0.000000\n",
       "vat                               28.349771\n",
       "km                                 0.000000\n",
       "registration                       0.000000\n",
       "prev_owner                        42.892141\n",
       "kw                               100.000000\n",
       "hp                                 0.000000\n",
       "type                               0.012564\n",
       "previous_owners                   41.711163\n",
       "next_inspection                   77.793831\n",
       "inspection_new                    75.299956\n",
       "warranty                          34.047365\n",
       "full_service                      48.395000\n",
       "non-smoking_vehicle               54.915510\n",
       "null                               0.000000\n",
       "make                               0.000000\n",
       "model                              0.000000\n",
       "offer_number                      19.944720\n",
       "first_registration                10.032037\n",
       "body_color                         3.750236\n",
       "paint_type                        36.258559\n",
       "body_color_original               23.613292\n",
       "upholstery                        23.368302\n",
       "body                               0.376908\n",
       "nr_of_doors                        1.331742\n",
       "nr_of_seats                        6.137320\n",
       "model_code                        68.729192\n",
       "gearing_type                       0.000000\n",
       "displacement                       3.115774\n",
       "cylinders                         35.680633\n",
       "weight                            43.809285\n",
       "drive_chain                       43.080596\n",
       "fuel                               0.000000\n",
       "consumption                       11.973114\n",
       "co2_emission                      11.357497\n",
       "emission_class                    18.977323\n",
       "comfort_convenience                5.779257\n",
       "entertainment_media                8.631195\n",
       "extras                            18.606696\n",
       "safety_security                    6.168729\n",
       "description                        0.000000\n",
       "emission_label                    74.967021\n",
       "gears                             29.599849\n",
       "country_version                   52.346253\n",
       "electricity_consumption           99.139393\n",
       "last_service_date                 96.444500\n",
       "other_fuel_types                  94.472015\n",
       "availability                      96.011056\n",
       "last_timing_belt_service_date     99.899491\n",
       "available_from                    98.291350\n",
       "dtype: float64"
      ]
     },
     "execution_count": 6,
     "metadata": {},
     "output_type": "execute_result"
    }
   ],
   "source": [
    "df.isnull().sum()/len(df)*100"
   ]
  },
  {
   "cell_type": "markdown",
   "id": "78415f92-a30b-41b8-ad09-01d14dc8bab6",
   "metadata": {},
   "source": [
    "The columns with more than %90 persentage of null values won't be usefull for us. So we can drop them."
   ]
  },
  {
   "cell_type": "code",
   "execution_count": 7,
   "id": "ad5fc4e1-450e-4317-970b-bc168feac8f7",
   "metadata": {},
   "outputs": [],
   "source": [
    "df.drop([\"kw\",\"electricity_consumption\",\"last_service_date\", \"other_fuel_types\" ,\"availability\" ,\"last_timing_belt_service_date\",\"available_from\"], axis=1,inplace=True)"
   ]
  },
  {
   "cell_type": "markdown",
   "id": "7078a1ab-8c9a-4a9d-b5e6-2f80b47278bb",
   "metadata": {},
   "source": [
    "## make_model"
   ]
  },
  {
   "cell_type": "code",
   "execution_count": 8,
   "id": "019a1102-6d4c-4296-8148-330d88a8d230",
   "metadata": {},
   "outputs": [
    {
     "data": {
      "text/plain": [
       "Audi A3           3097\n",
       "Audi A1           2614\n",
       "Opel Insignia     2598\n",
       "Opel Astra        2526\n",
       "Opel Corsa        2219\n",
       "Renault Clio      1839\n",
       "Renault Espace     991\n",
       "Renault Duster      34\n",
       "Audi A2              1\n",
       "Name: make_model, dtype: int64"
      ]
     },
     "execution_count": 8,
     "metadata": {},
     "output_type": "execute_result"
    }
   ],
   "source": [
    "df.make_model.value_counts()"
   ]
  },
  {
   "cell_type": "markdown",
   "id": "5dacef75-d70e-4b82-9c5b-184730a47649",
   "metadata": {},
   "source": [
    "## make"
   ]
  },
  {
   "cell_type": "code",
   "execution_count": 9,
   "id": "cc95a433-e339-4e5f-9dfc-a4427609055f",
   "metadata": {},
   "outputs": [
    {
     "data": {
      "text/plain": [
       "703    Audi\n",
       "Name: make, dtype: object"
      ]
     },
     "execution_count": 9,
     "metadata": {},
     "output_type": "execute_result"
    }
   ],
   "source": [
    "df[\"make\"]=df[\"make\"].str.strip(\"\\n\")\n",
    "df[\"make\"].sample()"
   ]
  },
  {
   "cell_type": "markdown",
   "id": "25a1347d-5ffe-4230-be91-47f9cdd531ac",
   "metadata": {},
   "source": [
    "## model"
   ]
  },
  {
   "cell_type": "code",
   "execution_count": 10,
   "id": "09ed8275-d727-4032-9562-047739f3f8c4",
   "metadata": {},
   "outputs": [
    {
     "data": {
      "text/plain": [
       "A3          3097\n",
       "A1          2614\n",
       "Insignia    2598\n",
       "Astra       2526\n",
       "Corsa       2219\n",
       "Clio        1839\n",
       "Espace       991\n",
       "Duster        34\n",
       "A2             1\n",
       "Name: model, dtype: int64"
      ]
     },
     "execution_count": 10,
     "metadata": {},
     "output_type": "execute_result"
    }
   ],
   "source": [
    "df[\"model\"]= df[\"model\"].str[1]\n",
    "df[\"model\"].value_counts()"
   ]
  },
  {
   "cell_type": "code",
   "execution_count": null,
   "id": "56715163-965b-494d-bc24-f550e5d89f5c",
   "metadata": {},
   "outputs": [],
   "source": []
  },
  {
   "cell_type": "markdown",
   "id": "2dc6f403-d557-422f-b247-5a2bef8aa9fc",
   "metadata": {},
   "source": [
    "## short_description & description"
   ]
  },
  {
   "cell_type": "markdown",
   "id": "9a6b487d-2e9a-41e7-a920-5638a1f85f79",
   "metadata": {},
   "source": [
    "We could need the data in this column to fill the columns with missing values. But it would be overwhelming and right now, not necessary."
   ]
  },
  {
   "cell_type": "code",
   "execution_count": 11,
   "id": "b3b72005-6623-438f-a39c-3be5fa45520b",
   "metadata": {},
   "outputs": [],
   "source": [
    "df.drop([\"short_description\", \"description\"], axis=1, inplace=True)"
   ]
  },
  {
   "cell_type": "markdown",
   "id": "fd896e4f-3577-4985-a071-55450b72e2a6",
   "metadata": {},
   "source": [
    "## body_type & body"
   ]
  },
  {
   "cell_type": "code",
   "execution_count": 12,
   "id": "cc73476f-b34d-47f1-bd92-e34b27a76e4f",
   "metadata": {},
   "outputs": [
    {
     "data": {
      "text/html": [
       "<div>\n",
       "<style scoped>\n",
       "    .dataframe tbody tr th:only-of-type {\n",
       "        vertical-align: middle;\n",
       "    }\n",
       "\n",
       "    .dataframe tbody tr th {\n",
       "        vertical-align: top;\n",
       "    }\n",
       "\n",
       "    .dataframe thead th {\n",
       "        text-align: right;\n",
       "    }\n",
       "</style>\n",
       "<table border=\"1\" class=\"dataframe\">\n",
       "  <thead>\n",
       "    <tr style=\"text-align: right;\">\n",
       "      <th></th>\n",
       "      <th>body_type</th>\n",
       "      <th>body</th>\n",
       "    </tr>\n",
       "  </thead>\n",
       "  <tbody>\n",
       "    <tr>\n",
       "      <th>0</th>\n",
       "      <td>Sedans</td>\n",
       "      <td>[\\n, Sedans, \\n]</td>\n",
       "    </tr>\n",
       "    <tr>\n",
       "      <th>1</th>\n",
       "      <td>Sedans</td>\n",
       "      <td>[\\n, Sedans, \\n]</td>\n",
       "    </tr>\n",
       "    <tr>\n",
       "      <th>2</th>\n",
       "      <td>Sedans</td>\n",
       "      <td>[\\n, Sedans, \\n]</td>\n",
       "    </tr>\n",
       "    <tr>\n",
       "      <th>3</th>\n",
       "      <td>Sedans</td>\n",
       "      <td>[\\n, Sedans, \\n]</td>\n",
       "    </tr>\n",
       "    <tr>\n",
       "      <th>4</th>\n",
       "      <td>Sedans</td>\n",
       "      <td>[\\n, Sedans, \\n]</td>\n",
       "    </tr>\n",
       "    <tr>\n",
       "      <th>...</th>\n",
       "      <td>...</td>\n",
       "      <td>...</td>\n",
       "    </tr>\n",
       "    <tr>\n",
       "      <th>15914</th>\n",
       "      <td>Van</td>\n",
       "      <td>[\\n, Van, \\n]</td>\n",
       "    </tr>\n",
       "    <tr>\n",
       "      <th>15915</th>\n",
       "      <td>Van</td>\n",
       "      <td>[\\n, Van, \\n]</td>\n",
       "    </tr>\n",
       "    <tr>\n",
       "      <th>15916</th>\n",
       "      <td>Van</td>\n",
       "      <td>[\\n, Van, \\n]</td>\n",
       "    </tr>\n",
       "    <tr>\n",
       "      <th>15917</th>\n",
       "      <td>Van</td>\n",
       "      <td>[\\n, Van, \\n]</td>\n",
       "    </tr>\n",
       "    <tr>\n",
       "      <th>15918</th>\n",
       "      <td>Van</td>\n",
       "      <td>[\\n, Van, \\n]</td>\n",
       "    </tr>\n",
       "  </tbody>\n",
       "</table>\n",
       "<p>15919 rows × 2 columns</p>\n",
       "</div>"
      ],
      "text/plain": [
       "      body_type              body\n",
       "0        Sedans  [\\n, Sedans, \\n]\n",
       "1        Sedans  [\\n, Sedans, \\n]\n",
       "2        Sedans  [\\n, Sedans, \\n]\n",
       "3        Sedans  [\\n, Sedans, \\n]\n",
       "4        Sedans  [\\n, Sedans, \\n]\n",
       "...         ...               ...\n",
       "15914       Van     [\\n, Van, \\n]\n",
       "15915       Van     [\\n, Van, \\n]\n",
       "15916       Van     [\\n, Van, \\n]\n",
       "15917       Van     [\\n, Van, \\n]\n",
       "15918       Van     [\\n, Van, \\n]\n",
       "\n",
       "[15919 rows x 2 columns]"
      ]
     },
     "execution_count": 12,
     "metadata": {},
     "output_type": "execute_result"
    }
   ],
   "source": [
    "df[[\"body_type\",\"body\"]]"
   ]
  },
  {
   "cell_type": "code",
   "execution_count": 13,
   "id": "ec66bfdf-075b-42b3-925b-727856586651",
   "metadata": {},
   "outputs": [],
   "source": [
    "df.drop(\"body\", axis=1, inplace=True)"
   ]
  },
  {
   "cell_type": "markdown",
   "id": "30a6adbf-7b5b-4010-a9c2-196714a19be1",
   "metadata": {},
   "source": [
    "## price"
   ]
  },
  {
   "cell_type": "markdown",
   "id": "af1db7b1-9b96-4b32-9378-7c420b34d666",
   "metadata": {},
   "source": [
    "Target column must not be manipulated. We can drop the rows with null values. Don't try to fill them!"
   ]
  },
  {
   "cell_type": "code",
   "execution_count": 14,
   "id": "c50b6b93-4fb5-41c1-9602-348c8de21722",
   "metadata": {},
   "outputs": [
    {
     "name": "stderr",
     "output_type": "stream",
     "text": [
      "C:\\Users\\gulbe\\anaconda3\\lib\\site-packages\\seaborn\\_decorators.py:36: FutureWarning: Pass the following variable as a keyword arg: x. From version 0.12, the only valid positional argument will be `data`, and passing other arguments without an explicit keyword will result in an error or misinterpretation.\n",
      "  warnings.warn(\n"
     ]
    },
    {
     "data": {
      "image/png": "[encoded data removed]",
      "text/plain": [
       "<Figure size 432x288 with 1 Axes>"
      ]
     },
     "metadata": {
      "needs_background": "light"
     },
     "output_type": "display_data"
    }
   ],
   "source": [
    "sns.boxplot(df.price);"
   ]
  },
  {
   "cell_type": "code",
   "execution_count": 15,
   "id": "d1504818-e910-49b7-9e49-0b4514d61c84",
   "metadata": {},
   "outputs": [
    {
     "data": {
      "image/png": "[encoded data removed]",
      "text/plain": [
       "<Figure size 360x360 with 1 Axes>"
      ]
     },
     "metadata": {
      "needs_background": "light"
     },
     "output_type": "display_data"
    }
   ],
   "source": [
    "sns.displot(df.price);"
   ]
  },
  {
   "cell_type": "markdown",
   "id": "648843cc-a16e-4889-83f7-392b01c92b85",
   "metadata": {},
   "source": [
    "## vat"
   ]
  },
  {
   "cell_type": "markdown",
   "id": "cb09d683-b45b-485a-b45f-fcc9fead614c",
   "metadata": {},
   "source": [
    "value added tax"
   ]
  },
  {
   "cell_type": "code",
   "execution_count": 16,
   "id": "d9240c6f-2559-4f92-a310-1bbcad754574",
   "metadata": {},
   "outputs": [
    {
     "data": {
      "text/plain": [
       "VAT deductible      10980\n",
       "NaN                  4513\n",
       "Price negotiable      426\n",
       "Name: vat, dtype: int64"
      ]
     },
     "execution_count": 16,
     "metadata": {},
     "output_type": "execute_result"
    }
   ],
   "source": [
    "df.vat.value_counts(dropna=False)"
   ]
  },
  {
   "cell_type": "markdown",
   "id": "29bd65be-15eb-48a9-8bea-e2b8e7e6feba",
   "metadata": {},
   "source": [
    "## km"
   ]
  },
  {
   "cell_type": "code",
   "execution_count": 17,
   "id": "d536ba8a-775c-47db-8ac6-656ea6f0b257",
   "metadata": {},
   "outputs": [
    {
     "data": {
      "text/plain": [
       "10 km        1045\n",
       "- km         1024\n",
       "1 km          367\n",
       "5 km          170\n",
       "50 km         148\n",
       "             ... \n",
       "20,678 km       1\n",
       "25,273 km       1\n",
       "125 km          1\n",
       "15,991 km       1\n",
       "23,168 km       1\n",
       "Name: km, Length: 6690, dtype: int64"
      ]
     },
     "execution_count": 17,
     "metadata": {},
     "output_type": "execute_result"
    }
   ],
   "source": [
    "df.km.value_counts()"
   ]
  },
  {
   "cell_type": "markdown",
   "id": "18bf89e7-7a6c-498c-bb1b-36c816e6ce5b",
   "metadata": {},
   "source": [
    "We need float or integer to use in our machine learning process. "
   ]
  },
  {
   "cell_type": "code",
   "execution_count": 18,
   "id": "cdba44d3-9f31-4aa7-8e2a-2743405bc52b",
   "metadata": {},
   "outputs": [],
   "source": [
    "df[\"km\"] = df.km.str.replace(\",\",\"\").str.replace(\" km\",\"\").str.replace(\"-\",\"NaN\").astype(\"float\")\n"
   ]
  },
  {
   "cell_type": "markdown",
   "id": "b38e3603-0e4c-4c64-a7aa-3ba28d2d7766",
   "metadata": {},
   "source": [
    "## registration & first_registiration"
   ]
  },
  {
   "cell_type": "code",
   "execution_count": 19,
   "id": "bba6d65b-87ba-44e3-978c-991775c5b608",
   "metadata": {},
   "outputs": [
    {
     "data": {
      "text/plain": [
       "-/-        1597\n",
       "03/2018     695\n",
       "02/2019     585\n",
       "05/2018     572\n",
       "03/2019     543\n",
       "04/2018     541\n",
       "01/2019     541\n",
       "02/2018     539\n",
       "03/2016     536\n",
       "04/2016     532\n",
       "06/2018     532\n",
       "01/2018     511\n",
       "04/2019     506\n",
       "02/2016     472\n",
       "03/2017     471\n",
       "05/2016     459\n",
       "06/2016     452\n",
       "05/2019     440\n",
       "06/2017     409\n",
       "05/2017     404\n",
       "07/2018     396\n",
       "04/2017     380\n",
       "01/2016     376\n",
       "02/2017     368\n",
       "01/2017     306\n",
       "08/2018     285\n",
       "06/2019     224\n",
       "07/2017     215\n",
       "11/2017     180\n",
       "07/2016     176\n",
       "10/2016     160\n",
       "10/2017     154\n",
       "09/2017     149\n",
       "11/2016     142\n",
       "09/2016     141\n",
       "09/2018     141\n",
       "12/2016     134\n",
       "12/2017     123\n",
       "08/2017     114\n",
       "11/2018     110\n",
       "12/2018     103\n",
       "10/2018      97\n",
       "08/2016      94\n",
       "07/2019       6\n",
       "09/2019       5\n",
       "12/2019       1\n",
       "11/2019       1\n",
       "08/2019       1\n",
       "Name: registration, dtype: int64"
      ]
     },
     "execution_count": 19,
     "metadata": {},
     "output_type": "execute_result"
    }
   ],
   "source": [
    "df.registration.value_counts()"
   ]
  },
  {
   "cell_type": "code",
   "execution_count": 20,
   "id": "55f572c9-b7f6-4e4e-9a9b-2a99e0792b38",
   "metadata": {},
   "outputs": [
    {
     "ename": "TypeError",
     "evalue": "unhashable type: 'list'",
     "output_type": "error",
     "traceback": [
      "\u001b[1;31m---------------------------------------------------------------------------\u001b[0m",
      "\u001b[1;31mTypeError\u001b[0m                                 Traceback (most recent call last)",
      "\u001b[1;32mpandas\\_libs\\hashtable_class_helper.pxi\u001b[0m in \u001b[0;36mpandas._libs.hashtable.PyObjectHashTable.map_locations\u001b[1;34m()\u001b[0m\n",
      "\u001b[1;31mTypeError\u001b[0m: unhashable type: 'list'"
     ]
    },
    {
     "name": "stderr",
     "output_type": "stream",
     "text": [
      "Exception ignored in: 'pandas._libs.index.IndexEngine._call_map_locations'\n",
      "Traceback (most recent call last):\n",
      "  File \"pandas\\_libs\\hashtable_class_helper.pxi\", line 4588, in pandas._libs.hashtable.PyObjectHashTable.map_locations\n",
      "TypeError: unhashable type: 'list'\n"
     ]
    },
    {
     "data": {
      "text/plain": [
       "[\\n, 2018, \\n]    4522\n",
       "[\\n, 2016, \\n]    3674\n",
       "[\\n, 2017, \\n]    3273\n",
       "[\\n, 2019, \\n]    2853\n",
       "NaN               1597\n",
       "Name: first_registration, dtype: int64"
      ]
     },
     "execution_count": 20,
     "metadata": {},
     "output_type": "execute_result"
    }
   ],
   "source": [
    "df[\"first_registration\"].value_counts(dropna=False)"
   ]
  },
  {
   "cell_type": "code",
   "execution_count": 21,
   "id": "6736b69a-186f-4c82-9748-e04bc1a00c06",
   "metadata": {},
   "outputs": [],
   "source": [
    "df[\"age\"]=2019 - df[\"first_registration\"].str[1].astype(\"float\")"
   ]
  },
  {
   "cell_type": "code",
   "execution_count": 22,
   "id": "a513aca9-891b-4933-825a-9c6223f7682a",
   "metadata": {},
   "outputs": [
    {
     "data": {
      "text/plain": [
       "1.0    4522\n",
       "3.0    3674\n",
       "2.0    3273\n",
       "0.0    2853\n",
       "NaN    1597\n",
       "Name: age, dtype: int64"
      ]
     },
     "execution_count": 22,
     "metadata": {},
     "output_type": "execute_result"
    }
   ],
   "source": [
    "df.age.value_counts(dropna=False)"
   ]
  },
  {
   "cell_type": "code",
   "execution_count": 23,
   "id": "a2580a01-ec52-4c3b-9ba0-4872e3dbf6e0",
   "metadata": {},
   "outputs": [],
   "source": [
    "df.drop([\"first_registration\",\"registration\"], axis=1, inplace=True)"
   ]
  },
  {
   "cell_type": "markdown",
   "id": "921e9a51-7de8-4420-acd8-12ac295208cf",
   "metadata": {},
   "source": [
    "## prev_owner & previous_owners"
   ]
  },
  {
   "cell_type": "code",
   "execution_count": 24,
   "id": "eecfc261-f1d3-4399-8b14-f4babc237be8",
   "metadata": {},
   "outputs": [
    {
     "data": {
      "text/plain": [
       "1 previous owner     8294\n",
       "NaN                  6828\n",
       "2 previous owners     778\n",
       "3 previous owners      17\n",
       "4 previous owners       2\n",
       "Name: prev_owner, dtype: int64"
      ]
     },
     "execution_count": 24,
     "metadata": {},
     "output_type": "execute_result"
    }
   ],
   "source": [
    "df.prev_owner.value_counts(dropna=False)"
   ]
  },
  {
   "cell_type": "code",
   "execution_count": 25,
   "id": "4b0f73f1-979d-4dae-ba21-ae3e4c39eb6f",
   "metadata": {},
   "outputs": [
    {
     "ename": "TypeError",
     "evalue": "unhashable type: 'list'",
     "output_type": "error",
     "traceback": [
      "\u001b[1;31m---------------------------------------------------------------------------\u001b[0m",
      "\u001b[1;31mTypeError\u001b[0m                                 Traceback (most recent call last)",
      "\u001b[1;32mpandas\\_libs\\hashtable_class_helper.pxi\u001b[0m in \u001b[0;36mpandas._libs.hashtable.PyObjectHashTable.map_locations\u001b[1;34m()\u001b[0m\n",
      "\u001b[1;31mTypeError\u001b[0m: unhashable type: 'list'"
     ]
    },
    {
     "name": "stderr",
     "output_type": "stream",
     "text": [
      "Exception ignored in: 'pandas._libs.index.IndexEngine._call_map_locations'\n",
      "Traceback (most recent call last):\n",
      "  File \"pandas\\_libs\\hashtable_class_helper.pxi\", line 4588, in pandas._libs.hashtable.PyObjectHashTable.map_locations\n",
      "TypeError: unhashable type: 'list'\n"
     ]
    },
    {
     "data": {
      "text/plain": [
       "\\n1\\n                               8101\n",
       "NaN                                 6640\n",
       "\\n2\\n                                766\n",
       "\\n0\\n                                163\n",
       "\\n3\\n                                 17\n",
       "                                    ... \n",
       "[\\n1\\n, \\n137 g CO2/km (comb)\\n]       1\n",
       "[\\n2\\n, \\n127 g CO2/km (comb)\\n]       1\n",
       "[\\n1\\n, \\n159 g CO2/km (comb)\\n]       1\n",
       "[\\n0\\n, \\n117 g CO2/km (comb)\\n]       1\n",
       "[\\n1\\n, \\n102 g CO2/km (comb)\\n]       1\n",
       "Name: previous_owners, Length: 103, dtype: int64"
      ]
     },
     "execution_count": 25,
     "metadata": {},
     "output_type": "execute_result"
    }
   ],
   "source": [
    "df[\"previous_owners\"].value_counts(dropna=False)"
   ]
  },
  {
   "cell_type": "code",
   "execution_count": 26,
   "id": "9677d2be-72fa-4192-a1c9-6a537ec492bf",
   "metadata": {},
   "outputs": [],
   "source": [
    "df[\"previous_owners\"] = [item[0] if type(item)== list else item for item in df[\"previous_owners\"]]\n",
    "# df[\"Previous Owners\"] = df[\"Previous Owners\"].apply(item[0] if type(item)== list else item)"
   ]
  },
  {
   "cell_type": "code",
   "execution_count": 27,
   "id": "eb1b4142-b7f2-419e-a337-cab0976cce11",
   "metadata": {},
   "outputs": [
    {
     "data": {
      "text/plain": [
       "\\n1\\n    8294\n",
       "NaN      6640\n",
       "\\n2\\n     778\n",
       "\\n0\\n     188\n",
       "\\n3\\n      17\n",
       "\\n4\\n       2\n",
       "Name: previous_owners, dtype: int64"
      ]
     },
     "execution_count": 27,
     "metadata": {},
     "output_type": "execute_result"
    }
   ],
   "source": [
    "df[\"previous_owners\"].value_counts(dropna=False)"
   ]
  },
  {
   "cell_type": "code",
   "execution_count": 28,
   "id": "ee466183-4231-48e6-8323-c2f69620e24b",
   "metadata": {},
   "outputs": [
    {
     "data": {
      "text/plain": [
       "1      8294\n",
       "NaN    6640\n",
       "2       778\n",
       "0       188\n",
       "3        17\n",
       "4         2\n",
       "Name: previous_owners, dtype: int64"
      ]
     },
     "execution_count": 28,
     "metadata": {},
     "output_type": "execute_result"
    }
   ],
   "source": [
    "df[\"previous_owners\"] = df[\"previous_owners\"].str.strip(\"\\n\")\n",
    "df[\"previous_owners\"].value_counts(dropna=False)"
   ]
  },
  {
   "cell_type": "code",
   "execution_count": 29,
   "id": "670933ba-69cc-456f-894d-543a8daeeeb2",
   "metadata": {},
   "outputs": [],
   "source": [
    "df.drop(\"prev_owner\", axis=1, inplace=True)"
   ]
  },
  {
   "cell_type": "markdown",
   "id": "cc1165bd-a689-4d14-995e-7fb487e7a693",
   "metadata": {},
   "source": [
    "## hp"
   ]
  },
  {
   "cell_type": "code",
   "execution_count": 30,
   "id": "166c7e35-f2fc-4596-bbb0-d75b82729c27",
   "metadata": {},
   "outputs": [
    {
     "data": {
      "text/plain": [
       "85 kW     2542\n",
       "66 kW     2122\n",
       "81 kW     1402\n",
       "100 kW    1308\n",
       "110 kW    1112\n",
       "70 kW      888\n",
       "125 kW     707\n",
       "51 kW      695\n",
       "55 kW      569\n",
       "118 kW     516\n",
       "92 kW      466\n",
       "121 kW     392\n",
       "147 kW     380\n",
       "77 kW      345\n",
       "56 kW      286\n",
       "54 kW      276\n",
       "103 kW     253\n",
       "87 kW      232\n",
       "165 kW     194\n",
       "88 kW      177\n",
       "60 kW      160\n",
       "162 kW      98\n",
       "- kW        88\n",
       "74 kW       81\n",
       "96 kW       72\n",
       "71 kW       59\n",
       "101 kW      47\n",
       "67 kW       40\n",
       "154 kW      39\n",
       "122 kW      35\n",
       "119 kW      30\n",
       "164 kW      27\n",
       "135 kW      24\n",
       "52 kW       22\n",
       "82 kW       22\n",
       "1 kW        20\n",
       "78 kW       20\n",
       "146 kW      18\n",
       "294 kW      18\n",
       "141 kW      16\n",
       "57 kW       10\n",
       "120 kW       8\n",
       "104 kW       8\n",
       "191 kW       7\n",
       "112 kW       7\n",
       "155 kW       6\n",
       "117 kW       6\n",
       "184 kW       5\n",
       "90 kW        4\n",
       "76 kW        4\n",
       "65 kW        4\n",
       "80 kW        3\n",
       "168 kW       3\n",
       "93 kW        3\n",
       "98 kW        3\n",
       "149 kW       3\n",
       "167 kW       2\n",
       "89 kW        2\n",
       "228 kW       2\n",
       "127 kW       2\n",
       "86 kW        2\n",
       "53 kW        2\n",
       "143 kW       2\n",
       "63 kW        2\n",
       "270 kW       2\n",
       "150 kW       2\n",
       "140 kW       2\n",
       "40 kW        2\n",
       "195 kW       1\n",
       "239 kW       1\n",
       "132 kW       1\n",
       "9 kW         1\n",
       "137 kW       1\n",
       "84 kW        1\n",
       "163 kW       1\n",
       "44 kW        1\n",
       "75 kW        1\n",
       "4 kW         1\n",
       "123 kW       1\n",
       "133 kW       1\n",
       "115 kW       1\n",
       "Name: hp, dtype: int64"
      ]
     },
     "execution_count": 30,
     "metadata": {},
     "output_type": "execute_result"
    }
   ],
   "source": [
    "df.hp.value_counts(dropna=False)"
   ]
  },
  {
   "cell_type": "code",
   "execution_count": 31,
   "id": "4eb3c648-9dcf-47d3-8bfc-acd597c5abd8",
   "metadata": {},
   "outputs": [],
   "source": [
    "df[\"hp_kW\"] = df.hp.str.replace(\" kW\",\"\").str.replace(\"-\", \"NaN\").astype(\"float\")\n",
    "df.drop(\"hp\",axis=1, inplace=True)"
   ]
  },
  {
   "cell_type": "markdown",
   "id": "8b2d8610-f3ef-4a31-acb2-7add72e3b707",
   "metadata": {},
   "source": [
    "## full_service"
   ]
  },
  {
   "cell_type": "code",
   "execution_count": 32,
   "id": "ded931e3-7208-48b5-9671-ddb2f6995ad3",
   "metadata": {},
   "outputs": [
    {
     "ename": "TypeError",
     "evalue": "unhashable type: 'list'",
     "output_type": "error",
     "traceback": [
      "\u001b[1;31m---------------------------------------------------------------------------\u001b[0m",
      "\u001b[1;31mTypeError\u001b[0m                                 Traceback (most recent call last)",
      "\u001b[1;32mpandas\\_libs\\hashtable_class_helper.pxi\u001b[0m in \u001b[0;36mpandas._libs.hashtable.PyObjectHashTable.map_locations\u001b[1;34m()\u001b[0m\n",
      "\u001b[1;31mTypeError\u001b[0m: unhashable type: 'list'"
     ]
    },
    {
     "name": "stderr",
     "output_type": "stream",
     "text": [
      "Exception ignored in: 'pandas._libs.index.IndexEngine._call_map_locations'\n",
      "Traceback (most recent call last):\n",
      "  File \"pandas\\_libs\\hashtable_class_helper.pxi\", line 4588, in pandas._libs.hashtable.PyObjectHashTable.map_locations\n",
      "TypeError: unhashable type: 'list'\n"
     ]
    },
    {
     "data": {
      "text/plain": [
       "NaN                                                                                           7704\n",
       "[\\n, \\n, \\n4 (Green)\\n]                                                                       2235\n",
       "[\\n, \\n, \\nEuro 6\\n]                                                                          2097\n",
       "[\\n, \\n]                                                                                      1702\n",
       "[\\n, \\n, \\nEuro 6d-TEMP\\n]                                                                     399\n",
       "                                                                                              ... \n",
       "[\\n, \\n, \\n, 5.4 l/100 km (comb), \\n, 7 l/100 km (city), \\n, 4.5 l/100 km (country), \\n]         1\n",
       "[\\n, \\n, \\n, 4.7 l/100 km (comb), \\n, 5.4 l/100 km (city), \\n, 4.2 l/100 km (country), \\n]       1\n",
       "[\\n, \\n, \\n164 g CO2/km (comb)\\n]                                                                1\n",
       "[\\n, \\n, \\n, 5.4 l/100 km (comb), \\n, 7.3 l/100 km (city), \\n, 4.2 l/100 km (country), \\n]       1\n",
       "[\\n, \\n, \\n, 6.6 l/100 km (comb), \\n, 8.3 l/100 km (city), \\n, 5.6 l/100 km (country), \\n]       1\n",
       "Name: full_service, Length: 123, dtype: int64"
      ]
     },
     "execution_count": 32,
     "metadata": {},
     "output_type": "execute_result"
    }
   ],
   "source": [
    "df[\"full_service\"].value_counts(dropna=False)"
   ]
  },
  {
   "cell_type": "code",
   "execution_count": 33,
   "id": "590edf0d-6494-4912-8d4c-98ca51199a08",
   "metadata": {},
   "outputs": [],
   "source": [
    "df.drop(\"full_service\",axis=1, inplace=True)"
   ]
  },
  {
   "cell_type": "markdown",
   "id": "448254f6-b783-479e-8427-8ca5fd4ff32b",
   "metadata": {},
   "source": [
    "## non-smoking_vehicle"
   ]
  },
  {
   "cell_type": "code",
   "execution_count": 34,
   "id": "877f5418-21b3-4f91-bd49-18c5ad7cefd7",
   "metadata": {},
   "outputs": [
    {
     "ename": "TypeError",
     "evalue": "unhashable type: 'list'",
     "output_type": "error",
     "traceback": [
      "\u001b[1;31m---------------------------------------------------------------------------\u001b[0m",
      "\u001b[1;31mTypeError\u001b[0m                                 Traceback (most recent call last)",
      "\u001b[1;32mpandas\\_libs\\hashtable_class_helper.pxi\u001b[0m in \u001b[0;36mpandas._libs.hashtable.PyObjectHashTable.map_locations\u001b[1;34m()\u001b[0m\n",
      "\u001b[1;31mTypeError\u001b[0m: unhashable type: 'list'"
     ]
    },
    {
     "name": "stderr",
     "output_type": "stream",
     "text": [
      "Exception ignored in: 'pandas._libs.index.IndexEngine._call_map_locations'\n",
      "Traceback (most recent call last):\n",
      "  File \"pandas\\_libs\\hashtable_class_helper.pxi\", line 4588, in pandas._libs.hashtable.PyObjectHashTable.map_locations\n",
      "TypeError: unhashable type: 'list'\n"
     ]
    },
    {
     "data": {
      "text/plain": [
       "NaN                                                                                           8742\n",
       "[\\n, \\n]                                                                                      3647\n",
       "[\\n, \\n, \\n4 (Green)\\n]                                                                       1240\n",
       "[\\n, \\n, \\nEuro 6\\n]                                                                          1127\n",
       "[\\n, \\n, \\nEuro 6d-TEMP\\n]                                                                     345\n",
       "\\n                                                                                              70\n",
       "[\\n, \\n, \\n120 g CO2/km (comb)\\n]                                                               63\n",
       "[\\n, \\n, \\n85 g CO2/km (comb)\\n]                                                                46\n",
       "[\\n, \\n, \\n104 g CO2/km (comb)\\n]                                                               36\n",
       "[\\n, \\n, \\n107 g CO2/km (comb)\\n]                                                               36\n",
       "[\\n, \\n, \\n153 g CO2/km (comb)\\n]                                                               31\n",
       "[\\n, \\n, \\n124 g CO2/km (comb)\\n]                                                               29\n",
       "[\\n, \\n, \\n1 (No sticker)\\n]                                                                    24\n",
       "[\\n, \\n, \\n99 g CO2/km (comb)\\n]                                                                23\n",
       "[\\n, \\n, \\n97 g CO2/km (comb)\\n]                                                                20\n",
       "[\\n, \\n, \\n106 g CO2/km (comb)\\n]                                                               20\n",
       "[\\n, \\n, \\n108 g CO2/km (comb)\\n]                                                               19\n",
       "[\\n, \\n, \\n113 g CO2/km (comb)\\n]                                                               18\n",
       "[\\n, \\n, \\n105 g CO2/km (comb)\\n]                                                               18\n",
       "[\\n, \\n, \\n100 g CO2/km (comb)\\n]                                                               18\n",
       "[\\n, \\n, \\n109 g CO2/km (comb)\\n]                                                               18\n",
       "[\\n, \\n, \\nEuro 6c\\n]                                                                           17\n",
       "[\\n, \\n, \\n98 g CO2/km (comb)\\n]                                                                15\n",
       "[\\n, \\n, \\n129 g CO2/km (comb)\\n]                                                               14\n",
       "[\\n, \\n, \\n131 g CO2/km (comb)\\n]                                                               13\n",
       "[\\n, \\n, \\n103 g CO2/km (comb)\\n]                                                               12\n",
       "[\\n, \\n, \\n133 g CO2/km (comb)\\n]                                                               12\n",
       "[\\n, \\n, \\n114 g CO2/km (comb)\\n]                                                               12\n",
       "[\\n, \\n, \\n135 g CO2/km (comb)\\n]                                                               11\n",
       "[\\n, \\n, \\n102 g CO2/km (comb)\\n]                                                               11\n",
       "[\\n, \\n, \\n116 g CO2/km (comb)\\n]                                                               11\n",
       "[\\n, \\n, \\n127 g CO2/km (comb)\\n]                                                               10\n",
       "[\\n, \\n, \\n143 g CO2/km (comb)\\n]                                                               10\n",
       "[\\n, \\n, \\n92 g CO2/km (comb)\\n]                                                                 9\n",
       "[\\n, \\n, \\nEuro 6d\\n]                                                                            9\n",
       "[\\n, \\n, \\n112 g CO2/km (comb)\\n]                                                                9\n",
       "[\\n, \\n, \\n118 g CO2/km (comb)\\n]                                                                8\n",
       "[\\n, \\n, \\n5 (Blue)\\n]                                                                           8\n",
       "[\\n, \\n, \\n139 g CO2/km (comb)\\n]                                                                7\n",
       "[\\n, \\n, \\n128 g CO2/km (comb)\\n]                                                                7\n",
       "[\\n, \\n, \\n147 g CO2/km (comb)\\n]                                                                7\n",
       "[\\n, \\n, \\n137 g CO2/km (comb)\\n]                                                                6\n",
       "[\\n, \\n, \\n126 g CO2/km (comb)\\n]                                                                6\n",
       "[\\n, \\n, \\n117 g CO2/km (comb)\\n]                                                                6\n",
       "[\\n, \\n, \\n140 g CO2/km (comb)\\n]                                                                6\n",
       "[\\n, \\n, \\n130 g CO2/km (comb)\\n]                                                                5\n",
       "[\\n, \\n, \\n115 g CO2/km (comb)\\n]                                                                5\n",
       "[\\n, \\n, \\nEuro 5\\n]                                                                             4\n",
       "[\\n, \\n, \\n, 5.2 l/100 km (comb), \\n, 5.8 l/100 km (city), \\n, 4.8 l/100 km (country), \\n]       4\n",
       "[\\n, \\n, \\n123 g CO2/km (comb)\\n]                                                                4\n",
       "[\\n, \\n, \\n151 g CO2/km (comb)\\n]                                                                4\n",
       "[\\n, \\n, \\n119 g CO2/km (comb)\\n]                                                                3\n",
       "[\\n, \\n, \\n136 g CO2/km (comb)\\n]                                                                3\n",
       "[\\n, \\n, \\n148 g CO2/km (comb)\\n]                                                                3\n",
       "[\\n, \\n, \\n95 g CO2/km (comb)\\n]                                                                 3\n",
       "[\\n, \\n, \\n149 g CO2/km (comb)\\n]                                                                3\n",
       "[\\n, \\n, \\n157 g CO2/km (comb)\\n]                                                                3\n",
       "[\\n, \\n, \\n110 g CO2/km (comb)\\n]                                                                3\n",
       "[\\n, \\n, \\n166 g CO2/km (comb)\\n]                                                                2\n",
       "[\\n, \\n, \\n125 g CO2/km (comb)\\n]                                                                2\n",
       "[\\n, \\n, \\n111 g CO2/km (comb)\\n]                                                                2\n",
       "[\\n, \\n, \\n121 g CO2/km (comb)\\n]                                                                2\n",
       "[\\n, \\n, \\n142 g CO2/km (comb)\\n]                                                                2\n",
       "[\\n, \\n, \\n90 g CO2/km (comb)\\n]                                                                 2\n",
       "[\\n, \\n, \\n138 g CO2/km (comb)\\n]                                                                2\n",
       "[\\n, \\n, \\n, 5.2 l/100 km (comb), \\n, 6.4 l/100 km (city), \\n, 4.4 l/100 km (country), \\n]       2\n",
       "[\\n, \\n, \\n134 g CO2/km (comb)\\n]                                                                2\n",
       "[\\n, \\n, \\n159 g CO2/km (comb)\\n]                                                                1\n",
       "[\\n, \\n, \\n189 g CO2/km (comb)\\n]                                                                1\n",
       "[\\n, \\n, \\n152 g CO2/km (comb)\\n]                                                                1\n",
       "[\\n, \\n, \\n, 6.2 l/100 km (comb), \\n, 7.9 l/100 km (city), \\n, 5.3 l/100 km (country), \\n]       1\n",
       "[\\n, \\n, \\n, 5.7 l/100 km (comb), \\n, 7.3 l/100 km (city), \\n, 4.7 l/100 km (country), \\n]       1\n",
       "[\\n, \\n, \\n101 g CO2/km (comb)\\n]                                                                1\n",
       "[\\n, \\n, \\n82 g CO2/km (comb)\\n]                                                                 1\n",
       "[\\n, \\n, \\n, 6.1 l/100 km (comb), \\n, 7.8 l/100 km (city), \\n, 5.1 l/100 km (country), \\n]       1\n",
       "[\\n, \\n, \\n, 1.6 l/100 km (comb), \\n, \\n, \\n]                                                    1\n",
       "[\\n, \\n, \\n, 6.5 l/100 km (comb), \\n, 7.9 l/100 km (city), \\n, 5.6 l/100 km (country), \\n]       1\n",
       "[\\n, \\n, \\n, 6.1 l/100 km (comb), \\n, 7.7 l/100 km (city), \\n, 5.2 l/100 km (country), \\n]       1\n",
       "[\\n, \\n, \\n175 g CO2/km (comb)\\n]                                                                1\n",
       "[\\n, \\n, \\n, 6.3 l/100 km (comb), \\n, 8 l/100 km (city), \\n, 5.3 l/100 km (country), \\n]         1\n",
       "[\\n, \\n, \\n, 6.5 l/100 km (comb), \\n, 8.5 l/100 km (city), \\n, 5.4 l/100 km (country), \\n]       1\n",
       "[\\n, \\n, \\n161 g CO2/km (comb)\\n]                                                                1\n",
       "[\\n, \\n, \\n, 6.4 l/100 km (comb), \\n, 8.1 l/100 km (city), \\n, 5.4 l/100 km (country), \\n]       1\n",
       "[\\n, \\n, \\n122 g CO2/km (comb)\\n]                                                                1\n",
       "[\\n, \\n, \\n158 g CO2/km (comb)\\n]                                                                1\n",
       "[\\n, \\n, \\n132 g CO2/km (comb)\\n]                                                                1\n",
       "[\\n, \\n, \\n169 g CO2/km (comb)\\n]                                                                1\n",
       "[\\n, \\n, \\n156 g CO2/km (comb)\\n]                                                                1\n",
       "[\\n, \\n, \\n, 5.6 l/100 km (comb), \\n, 7.3 l/100 km (city), \\n, 4.7 l/100 km (country), \\n]       1\n",
       "[\\n, \\n, \\n146 g CO2/km (comb)\\n]                                                                1\n",
       "[\\n, \\n, \\n172 g CO2/km (comb)\\n]                                                                1\n",
       "[\\n, \\n, \\n150 g CO2/km (comb)\\n]                                                                1\n",
       "[\\n, \\n, \\n154 g CO2/km (comb)\\n]                                                                1\n",
       "[\\n, \\n, \\n91 g CO2/km (comb)\\n]                                                                 1\n",
       "[\\n, \\n, \\n144 g CO2/km (comb)\\n]                                                                1\n",
       "Name: non-smoking_vehicle, dtype: int64"
      ]
     },
     "execution_count": 34,
     "metadata": {},
     "output_type": "execute_result"
    }
   ],
   "source": [
    "df[\"non-smoking_vehicle\"].value_counts(dropna=False)"
   ]
  },
  {
   "cell_type": "markdown",
   "id": "2dbd27ab-4919-4eef-bb3f-2c9ed84f919b",
   "metadata": {},
   "source": [
    "the values don't match the column name. we can drop it."
   ]
  },
  {
   "cell_type": "code",
   "execution_count": 35,
   "id": "64d2c889-c6ba-4158-af4d-acd79c1b4b24",
   "metadata": {},
   "outputs": [],
   "source": [
    "df.drop(\"non-smoking_vehicle\",axis=1, inplace=True)"
   ]
  },
  {
   "cell_type": "markdown",
   "id": "2cfb03af-d31a-4ca3-8c57-9cf01c87ebbb",
   "metadata": {},
   "source": [
    "### upholstery"
   ]
  },
  {
   "cell_type": "code",
   "execution_count": 36,
   "id": "e2e01744-a6e9-4c05-ba58-d9b954c66ce8",
   "metadata": {},
   "outputs": [
    {
     "ename": "TypeError",
     "evalue": "unhashable type: 'list'",
     "output_type": "error",
     "traceback": [
      "\u001b[1;31m---------------------------------------------------------------------------\u001b[0m",
      "\u001b[1;31mTypeError\u001b[0m                                 Traceback (most recent call last)",
      "\u001b[1;32mpandas\\_libs\\hashtable_class_helper.pxi\u001b[0m in \u001b[0;36mpandas._libs.hashtable.PyObjectHashTable.map_locations\u001b[1;34m()\u001b[0m\n",
      "\u001b[1;31mTypeError\u001b[0m: unhashable type: 'list'"
     ]
    },
    {
     "name": "stderr",
     "output_type": "stream",
     "text": [
      "Exception ignored in: 'pandas._libs.index.IndexEngine._call_map_locations'\n",
      "Traceback (most recent call last):\n",
      "  File \"pandas\\_libs\\hashtable_class_helper.pxi\", line 4588, in pandas._libs.hashtable.PyObjectHashTable.map_locations\n",
      "TypeError: unhashable type: 'list'\n"
     ]
    },
    {
     "data": {
      "text/plain": [
       "[\\nCloth, Black\\n]           5821\n",
       "NaN                          3720\n",
       "[\\nPart leather, Black\\n]    1121\n",
       "[\\nCloth\\n]                  1005\n",
       "[\\nCloth, Grey\\n]             891\n",
       "[\\nCloth, Other\\n]            639\n",
       "[\\nFull leather, Black\\n]     575\n",
       "[\\nBlack\\n]                   491\n",
       "[\\nGrey\\n]                    273\n",
       "[\\nOther, Other\\n]            182\n",
       "[\\nPart leather\\n]            140\n",
       "[\\nFull leather\\n]            139\n",
       "[\\nFull leather, Brown\\n]     116\n",
       "[\\nPart leather, Grey\\n]      116\n",
       "[\\nOther, Black\\n]            110\n",
       "[\\nFull leather, Other\\n]      72\n",
       "[\\nFull leather, Grey\\n]       67\n",
       "[\\nPart leather, Other\\n]      65\n",
       "[\\nOther\\n]                    56\n",
       "[\\nPart leather, Brown\\n]      50\n",
       "[\\nalcantara, Black\\n]         47\n",
       "[\\nFull leather, Beige\\n]      36\n",
       "[\\nVelour, Black\\n]            36\n",
       "[\\nCloth, Brown\\n]             28\n",
       "[\\nVelour\\n]                   16\n",
       "[\\nOther, Grey\\n]              15\n",
       "[\\nCloth, Beige\\n]             13\n",
       "[\\nCloth, Blue\\n]              12\n",
       "[\\nBrown\\n]                    12\n",
       "[\\nCloth, White\\n]              8\n",
       "[\\nVelour, Grey\\n]              8\n",
       "[\\nalcantara, Grey\\n]           6\n",
       "[\\nCloth, Red\\n]                5\n",
       "[\\nOther, Yellow\\n]             4\n",
       "[\\nPart leather, Red\\n]         3\n",
       "[\\nBeige\\n]                     3\n",
       "[\\nalcantara\\n]                 2\n",
       "[\\nFull leather, Blue\\n]        2\n",
       "[\\nBlue\\n]                      2\n",
       "[\\nPart leather, Beige\\n]       2\n",
       "[\\nalcantara, Other\\n]          2\n",
       "[\\nPart leather, White\\n]       2\n",
       "[\\nWhite\\n]                     2\n",
       "[\\nFull leather, Red\\n]         1\n",
       "[\\nOther, Brown\\n]              1\n",
       "[\\nFull leather, White\\n]       1\n",
       "[\\nCloth, Orange\\n]             1\n",
       "Name: upholstery, dtype: int64"
      ]
     },
     "execution_count": 36,
     "metadata": {},
     "output_type": "execute_result"
    }
   ],
   "source": [
    "df.upholstery.value_counts(dropna=False)"
   ]
  },
  {
   "cell_type": "markdown",
   "id": "e21c2309-a43a-4560-88de-02fd931bc8c9",
   "metadata": {},
   "source": [
    "I don't think that the color of the upholstery affects the price. so we need only the type."
   ]
  },
  {
   "cell_type": "code",
   "execution_count": 37,
   "id": "4aaf774b-d5db-40d6-a0f4-c25d226d48b0",
   "metadata": {},
   "outputs": [],
   "source": [
    "u_type = [\"Cloth\", \"Velour\", \"Part leather\", \"Full leather\", \"alcantara\"]\n",
    "df[\"upholstery_type\"] = df.upholstery.apply(lambda item : item[0] if type(item)== list and item[0].strip(\"\\n\") in u_type else np.nan)"
   ]
  },
  {
   "cell_type": "code",
   "execution_count": 38,
   "id": "48b3f2f8-b5e9-4379-9a7b-1d4e7e7c3559",
   "metadata": {},
   "outputs": [
    {
     "data": {
      "text/plain": [
       "\\nCloth\\n           1005\n",
       "\\nPart leather\\n     140\n",
       "\\nFull leather\\n     139\n",
       "\\nVelour\\n            16\n",
       "\\nalcantara\\n          2\n",
       "Name: upholstery_type, dtype: int64"
      ]
     },
     "execution_count": 38,
     "metadata": {},
     "output_type": "execute_result"
    }
   ],
   "source": [
    "df[\"upholstery_type\"].value_counts()"
   ]
  },
  {
   "cell_type": "code",
   "execution_count": 39,
   "id": "9661547d-aa16-4fb0-8c01-c9f1eebe5a03",
   "metadata": {},
   "outputs": [
    {
     "data": {
      "text/plain": [
       "NaN             14617\n",
       "Cloth            1005\n",
       "Part leather      140\n",
       "Full leather      139\n",
       "Velour             16\n",
       "alcantara           2\n",
       "Name: upholstery_type, dtype: int64"
      ]
     },
     "execution_count": 39,
     "metadata": {},
     "output_type": "execute_result"
    }
   ],
   "source": [
    "df[\"upholstery_type\"] = df.upholstery_type.str.strip(\"\\n\")\n",
    "df[\"upholstery_type\"].value_counts(dropna=False)"
   ]
  },
  {
   "cell_type": "code",
   "execution_count": 40,
   "id": "d0434951-fc97-4c3d-aad9-26c7d6d8e68b",
   "metadata": {},
   "outputs": [],
   "source": [
    "df.drop(\"upholstery\", axis=1, inplace=True)"
   ]
  },
  {
   "cell_type": "markdown",
   "id": "f62f2b9e-05d3-4321-b78b-a8f49fa27001",
   "metadata": {},
   "source": [
    "## next_inspection & inspection_new "
   ]
  },
  {
   "cell_type": "code",
   "execution_count": 41,
   "id": "cfdb4a11-1cdb-4eee-8e07-2c7c85f5bad0",
   "metadata": {},
   "outputs": [
    {
     "ename": "TypeError",
     "evalue": "unhashable type: 'list'",
     "output_type": "error",
     "traceback": [
      "\u001b[1;31m---------------------------------------------------------------------------\u001b[0m",
      "\u001b[1;31mTypeError\u001b[0m                                 Traceback (most recent call last)",
      "\u001b[1;32mpandas\\_libs\\hashtable_class_helper.pxi\u001b[0m in \u001b[0;36mpandas._libs.hashtable.PyObjectHashTable.map_locations\u001b[1;34m()\u001b[0m\n",
      "\u001b[1;31mTypeError\u001b[0m: unhashable type: 'list'"
     ]
    },
    {
     "name": "stderr",
     "output_type": "stream",
     "text": [
      "Exception ignored in: 'pandas._libs.index.IndexEngine._call_map_locations'\n",
      "Traceback (most recent call last):\n",
      "  File \"pandas\\_libs\\hashtable_class_helper.pxi\", line 4588, in pandas._libs.hashtable.PyObjectHashTable.map_locations\n",
      "TypeError: unhashable type: 'list'\n"
     ]
    },
    {
     "data": {
      "text/plain": [
       "NaN                                       12384\n",
       "\\n04/2022\\n                                  62\n",
       "\\n03/2021\\n                                  38\n",
       "\\n03/2022\\n                                  36\n",
       "\\n06/2021\\n                                  34\n",
       "                                          ...  \n",
       "[\\n11/2020\\n, \\n119 g CO2/km (comb)\\n]        1\n",
       "[\\n04/2021\\n, \\n153 g CO2/km (comb)\\n]        1\n",
       "[\\n06/2020\\n, \\n114 g CO2/km (comb)\\n]        1\n",
       "[\\n04/2019\\n, \\n110 g CO2/km (comb)\\n]        1\n",
       "[\\n08/2020\\n, \\n143 g CO2/km (comb)\\n]        1\n",
       "Name: next_inspection, Length: 1400, dtype: int64"
      ]
     },
     "execution_count": 41,
     "metadata": {},
     "output_type": "execute_result"
    }
   ],
   "source": [
    "df[\"next_inspection\"].value_counts(dropna=False)"
   ]
  },
  {
   "cell_type": "code",
   "execution_count": 42,
   "id": "61b864a9-4a89-4fdd-80c0-ac1f8f407904",
   "metadata": {},
   "outputs": [],
   "source": [
    "#df[\"Next Inspection\"] = df[\"Next Inspection\"].apply(lambda item : item[0] if type(item)== list else item)\n",
    "#df[\"Next Inspection\"] = df[\"Next Inspection\"].apply(lambda item : item.strip(\"\\n\") if type(item)== str else item)\n",
    "#df[\"Next Inspection\"].value_counts(dropna=False)"
   ]
  },
  {
   "cell_type": "markdown",
   "id": "5fc31381-7cfc-4b4b-8435-1151e8cd83c1",
   "metadata": {},
   "source": [
    "I don't think that next inspection affect the price."
   ]
  },
  {
   "cell_type": "code",
   "execution_count": 43,
   "id": "b030f2d8-f636-4d42-9f2f-3de96ec58ecc",
   "metadata": {},
   "outputs": [
    {
     "ename": "TypeError",
     "evalue": "unhashable type: 'list'",
     "output_type": "error",
     "traceback": [
      "\u001b[1;31m---------------------------------------------------------------------------\u001b[0m",
      "\u001b[1;31mTypeError\u001b[0m                                 Traceback (most recent call last)",
      "\u001b[1;32mpandas\\_libs\\hashtable_class_helper.pxi\u001b[0m in \u001b[0;36mpandas._libs.hashtable.PyObjectHashTable.map_locations\u001b[1;34m()\u001b[0m\n",
      "\u001b[1;31mTypeError\u001b[0m: unhashable type: 'list'"
     ]
    },
    {
     "name": "stderr",
     "output_type": "stream",
     "text": [
      "Exception ignored in: 'pandas._libs.index.IndexEngine._call_map_locations'\n",
      "Traceback (most recent call last):\n",
      "  File \"pandas\\_libs\\hashtable_class_helper.pxi\", line 4588, in pandas._libs.hashtable.PyObjectHashTable.map_locations\n",
      "TypeError: unhashable type: 'list'\n"
     ]
    },
    {
     "data": {
      "text/plain": [
       "[\\nYes\\n, \\nEuro 6\\n]                                                                          523\n",
       "\\nYes\\n                                                                                        362\n",
       "[\\nYes\\n, \\n102 g CO2/km (comb)\\n]                                                             174\n",
       "[\\nYes\\n, \\n4 (Green)\\n]                                                                       166\n",
       "[\\nYes\\n, \\nEuro 6d-TEMP\\n]                                                                    134\n",
       "                                                                                              ... \n",
       "[\\nYes\\n, \\n183 g CO2/km (comb)\\n]                                                               1\n",
       "[\\nYes\\n, \\n, 4.9 l/100 km (comb), \\n, 5.9 l/100 km (city), \\n, 4.3 l/100 km (country), \\n]      1\n",
       "[\\nYes\\n, \\n, 5.9 l/100 km (comb), \\n, 7.4 l/100 km (city), \\n, 5 l/100 km (country), \\n]        1\n",
       "[\\nYes\\n, \\n, 5.4 l/100 km (comb), \\n, \\n, \\n]                                                   1\n",
       "[\\nYes\\n, \\n, 4.4 l/100 km (comb), \\n, 5.4 l/100 km (city), \\n, 5 l/100 km (country), \\n]        1\n",
       "Name: inspection_new, Length: 202, dtype: int64"
      ]
     },
     "execution_count": 43,
     "metadata": {},
     "output_type": "execute_result"
    }
   ],
   "source": [
    "df.inspection_new.value_counts()"
   ]
  },
  {
   "cell_type": "code",
   "execution_count": 44,
   "id": "19c2dce7-11d9-4aca-8a73-e299dfd28ff3",
   "metadata": {},
   "outputs": [
    {
     "data": {
      "text/plain": [
       "NaN    11987\n",
       "Yes     3932\n",
       "Name: inspection_new, dtype: int64"
      ]
     },
     "execution_count": 44,
     "metadata": {},
     "output_type": "execute_result"
    }
   ],
   "source": [
    "df.inspection_new = df.inspection_new.apply(lambda x : x[0] if type(x) == list and len(x)>0 else x).str.strip(\"\\n\")\n",
    "df.inspection_new.value_counts(dropna=False)"
   ]
  },
  {
   "cell_type": "code",
   "execution_count": 45,
   "id": "cc836998-405d-4e5d-96d4-60255f41a897",
   "metadata": {},
   "outputs": [],
   "source": [
    "df.drop(\"next_inspection\", axis=1, inplace=True)"
   ]
  },
  {
   "cell_type": "markdown",
   "id": "83ed65ce-8614-45bd-818a-192fa7d862d0",
   "metadata": {},
   "source": [
    "## warranty"
   ]
  },
  {
   "cell_type": "code",
   "execution_count": 46,
   "id": "3023eb9e-934e-4148-9cff-7b9e85b1e65c",
   "metadata": {},
   "outputs": [
    {
     "ename": "TypeError",
     "evalue": "unhashable type: 'list'",
     "output_type": "error",
     "traceback": [
      "\u001b[1;31m---------------------------------------------------------------------------\u001b[0m",
      "\u001b[1;31mTypeError\u001b[0m                                 Traceback (most recent call last)",
      "\u001b[1;32mpandas\\_libs\\hashtable_class_helper.pxi\u001b[0m in \u001b[0;36mpandas._libs.hashtable.PyObjectHashTable.map_locations\u001b[1;34m()\u001b[0m\n",
      "\u001b[1;31mTypeError\u001b[0m: unhashable type: 'list'"
     ]
    },
    {
     "name": "stderr",
     "output_type": "stream",
     "text": [
      "Exception ignored in: 'pandas._libs.index.IndexEngine._call_map_locations'\n",
      "Traceback (most recent call last):\n",
      "  File \"pandas\\_libs\\hashtable_class_helper.pxi\", line 4588, in pandas._libs.hashtable.PyObjectHashTable.map_locations\n",
      "TypeError: unhashable type: 'list'\n"
     ]
    },
    {
     "data": {
      "text/plain": [
       "NaN                                         5420\n",
       "[\\n, \\n, \\nEuro 6\\n]                        1868\n",
       "\\n12 months\\n                               1177\n",
       "\\n                                           979\n",
       "\\n24 months\\n                                566\n",
       "                                            ... \n",
       "[\\n7 months\\n, \\n134 g CO2/km (comb)\\n]        1\n",
       "[\\n2 months\\n, \\n4 (Green)\\n]                  1\n",
       "[\\n, \\n, \\n12,087 g CO2/km (comb)\\n]           1\n",
       "[\\n72 months\\n, \\n130 g CO2/km (comb)\\n]       1\n",
       "[\\n, \\n, \\n5 (Blue)\\n]                         1\n",
       "Name: warranty, Length: 516, dtype: int64"
      ]
     },
     "execution_count": 46,
     "metadata": {},
     "output_type": "execute_result"
    }
   ],
   "source": [
    "df.warranty.value_counts(dropna=False)"
   ]
  },
  {
   "cell_type": "code",
   "execution_count": 47,
   "id": "30c9f8e3-a1c9-4431-a35a-61955b0eb40f",
   "metadata": {},
   "outputs": [
    {
     "data": {
      "text/plain": [
       "\\n               5645\n",
       "NaN              5420\n",
       "\\n12 months\\n    2594\n",
       "\\n24 months\\n    1118\n",
       "\\n60 months\\n     401\n",
       "\\n36 months\\n     279\n",
       "\\n48 months\\n     149\n",
       "\\n6 months\\n      125\n",
       "\\n72 months\\n      59\n",
       "\\n3 months\\n       33\n",
       "\\n23 months\\n      11\n",
       "\\n18 months\\n      10\n",
       "\\n20 months\\n       7\n",
       "\\n25 months\\n       6\n",
       "\\n2 months\\n        5\n",
       "\\n50 months\\n       4\n",
       "\\n16 months\\n       4\n",
       "\\n26 months\\n       4\n",
       "\\n19 months\\n       3\n",
       "\\n1 months\\n        3\n",
       "\\n13 months\\n       3\n",
       "\\n4 months\\n        3\n",
       "\\n34 months\\n       3\n",
       "\\n21 months\\n       2\n",
       "\\n45 months\\n       2\n",
       "\\n14 months\\n       2\n",
       "\\n17 months\\n       2\n",
       "\\n28 months\\n       2\n",
       "\\n22 months\\n       2\n",
       "\\n46 months\\n       2\n",
       "\\n11 months\\n       2\n",
       "\\n9 months\\n        2\n",
       "\\n56 months\\n       1\n",
       "\\n49 months\\n       1\n",
       "\\n15 months\\n       1\n",
       "\\n7 months\\n        1\n",
       "\\n40 months\\n       1\n",
       "\\n8 months\\n        1\n",
       "\\n33 months\\n       1\n",
       "\\n65 months\\n       1\n",
       "\\n30 months\\n       1\n",
       "\\n47 months\\n       1\n",
       "                    1\n",
       "\\n10 months\\n       1\n",
       "Name: warranty_months, dtype: int64"
      ]
     },
     "execution_count": 47,
     "metadata": {},
     "output_type": "execute_result"
    }
   ],
   "source": [
    "df[\"warranty_months\"] = df.warranty.apply(lambda x : x[0] if type(x)==list else x)\n",
    "df[\"warranty_months\"].value_counts(dropna=False)"
   ]
  },
  {
   "cell_type": "code",
   "execution_count": 48,
   "id": "f5ad6b8c-324c-452e-bfcc-6de56c5e4407",
   "metadata": {},
   "outputs": [],
   "source": [
    "df[\"warranty_months\"] = df[\"warranty_months\"].apply(lambda x : \"NaN\" if x == \"\" or x == \"\\n\" or x == np.nan else x)\n",
    "df[\"warranty_months\"] = df[\"warranty_months\"].str.strip(\"\\n months\").astype(float)"
   ]
  },
  {
   "cell_type": "code",
   "execution_count": 49,
   "id": "41dfedd2-851b-40e5-86c5-fae27a0c81c5",
   "metadata": {},
   "outputs": [
    {
     "data": {
      "text/plain": [
       "NaN     11066\n",
       "12.0     2594\n",
       "24.0     1118\n",
       "60.0      401\n",
       "36.0      279\n",
       "48.0      149\n",
       "6.0       125\n",
       "72.0       59\n",
       "3.0        33\n",
       "23.0       11\n",
       "18.0       10\n",
       "20.0        7\n",
       "25.0        6\n",
       "2.0         5\n",
       "50.0        4\n",
       "26.0        4\n",
       "16.0        4\n",
       "19.0        3\n",
       "1.0         3\n",
       "4.0         3\n",
       "13.0        3\n",
       "34.0        3\n",
       "45.0        2\n",
       "14.0        2\n",
       "17.0        2\n",
       "11.0        2\n",
       "46.0        2\n",
       "28.0        2\n",
       "21.0        2\n",
       "22.0        2\n",
       "9.0         2\n",
       "30.0        1\n",
       "33.0        1\n",
       "56.0        1\n",
       "40.0        1\n",
       "7.0         1\n",
       "15.0        1\n",
       "8.0         1\n",
       "10.0        1\n",
       "49.0        1\n",
       "47.0        1\n",
       "65.0        1\n",
       "Name: warranty_months, dtype: int64"
      ]
     },
     "execution_count": 49,
     "metadata": {},
     "output_type": "execute_result"
    }
   ],
   "source": [
    "df[\"warranty_months\"].value_counts(dropna=False)"
   ]
  },
  {
   "cell_type": "code",
   "execution_count": 50,
   "id": "c6341230-068d-4bd7-aba1-93996b5db9e8",
   "metadata": {},
   "outputs": [],
   "source": [
    "df.drop(\"warranty\", axis=1, inplace=True)"
   ]
  },
  {
   "cell_type": "markdown",
   "id": "807a1223-f9ea-475e-a543-1e6776e4bd69",
   "metadata": {},
   "source": [
    "## null"
   ]
  },
  {
   "cell_type": "code",
   "execution_count": 51,
   "id": "b5a2599c-25c0-4383-986f-80dc68ff3b07",
   "metadata": {},
   "outputs": [
    {
     "ename": "TypeError",
     "evalue": "unhashable type: 'list'",
     "output_type": "error",
     "traceback": [
      "\u001b[1;31m---------------------------------------------------------------------------\u001b[0m",
      "\u001b[1;31mTypeError\u001b[0m                                 Traceback (most recent call last)",
      "\u001b[1;32mpandas\\_libs\\hashtable_class_helper.pxi\u001b[0m in \u001b[0;36mpandas._libs.hashtable.PyObjectHashTable.map_locations\u001b[1;34m()\u001b[0m\n",
      "\u001b[1;31mTypeError\u001b[0m: unhashable type: 'list'"
     ]
    },
    {
     "name": "stderr",
     "output_type": "stream",
     "text": [
      "Exception ignored in: 'pandas._libs.index.IndexEngine._call_map_locations'\n",
      "Traceback (most recent call last):\n",
      "  File \"pandas\\_libs\\hashtable_class_helper.pxi\", line 4588, in pandas._libs.hashtable.PyObjectHashTable.map_locations\n",
      "TypeError: unhashable type: 'list'\n"
     ]
    },
    {
     "data": {
      "text/plain": [
       "[]    15919\n",
       "Name: null, dtype: int64"
      ]
     },
     "execution_count": 51,
     "metadata": {},
     "output_type": "execute_result"
    }
   ],
   "source": [
    "df[\"null\"].value_counts(dropna=False)"
   ]
  },
  {
   "cell_type": "code",
   "execution_count": 52,
   "id": "25cf4e56-edb5-4df2-98ff-0c479243de2d",
   "metadata": {},
   "outputs": [],
   "source": [
    "df.drop(\"null\",axis=1,inplace=True)"
   ]
  },
  {
   "cell_type": "markdown",
   "id": "4261b5b1-e4e5-40c8-832a-fefd2a397745",
   "metadata": {},
   "source": [
    "## offer_number"
   ]
  },
  {
   "cell_type": "code",
   "execution_count": 53,
   "id": "b1124791-6c51-4a79-84ad-ccfe03b51270",
   "metadata": {},
   "outputs": [
    {
     "ename": "TypeError",
     "evalue": "unhashable type: 'list'",
     "output_type": "error",
     "traceback": [
      "\u001b[1;31m---------------------------------------------------------------------------\u001b[0m",
      "\u001b[1;31mTypeError\u001b[0m                                 Traceback (most recent call last)",
      "\u001b[1;32mpandas\\_libs\\hashtable_class_helper.pxi\u001b[0m in \u001b[0;36mpandas._libs.hashtable.PyObjectHashTable.map_locations\u001b[1;34m()\u001b[0m\n",
      "\u001b[1;31mTypeError\u001b[0m: unhashable type: 'list'"
     ]
    },
    {
     "name": "stderr",
     "output_type": "stream",
     "text": [
      "Exception ignored in: 'pandas._libs.index.IndexEngine._call_map_locations'\n",
      "Traceback (most recent call last):\n",
      "  File \"pandas\\_libs\\hashtable_class_helper.pxi\", line 4588, in pandas._libs.hashtable.PyObjectHashTable.map_locations\n",
      "TypeError: unhashable type: 'list'\n"
     ]
    },
    {
     "data": {
      "text/plain": [
       "NaN                3175\n",
       "[\\nXT61649\\n]        27\n",
       "[\\nHM53619\\n]        27\n",
       "[\\nTP62881\\n]        27\n",
       "[\\nJV03654\\n]        27\n",
       "                   ... \n",
       "[\\n9277941\\n]         1\n",
       "[\\n19155-1\\n]         1\n",
       "[\\n3124254\\n]         1\n",
       "[\\nJ1109546\\n]        1\n",
       "[\\n040394-MO\\n]       1\n",
       "Name: offer_number, Length: 11441, dtype: int64"
      ]
     },
     "execution_count": 53,
     "metadata": {},
     "output_type": "execute_result"
    }
   ],
   "source": [
    "df[\"offer_number\"].value_counts(dropna=False)"
   ]
  },
  {
   "cell_type": "code",
   "execution_count": 54,
   "id": "270b6496-4225-4d99-8fe8-4fd52c83730e",
   "metadata": {},
   "outputs": [],
   "source": [
    "df.drop(\"offer_number\", axis=1, inplace=True)"
   ]
  },
  {
   "cell_type": "markdown",
   "id": "99ac0d94-841c-43ea-b7da-ed1c43b77c57",
   "metadata": {},
   "source": [
    "## body_color & body_color_original"
   ]
  },
  {
   "cell_type": "code",
   "execution_count": 55,
   "id": "bc023aea-4a37-4a3c-b0f0-7c4f51b113c0",
   "metadata": {},
   "outputs": [
    {
     "data": {
      "text/plain": [
       "['\\n', 'Black', '\\n']     3745\n",
       "['\\n', 'Grey', '\\n']      3505\n",
       "['\\n', 'White', '\\n']     3406\n",
       "['\\n', 'Silver', '\\n']    1647\n",
       "['\\n', 'Blue', '\\n']      1431\n",
       "['\\n', 'Red', '\\n']        957\n",
       "nan                        597\n",
       "['\\n', 'Brown', '\\n']      289\n",
       "['\\n', 'Green', '\\n']      154\n",
       "['\\n', 'Beige', '\\n']      108\n",
       "['\\n', 'Yellow', '\\n']      51\n",
       "['\\n', 'Violet', '\\n']      18\n",
       "['\\n', 'Bronze', '\\n']       6\n",
       "['\\n', 'Orange', '\\n']       3\n",
       "['\\n', 'Gold', '\\n']         2\n",
       "Name: body_color, dtype: int64"
      ]
     },
     "execution_count": 55,
     "metadata": {},
     "output_type": "execute_result"
    }
   ],
   "source": [
    "df[\"body_color\"].astype(str).value_counts(dropna=False)  # this astype(str) is used for the warning when the column has both str and list."
   ]
  },
  {
   "cell_type": "code",
   "execution_count": 56,
   "id": "a2bcef15-88bf-47b3-8513-7425eb7daba9",
   "metadata": {},
   "outputs": [
    {
     "data": {
      "text/plain": [
       "nan                                      3759\n",
       "['\\nOnyx Schwarz\\n']                      338\n",
       "['\\nBianco\\n']                            282\n",
       "['\\nMythosschwarz Metallic\\n']            238\n",
       "['\\nBrillantschwarz\\n']                   216\n",
       "                                         ... \n",
       "['\\nBIANCO GLACIALE\\n']                     1\n",
       "['\\nRiojaRed/Rouge Braun\\n']                1\n",
       "['\\nFlorettsilber Metallic (grijs\\n']       1\n",
       "['\\nMisano-Rot Perleffekt\\n']               1\n",
       "['\\nOLYMPICWHITEG\\n']                       1\n",
       "Name: body_color_original, Length: 1928, dtype: int64"
      ]
     },
     "execution_count": 56,
     "metadata": {},
     "output_type": "execute_result"
    }
   ],
   "source": [
    "df[\"body_color_original\"].astype(str).value_counts(dropna=False)"
   ]
  },
  {
   "cell_type": "markdown",
   "id": "5495a53f-7e4d-4e90-9435-a0103e8300be",
   "metadata": {},
   "source": [
    "they are almost the same but body_color is simpler. "
   ]
  },
  {
   "cell_type": "code",
   "execution_count": 57,
   "id": "aa64b92c-86d3-4397-9fe2-279e93b97303",
   "metadata": {},
   "outputs": [],
   "source": [
    "df.drop(\"body_color_original\", axis=1, inplace=True)"
   ]
  },
  {
   "cell_type": "code",
   "execution_count": 58,
   "id": "e6217e8d-7a1d-4c66-a151-41b9fc5be0a3",
   "metadata": {},
   "outputs": [],
   "source": [
    "df[\"body_color\"] = df[\"body_color\"].str[1]"
   ]
  },
  {
   "cell_type": "code",
   "execution_count": 59,
   "id": "37e1172e-24a6-41b5-9e0f-0c97334d7668",
   "metadata": {},
   "outputs": [
    {
     "data": {
      "text/plain": [
       "Black     3745\n",
       "Grey      3505\n",
       "White     3406\n",
       "Silver    1647\n",
       "Blue      1431\n",
       "Red        957\n",
       "NaN        597\n",
       "Brown      289\n",
       "Green      154\n",
       "Beige      108\n",
       "Yellow      51\n",
       "Violet      18\n",
       "Bronze       6\n",
       "Orange       3\n",
       "Gold         2\n",
       "Name: body_color, dtype: int64"
      ]
     },
     "execution_count": 59,
     "metadata": {},
     "output_type": "execute_result"
    }
   ],
   "source": [
    "df[\"body_color\"].value_counts(dropna=False)"
   ]
  },
  {
   "cell_type": "markdown",
   "id": "0cd89741-5c28-4b58-9ea3-2bec1474fca9",
   "metadata": {},
   "source": [
    "## paint_type"
   ]
  },
  {
   "cell_type": "code",
   "execution_count": 60,
   "id": "057e1460-77fb-499a-a420-c633a6f77cd1",
   "metadata": {},
   "outputs": [
    {
     "data": {
      "text/plain": [
       "['\\nMetallic\\n']       9794\n",
       "nan                    5772\n",
       "['\\nUni/basic\\n']       347\n",
       "['\\nPerl effect\\n']       6\n",
       "Name: paint_type, dtype: int64"
      ]
     },
     "execution_count": 60,
     "metadata": {},
     "output_type": "execute_result"
    }
   ],
   "source": [
    "df[\"paint_type\"].astype(str).value_counts(dropna=False)"
   ]
  },
  {
   "cell_type": "code",
   "execution_count": 61,
   "id": "d9c97080-e8ea-4c2d-b65b-dab0b8d314d9",
   "metadata": {},
   "outputs": [],
   "source": [
    "df[\"paint_type\"] = df[\"paint_type\"].apply(lambda x : x[0].strip(\"\\n\") if type(x)==list else np.nan)"
   ]
  },
  {
   "cell_type": "code",
   "execution_count": 62,
   "id": "ef45b5c7-cd80-480f-b426-6fb8077d2ffb",
   "metadata": {},
   "outputs": [
    {
     "data": {
      "text/plain": [
       "Metallic       9794\n",
       "NaN            5772\n",
       "Uni/basic       347\n",
       "Perl effect       6\n",
       "Name: paint_type, dtype: int64"
      ]
     },
     "execution_count": 62,
     "metadata": {},
     "output_type": "execute_result"
    }
   ],
   "source": [
    "df[\"paint_type\"].value_counts(dropna=False)"
   ]
  },
  {
   "cell_type": "markdown",
   "id": "8cfdf63d-21c0-4e95-891f-850b62b6a512",
   "metadata": {},
   "source": [
    "### nr_of_doors & nr_of_seats"
   ]
  },
  {
   "cell_type": "code",
   "execution_count": null,
   "id": "aa991af8-3ff8-4a1b-b8a8-bbc7f5639b56",
   "metadata": {},
   "outputs": [],
   "source": []
  },
  {
   "cell_type": "code",
   "execution_count": 63,
   "id": "b0122177-3926-447c-a83b-c1ccd7767fb4",
   "metadata": {},
   "outputs": [
    {
     "data": {
      "text/plain": [
       "['\\n5\\n']    11575\n",
       "['\\n4\\n']     3079\n",
       "['\\n3\\n']      832\n",
       "['\\n2\\n']      219\n",
       "nan            212\n",
       "['\\n7\\n']        1\n",
       "['\\n1\\n']        1\n",
       "Name: nr_of_doors, dtype: int64"
      ]
     },
     "execution_count": 63,
     "metadata": {},
     "output_type": "execute_result"
    }
   ],
   "source": [
    "df[\"nr_of_doors\"].astype(str).value_counts(dropna=False)"
   ]
  },
  {
   "cell_type": "code",
   "execution_count": 64,
   "id": "8a8ae452-2a71-4a87-8c15-369ca6c28b0f",
   "metadata": {},
   "outputs": [],
   "source": [
    "df[\"nr_of_doors\"] = df[\"nr_of_doors\"].apply(lambda x : float(x[0].strip(\"\\n\")) if type(x)==list else np.nan)"
   ]
  },
  {
   "cell_type": "code",
   "execution_count": 65,
   "id": "9fcec856-5fba-433a-99e5-7b9e31b0b731",
   "metadata": {},
   "outputs": [
    {
     "data": {
      "text/plain": [
       "5.0    11575\n",
       "4.0     3079\n",
       "3.0      832\n",
       "2.0      219\n",
       "NaN      212\n",
       "7.0        1\n",
       "1.0        1\n",
       "Name: nr_of_doors, dtype: int64"
      ]
     },
     "execution_count": 65,
     "metadata": {},
     "output_type": "execute_result"
    }
   ],
   "source": [
    "df[\"nr_of_doors\"].value_counts(dropna=False)"
   ]
  },
  {
   "cell_type": "code",
   "execution_count": 66,
   "id": "06db9058-79ba-46b4-a61b-22afd1aee49b",
   "metadata": {},
   "outputs": [],
   "source": [
    "df[\"nr_of_seats\"] = df[\"nr_of_seats\"].apply(lambda x : float(x[0].strip(\"\\n\")) if type(x)==list else np.nan)"
   ]
  },
  {
   "cell_type": "code",
   "execution_count": 67,
   "id": "fdd343b5-4e82-484a-a78e-05ecb09af579",
   "metadata": {},
   "outputs": [
    {
     "data": {
      "text/plain": [
       "5.0    13336\n",
       "4.0     1125\n",
       "NaN      977\n",
       "7.0      362\n",
       "2.0      116\n",
       "6.0        2\n",
       "3.0        1\n",
       "Name: nr_of_seats, dtype: int64"
      ]
     },
     "execution_count": 67,
     "metadata": {},
     "output_type": "execute_result"
    }
   ],
   "source": [
    "df[\"nr_of_seats\"].value_counts(dropna=False)"
   ]
  },
  {
   "cell_type": "markdown",
   "id": "2a7d100e-f4d4-4cb9-a9d1-75dcd1cfc85f",
   "metadata": {},
   "source": [
    "### gearing_type & gears"
   ]
  },
  {
   "cell_type": "code",
   "execution_count": 68,
   "id": "d754d888-5d12-49f2-b2c0-4b0756c0dae2",
   "metadata": {},
   "outputs": [
    {
     "data": {
      "text/plain": [
       "['\\n', 'Manual', '\\n']            8153\n",
       "['\\n', 'Automatic', '\\n']         7297\n",
       "['\\n', 'Semi-automatic', '\\n']     469\n",
       "Name: gearing_type, dtype: int64"
      ]
     },
     "execution_count": 68,
     "metadata": {},
     "output_type": "execute_result"
    }
   ],
   "source": [
    "df[\"gearing_type\"].astype(str).value_counts(dropna=False)"
   ]
  },
  {
   "cell_type": "code",
   "execution_count": 69,
   "id": "de59bf7c-3884-4805-8743-c8f3436986b1",
   "metadata": {},
   "outputs": [],
   "source": [
    "df[\"gearing_type\"]=df[\"gearing_type\"].str[1]"
   ]
  },
  {
   "cell_type": "code",
   "execution_count": 70,
   "id": "4f7f0538-b2f9-4319-9a77-52f506beffb7",
   "metadata": {},
   "outputs": [
    {
     "data": {
      "text/plain": [
       "Manual            8153\n",
       "Automatic         7297\n",
       "Semi-automatic     469\n",
       "Name: gearing_type, dtype: int64"
      ]
     },
     "execution_count": 70,
     "metadata": {},
     "output_type": "execute_result"
    }
   ],
   "source": [
    "df[\"gearing_type\"].value_counts(dropna=False)"
   ]
  },
  {
   "cell_type": "code",
   "execution_count": 71,
   "id": "e638bc08-919a-4046-8fdb-d5f4d3b73df3",
   "metadata": {},
   "outputs": [
    {
     "data": {
      "text/plain": [
       "['\\n6\\n']     5822\n",
       "nan           4712\n",
       "['\\n5\\n']     3239\n",
       "['\\n7\\n']     1908\n",
       "['\\n8\\n']      224\n",
       "['\\n9\\n']        6\n",
       "['\\n3\\n']        2\n",
       "['\\n4\\n']        2\n",
       "['\\n1\\n']        2\n",
       "['\\n2\\n']        1\n",
       "['\\n50\\n']       1\n",
       "Name: gears, dtype: int64"
      ]
     },
     "execution_count": 71,
     "metadata": {},
     "output_type": "execute_result"
    }
   ],
   "source": [
    "df[\"gears\"].astype(str).value_counts(dropna=False)"
   ]
  },
  {
   "cell_type": "code",
   "execution_count": 72,
   "id": "46931f70-1b5b-4469-b6cb-f1a0482afb5b",
   "metadata": {},
   "outputs": [
    {
     "data": {
      "text/plain": [
       "6.0     5822\n",
       "NaN     4712\n",
       "5.0     3239\n",
       "7.0     1908\n",
       "8.0      224\n",
       "9.0        6\n",
       "4.0        2\n",
       "1.0        2\n",
       "3.0        2\n",
       "50.0       1\n",
       "2.0        1\n",
       "Name: gears, dtype: int64"
      ]
     },
     "execution_count": 72,
     "metadata": {},
     "output_type": "execute_result"
    }
   ],
   "source": [
    "df[\"gears\"] = df[\"gears\"].apply(lambda x : float(x[0].strip(\"\\n\")) if type(x)==list else np.nan)\n",
    "df[\"gears\"].value_counts(dropna=False)"
   ]
  },
  {
   "cell_type": "markdown",
   "id": "956eab4d-c4f5-4ce8-8f53-6d2238aed7e1",
   "metadata": {},
   "source": [
    "## model_code"
   ]
  },
  {
   "cell_type": "code",
   "execution_count": 73,
   "id": "38712124-ac65-460e-aa2b-2c59f0148f6d",
   "metadata": {},
   "outputs": [
    {
     "data": {
      "text/plain": [
       "nan                 10941\n",
       "['\\n0035/BCB\\n']      268\n",
       "['\\n0588/BNO\\n']      245\n",
       "['\\n0588/BDB\\n']      206\n",
       "['\\n0588/BHX\\n']      188\n",
       "                    ...  \n",
       "['\\n1844/999\\n']        1\n",
       "['\\n0035/BGI\\n']        1\n",
       "['\\n3333/BBL\\n']        1\n",
       "['\\n0035/ACW\\n']        1\n",
       "['\\n0588/BAE\\n']        1\n",
       "Name: model_code, Length: 233, dtype: int64"
      ]
     },
     "execution_count": 73,
     "metadata": {},
     "output_type": "execute_result"
    }
   ],
   "source": [
    "df.model_code.astype(str).value_counts(dropna=False)"
   ]
  },
  {
   "cell_type": "markdown",
   "id": "604ee06d-db6f-45bf-b958-1f13c8dec6bb",
   "metadata": {},
   "source": [
    "We could use this column to fill the missing values in the other columns. But I don't think that is that much necessary for now."
   ]
  },
  {
   "cell_type": "code",
   "execution_count": 74,
   "id": "be1a9b9c-8d21-4935-9e94-7794dd308ccd",
   "metadata": {},
   "outputs": [],
   "source": [
    "df.drop(\"model_code\", axis=1, inplace=True)"
   ]
  },
  {
   "cell_type": "markdown",
   "id": "7af80eff-21cf-4e8d-895a-bc78a7c78b7f",
   "metadata": {},
   "source": [
    "## displacement"
   ]
  },
  {
   "cell_type": "code",
   "execution_count": 75,
   "id": "8dc7ca0e-080f-4641-9a05-b4c939821ed6",
   "metadata": {},
   "outputs": [
    {
     "data": {
      "text/plain": [
       "['\\n1,598 cc\\n']     4761\n",
       "['\\n999 cc\\n']       2438\n",
       "['\\n1,398 cc\\n']     1314\n",
       "['\\n1,399 cc\\n']      749\n",
       "['\\n1,229 cc\\n']      677\n",
       "['\\n1,956 cc\\n']      670\n",
       "['\\n1,461 cc\\n']      595\n",
       "['\\n1,490 cc\\n']      559\n",
       "nan                   496\n",
       "['\\n1,422 cc\\n']      467\n",
       "['\\n1,197 cc\\n']      353\n",
       "['\\n898 cc\\n']        351\n",
       "['\\n1,395 cc\\n']      320\n",
       "['\\n1,968 cc\\n']      301\n",
       "['\\n1,149 cc\\n']      288\n",
       "['\\n1,618 cc\\n']      212\n",
       "['\\n1,798 cc\\n']      210\n",
       "['\\n1,498 cc\\n']      196\n",
       "['\\n1,600 cc\\n']      130\n",
       "['\\n1,248 cc\\n']      110\n",
       "['\\n1,997 cc\\n']      103\n",
       "['\\n1,364 cc\\n']      102\n",
       "['\\n1,400 cc\\n']       90\n",
       "['\\n998 cc\\n']         72\n",
       "['\\n1,500 cc\\n']       50\n",
       "['\\n2,000 cc\\n']       46\n",
       "['\\n1,000 cc\\n']       40\n",
       "['\\n1 cc\\n']           36\n",
       "['\\n1,998 cc\\n']       25\n",
       "['\\n2,480 cc\\n']       20\n",
       "['\\n1,984 cc\\n']       18\n",
       "['\\n1,200 cc\\n']       18\n",
       "['\\n1,397 cc\\n']       11\n",
       "['\\n899 cc\\n']         11\n",
       "['\\n160 cc\\n']          6\n",
       "['\\n1,499 cc\\n']        5\n",
       "['\\n929 cc\\n']          5\n",
       "['\\n900 cc\\n']          4\n",
       "['\\n997 cc\\n']          4\n",
       "['\\n139 cc\\n']          4\n",
       "['\\n1,596 cc\\n']        4\n",
       "['\\n1,199 cc\\n']        3\n",
       "['\\n1,599 cc\\n']        3\n",
       "['\\n1,396 cc\\n']        3\n",
       "['\\n1,495 cc\\n']        2\n",
       "['\\n2 cc\\n']            2\n",
       "['\\n995 cc\\n']          2\n",
       "['\\n1,589 cc\\n']        2\n",
       "['\\n1,300 cc\\n']        2\n",
       "['\\n1,368 cc\\n']        1\n",
       "['\\n1,584 cc\\n']        1\n",
       "['\\n15,898 cc\\n']       1\n",
       "['\\n890 cc\\n']          1\n",
       "['\\n1,100 cc\\n']        1\n",
       "['\\n1,995 cc\\n']        1\n",
       "['\\n1,195 cc\\n']        1\n",
       "['\\n1,896 cc\\n']        1\n",
       "['\\n1,239 cc\\n']        1\n",
       "['\\n54 cc\\n']           1\n",
       "['\\n1,696 cc\\n']        1\n",
       "['\\n1,800 cc\\n']        1\n",
       "['\\n1,856 cc\\n']        1\n",
       "['\\n1,533 cc\\n']        1\n",
       "['\\n1,580 cc\\n']        1\n",
       "['\\n996 cc\\n']          1\n",
       "['\\n1,369 cc\\n']        1\n",
       "['\\n1,496 cc\\n']        1\n",
       "['\\n1,350 cc\\n']        1\n",
       "['\\n1,686 cc\\n']        1\n",
       "['\\n1,333 cc\\n']        1\n",
       "['\\n973 cc\\n']          1\n",
       "['\\n140 cc\\n']          1\n",
       "['\\n1,568 cc\\n']        1\n",
       "['\\n1,198 cc\\n']        1\n",
       "['\\n16,000 cc\\n']       1\n",
       "['\\n122 cc\\n']          1\n",
       "['\\n1,390 cc\\n']        1\n",
       "['\\n2,967 cc\\n']        1\n",
       "Name: displacement, dtype: int64"
      ]
     },
     "execution_count": 75,
     "metadata": {},
     "output_type": "execute_result"
    }
   ],
   "source": [
    "df.displacement.astype(str).value_counts(dropna=False)"
   ]
  },
  {
   "cell_type": "code",
   "execution_count": 76,
   "id": "d516fea2-22d9-48d9-91bc-7eeed817e0c9",
   "metadata": {},
   "outputs": [],
   "source": [
    "df.displacement = df.displacement.apply(lambda x: x[0] if type(x)==list else x)\n",
    "df[\"displacement_cc\"]= df.displacement.str.strip(\"\\n cc\").str.replace(\",\",\"\").astype(float)"
   ]
  },
  {
   "cell_type": "code",
   "execution_count": 77,
   "id": "eb418ae9-d086-4425-9b55-ae09da5aa5b4",
   "metadata": {},
   "outputs": [
    {
     "data": {
      "text/plain": [
       "1598.0     4761\n",
       "999.0      2438\n",
       "1398.0     1314\n",
       "1399.0      749\n",
       "1229.0      677\n",
       "1956.0      670\n",
       "1461.0      595\n",
       "1490.0      559\n",
       "NaN         496\n",
       "1422.0      467\n",
       "1197.0      353\n",
       "898.0       351\n",
       "1395.0      320\n",
       "1968.0      301\n",
       "1149.0      288\n",
       "1618.0      212\n",
       "1798.0      210\n",
       "1498.0      196\n",
       "1600.0      130\n",
       "1248.0      110\n",
       "1997.0      103\n",
       "1364.0      102\n",
       "1400.0       90\n",
       "998.0        72\n",
       "1500.0       50\n",
       "2000.0       46\n",
       "1000.0       40\n",
       "1.0          36\n",
       "1998.0       25\n",
       "2480.0       20\n",
       "1984.0       18\n",
       "1200.0       18\n",
       "899.0        11\n",
       "1397.0       11\n",
       "160.0         6\n",
       "1499.0        5\n",
       "929.0         5\n",
       "139.0         4\n",
       "900.0         4\n",
       "1596.0        4\n",
       "997.0         4\n",
       "1199.0        3\n",
       "1599.0        3\n",
       "1396.0        3\n",
       "1495.0        2\n",
       "1300.0        2\n",
       "1589.0        2\n",
       "2.0           2\n",
       "995.0         2\n",
       "1568.0        1\n",
       "1584.0        1\n",
       "16000.0       1\n",
       "1369.0        1\n",
       "996.0         1\n",
       "1686.0        1\n",
       "1100.0        1\n",
       "1496.0        1\n",
       "1195.0        1\n",
       "1896.0        1\n",
       "1239.0        1\n",
       "890.0         1\n",
       "973.0         1\n",
       "1198.0        1\n",
       "1333.0        1\n",
       "15898.0       1\n",
       "1995.0        1\n",
       "2967.0        1\n",
       "1800.0        1\n",
       "1350.0        1\n",
       "1580.0        1\n",
       "1696.0        1\n",
       "122.0         1\n",
       "140.0         1\n",
       "1368.0        1\n",
       "1390.0        1\n",
       "54.0          1\n",
       "1856.0        1\n",
       "1533.0        1\n",
       "Name: displacement_cc, dtype: int64"
      ]
     },
     "execution_count": 77,
     "metadata": {},
     "output_type": "execute_result"
    }
   ],
   "source": [
    "df.displacement_cc.value_counts(dropna=False)"
   ]
  },
  {
   "cell_type": "code",
   "execution_count": 78,
   "id": "e13c73f8-94a4-43ae-a7fe-795df1a8a870",
   "metadata": {},
   "outputs": [],
   "source": [
    "df.drop(\"displacement\", axis=1, inplace=True)"
   ]
  },
  {
   "cell_type": "markdown",
   "id": "58100369-390b-4ad2-815b-5864da88e575",
   "metadata": {},
   "source": [
    "## cylinders"
   ]
  },
  {
   "cell_type": "code",
   "execution_count": 79,
   "id": "c1dc6aaf-b3c2-4bc9-9e0a-ccd3eadc0896",
   "metadata": {},
   "outputs": [
    {
     "data": {
      "text/plain": [
       "['\\n4\\n']    8105\n",
       "nan          5680\n",
       "['\\n3\\n']    2104\n",
       "['\\n5\\n']      22\n",
       "['\\n6\\n']       3\n",
       "['\\n8\\n']       2\n",
       "['\\n2\\n']       2\n",
       "['\\n1\\n']       1\n",
       "Name: cylinders, dtype: int64"
      ]
     },
     "execution_count": 79,
     "metadata": {},
     "output_type": "execute_result"
    }
   ],
   "source": [
    "df.cylinders.astype(str).value_counts(dropna=False)"
   ]
  },
  {
   "cell_type": "code",
   "execution_count": 80,
   "id": "1474b62f-de9f-4027-aa4c-ab637cf98008",
   "metadata": {},
   "outputs": [],
   "source": [
    "df.cylinders= df.cylinders.apply(lambda x: x[0] if type(x)==list else x)\n",
    "df.cylinders=df.cylinders.str.strip(\"\\n\").astype(float)"
   ]
  },
  {
   "cell_type": "markdown",
   "id": "1111bf90-17e2-46b1-8157-2c75d3fd7e5f",
   "metadata": {},
   "source": [
    "## weight"
   ]
  },
  {
   "cell_type": "code",
   "execution_count": 81,
   "id": "74f69943-886e-4644-84e2-3e93856a2c5d",
   "metadata": {},
   "outputs": [
    {
     "data": {
      "text/plain": [
       "nan                 6974\n",
       "['\\n1,163 kg\\n']     574\n",
       "['\\n1,360 kg\\n']     356\n",
       "['\\n1,165 kg\\n']     301\n",
       "['\\n1,335 kg\\n']     242\n",
       "                    ... \n",
       "['\\n1,435 kg\\n']       1\n",
       "['\\n1,217 kg\\n']       1\n",
       "['\\n1,366 kg\\n']       1\n",
       "['\\n1,189 kg\\n']       1\n",
       "['\\n1,960 kg\\n']       1\n",
       "Name: weight, Length: 435, dtype: int64"
      ]
     },
     "execution_count": 81,
     "metadata": {},
     "output_type": "execute_result"
    }
   ],
   "source": [
    "df.weight.astype(str).value_counts()"
   ]
  },
  {
   "cell_type": "code",
   "execution_count": 82,
   "id": "b4e88e4f-fb74-4da0-80a6-9a9fea50df3e",
   "metadata": {},
   "outputs": [],
   "source": [
    "df.weight = df.weight.apply(lambda x: x[0] if type(x)==list else x)\n",
    "df[\"weight_kg\"] = df.weight.str.strip(\"\\nkg \").str.replace(\",\",\"\").astype(float)"
   ]
  },
  {
   "cell_type": "code",
   "execution_count": 83,
   "id": "131a7246-573b-4c82-887c-bf6200c1eed9",
   "metadata": {},
   "outputs": [
    {
     "data": {
      "text/plain": [
       "NaN       6974\n",
       "1163.0     574\n",
       "1360.0     356\n",
       "1165.0     301\n",
       "1335.0     242\n",
       "          ... \n",
       "1161.0       1\n",
       "1254.0       1\n",
       "1379.0       1\n",
       "1575.0       1\n",
       "1159.0       1\n",
       "Name: weight_kg, Length: 435, dtype: int64"
      ]
     },
     "execution_count": 83,
     "metadata": {},
     "output_type": "execute_result"
    }
   ],
   "source": [
    "df.weight_kg.value_counts(dropna=False)"
   ]
  },
  {
   "cell_type": "code",
   "execution_count": 84,
   "id": "d370bb66-8e36-4a44-b467-70fa344a255c",
   "metadata": {},
   "outputs": [],
   "source": [
    "df.drop(\"weight\", axis=1, inplace=True)"
   ]
  },
  {
   "cell_type": "markdown",
   "id": "1d3beedd-f061-4c44-a37d-e7b8d650a033",
   "metadata": {},
   "source": [
    "## drive_chain"
   ]
  },
  {
   "cell_type": "code",
   "execution_count": 85,
   "id": "109e72d9-90f3-470e-a32b-83b25a919ff0",
   "metadata": {},
   "outputs": [
    {
     "data": {
      "text/plain": [
       "['\\nfront\\n']    8886\n",
       "nan              6858\n",
       "['\\n4WD\\n']       171\n",
       "['\\nrear\\n']        4\n",
       "Name: drive_chain, dtype: int64"
      ]
     },
     "execution_count": 85,
     "metadata": {},
     "output_type": "execute_result"
    }
   ],
   "source": [
    "df.drive_chain.astype(str).value_counts(dropna=False)"
   ]
  },
  {
   "cell_type": "code",
   "execution_count": 86,
   "id": "47047bb7-5193-4614-92b6-609e6cc9b193",
   "metadata": {},
   "outputs": [
    {
     "data": {
      "text/plain": [
       "front    8886\n",
       "NaN      6858\n",
       "4WD       171\n",
       "rear        4\n",
       "Name: drive_chain, dtype: int64"
      ]
     },
     "execution_count": 86,
     "metadata": {},
     "output_type": "execute_result"
    }
   ],
   "source": [
    "df.drive_chain = df.drive_chain.apply(lambda x: x[0] if type(x)== list else x)\n",
    "df.drive_chain = df.drive_chain.str.strip(\"\\n\")\n",
    "df.drive_chain.value_counts(dropna=False)"
   ]
  },
  {
   "cell_type": "markdown",
   "id": "93011ad9-a9da-4c35-8216-f3da0b2fe754",
   "metadata": {},
   "source": [
    "## fuel"
   ]
  },
  {
   "cell_type": "code",
   "execution_count": 87,
   "id": "e38d9f7c-70ac-4e55-ae9c-870a538b0bff",
   "metadata": {},
   "outputs": [
    {
     "ename": "TypeError",
     "evalue": "unhashable type: 'list'",
     "output_type": "error",
     "traceback": [
      "\u001b[1;31m---------------------------------------------------------------------------\u001b[0m",
      "\u001b[1;31mTypeError\u001b[0m                                 Traceback (most recent call last)",
      "\u001b[1;32mpandas\\_libs\\hashtable_class_helper.pxi\u001b[0m in \u001b[0;36mpandas._libs.hashtable.PyObjectHashTable.map_locations\u001b[1;34m()\u001b[0m\n",
      "\u001b[1;31mTypeError\u001b[0m: unhashable type: 'list'"
     ]
    },
    {
     "name": "stderr",
     "output_type": "stream",
     "text": [
      "Exception ignored in: 'pandas._libs.index.IndexEngine._call_map_locations'\n",
      "Traceback (most recent call last):\n",
      "  File \"pandas\\_libs\\hashtable_class_helper.pxi\", line 4588, in pandas._libs.hashtable.PyObjectHashTable.map_locations\n",
      "TypeError: unhashable type: 'list'\n"
     ]
    },
    {
     "data": {
      "text/plain": [
       "[\\n, Diesel (Particulate Filter), \\n]                                                                                                       4315\n",
       "[\\n, Super 95, \\n]                                                                                                                          3338\n",
       "[\\n, Gasoline, \\n]                                                                                                                          3175\n",
       "[\\n, Diesel, \\n]                                                                                                                            2984\n",
       "[\\n, Super 95 / Regular/Benzine 91, \\n]                                                                                                      424\n",
       "[\\n, Regular/Benzine 91, \\n]                                                                                                                 354\n",
       "[\\n, Super E10 95, \\n]                                                                                                                       331\n",
       "[\\n, Super 95 (Particulate Filter), \\n]                                                                                                      268\n",
       "[\\n, Super 95 / Super E10 95, \\n]                                                                                                            131\n",
       "[\\n, Regular/Benzine 91 (Particulate Filter), \\n]                                                                                            100\n",
       "[\\n, Super 95 / Super Plus 98, \\n]                                                                                                            85\n",
       "[\\n, Gasoline (Particulate Filter), \\n]                                                                                                       77\n",
       "[\\n, Super 95 / Super Plus 98 / Super E10 95 / Super Plus E10 98, \\n]                                                                         40\n",
       "[\\n, Super E10 95 / Super 95, \\n]                                                                                                             38\n",
       "[\\n, CNG, \\n]                                                                                                                                 33\n",
       "[\\n, Super 95 / Super E10 95 (Particulate Filter), \\n]                                                                                        25\n",
       "[\\n, Super E10 95 / Super 95 / Super Plus 98 / Super Plus E10 98, \\n]                                                                         19\n",
       "[\\n, LPG, \\n]                                                                                                                                 16\n",
       "[\\n, Super 95 / Super Plus 98 (Particulate Filter), \\n]                                                                                       14\n",
       "[\\n, Regular/Benzine 91 / Super 95 / Super Plus 98 / Regular/Benzine E10 91 / Super E10 95 / Super Plus E10 98, \\n]                           13\n",
       "[\\n, Regular/Benzine E10 91, \\n]                                                                                                              11\n",
       "[\\n, Liquid petroleum gas (LPG), \\n]                                                                                                          10\n",
       "[\\n, Super 95 / Super Plus 98 / Super E10 95, \\n]                                                                                              8\n",
       "[\\n, Super E10 95 (Particulate Filter), \\n]                                                                                                    7\n",
       "[\\n, Super 95 / Regular/Benzine 91 / Super Plus 98 / Regular/Benzine E10 91 / Super E10 95 / Super Plus E10 98, \\n]                            7\n",
       "[\\n, Regular/Benzine 91 / Regular/Benzine E10 91, \\n]                                                                                          7\n",
       "[\\n, Super Plus 98, \\n]                                                                                                                        7\n",
       "[\\n, Super 95 / Super Plus 98 / Super Plus E10 98 / Super E10 95, \\n]                                                                          5\n",
       "[\\n, Others, \\n]                                                                                                                               5\n",
       "[\\n, Super 95 / Super Plus 98 / Super E10 95 / Super Plus E10 98 (Particulate Filter), \\n]                                                     4\n",
       "[\\n, Super 95 / Super E10 95 / Super Plus E10 98 / Super Plus 98, \\n]                                                                          4\n",
       "[\\n, Regular/Benzine 91 / Super 95 / Super Plus 98 / Regular/Benzine E10 91 / Super Plus E10 98 / Super E10 95, \\n]                            4\n",
       "[\\n, Electric/Gasoline, \\n]                                                                                                                    4\n",
       "[\\n, Super E10 95 / Super Plus E10 98, \\n]                                                                                                     4\n",
       "[\\n, CNG (Particulate Filter), \\n]                                                                                                             3\n",
       "[\\n, Super E10 95 / Super 95 / Super Plus 98, \\n]                                                                                              3\n",
       "[\\n, Super E10 95 / Super 95 / Super Plus 98 / Super Plus E10 98 (Particulate Filter), \\n]                                                     3\n",
       "[\\n, Regular/Benzine 91 / Super 95 / Super Plus 98 / Super Plus E10 98 / Super E10 95 / Regular/Benzine E10 91, \\n]                            2\n",
       "[\\n, Super E10 95 / Regular/Benzine 91, \\n]                                                                                                    2\n",
       "[\\n, Super 95 / Regular/Benzine 91 / Super Plus 98, \\n]                                                                                        2\n",
       "[\\n, Super Plus E10 98 / Super 95 / Super Plus 98 / Super E10 95, \\n]                                                                          1\n",
       "[\\n, Regular/Benzine 91 / Super 95, \\n]                                                                                                        1\n",
       "[\\n, Regular/Benzine 91 / Super 95 / Super E10 95 / Super Plus E10 98 / Super Plus 98 / Regular/Benzine E10 91, \\n]                            1\n",
       "[\\n, Super 95 / Super Plus 98 / Super Plus E10 98, \\n]                                                                                         1\n",
       "[\\n, Super 95 / Regular/Benzine 91 / Super E10 95 / Super Plus E10 98 / Super Plus 98, \\n]                                                     1\n",
       "[\\n, Super 95 / Super Plus 98 / Regular/Benzine E10 91 / Super Plus E10 98 / Super E10 95 / Regular/Benzine 91, \\n]                            1\n",
       "[\\n, Super 95 / Regular/Benzine 91 / Super E10 95 / Super Plus E10 98 / Super Plus 98 / Regular/Benzine E10 91, \\n]                            1\n",
       "[\\n, Super 95 / Regular/Benzine E10 91 / Super E10 95, \\n]                                                                                     1\n",
       "[\\n, Regular/Benzine 91 / Super 95 / Super Plus E10 98 / Super E10 95 / Regular/Benzine E10 91 / Super Plus 98, \\n]                            1\n",
       "[\\n, Regular/Benzine E10 91 / Regular/Benzine 91 / Super 95 / Super Plus 98 / Super E10 95 / Super Plus E10 98, \\n]                            1\n",
       "[\\n, Super 95 / Super E10 95 / Regular/Benzine 91, \\n]                                                                                         1\n",
       "[\\n, Super 95 / Regular/Benzine 91 / Super E10 95 / Super Plus 98 / Super Plus E10 98 / Regular/Benzine E10 91, \\n]                            1\n",
       "[\\n, Domestic gas H, \\n]                                                                                                                       1\n",
       "[\\n, Regular/Benzine 91 / Super 95 / Regular/Benzine E10 91 / Super E10 95 / Super Plus 98 / Super Plus E10 98, \\n]                            1\n",
       "[\\n, Super Plus 98 / Super 95 / Super E10 95, \\n]                                                                                              1\n",
       "[\\n, Others (Particulate Filter), \\n]                                                                                                          1\n",
       "[\\n, Super Plus E10 98, \\n]                                                                                                                    1\n",
       "[\\n, Super 95 / Super E10 95 / Super Plus E10 98, \\n]                                                                                          1\n",
       "[\\n, Super 95 / Biodiesel, \\n]                                                                                                                 1\n",
       "[\\n, Electric, \\n]                                                                                                                             1\n",
       "[\\n, Regular/Benzine 91 / Super 95 / Super Plus 98 / Super Plus E10 98 / Super E10 95 / Regular/Benzine E10 91 (Particulate Filter), \\n]       1\n",
       "[\\n, Regular/Benzine 91 / Super 95 / Regular/Benzine E10 91, \\n]                                                                               1\n",
       "[\\n, Regular/Benzine E10 91 / Super E10 95 / Super Plus E10 98 / Super Plus 98 / Super 95 / Regular/Benzine 91, \\n]                            1\n",
       "[\\n, Super 95 / Regular/Benzine 91 (Particulate Filter), \\n]                                                                                   1\n",
       "[\\n, Super E10 95 / Regular/Benzine 91 / Regular/Benzine E10 91 / Super 95, \\n]                                                                1\n",
       "[\\n, Super 95 / Regular/Benzine E10 91, \\n]                                                                                                    1\n",
       "[\\n, Super Plus 98 / Regular/Benzine 91, \\n]                                                                                                   1\n",
       "[\\n, Regular/Benzine 91 / Super 95 / Super E10 95, \\n]                                                                                         1\n",
       "[\\n, Super Plus 98 / Super 95 / Super Plus E10 98, \\n]                                                                                         1\n",
       "[\\n, Biogas, \\n]                                                                                                                               1\n",
       "[\\n, Super Plus 98 / Super E10 95, \\n]                                                                                                         1\n",
       "[\\n, Super E10 95 / Regular/Benzine 91 / Super 95 / Super Plus 98 / Regular/Benzine E10 91 / Super Plus E10 98, \\n]                            1\n",
       "[\\n, Super 95 / Regular/Benzine 91 / Super Plus 98 / Regular/Benzine E10 91 / Super Plus E10 98 / Super E10 95, \\n]                            1\n",
       "[\\n, Regular/Benzine 91 / Super Plus 98 / Regular/Benzine E10 91 / Super 95 / Super E10 95 / Super Plus E10 98, \\n]                            1\n",
       "[\\n, Regular/Benzine 91 / Super 95 / Super E10 95 / Regular/Benzine E10 91, \\n]                                                                1\n",
       "[\\n, Regular/Benzine 91 / Super 95 / Super Plus 98, \\n]                                                                                        1\n",
       "[\\n, Super 95 / Super E10 95 / Super Plus 98, \\n]                                                                                              1\n",
       "Name: fuel, dtype: int64"
      ]
     },
     "execution_count": 87,
     "metadata": {},
     "output_type": "execute_result"
    }
   ],
   "source": [
    "df.fuel.value_counts(dropna=False)"
   ]
  },
  {
   "cell_type": "code",
   "execution_count": 88,
   "id": "c365e77e-fbc4-43c8-a940-5fc76c4e3208",
   "metadata": {},
   "outputs": [],
   "source": [
    "df.fuel= df.fuel.apply(lambda x: x[1] if type(x)==list else x)"
   ]
  },
  {
   "cell_type": "code",
   "execution_count": 89,
   "id": "3f26cce7-79fe-4d40-8ace-71dda71c4439",
   "metadata": {},
   "outputs": [
    {
     "data": {
      "text/plain": [
       "Diesel (Particulate Filter)                                                                                                       4315\n",
       "Super 95                                                                                                                          3338\n",
       "Gasoline                                                                                                                          3175\n",
       "Diesel                                                                                                                            2984\n",
       "Super 95 / Regular/Benzine 91                                                                                                      424\n",
       "Regular/Benzine 91                                                                                                                 354\n",
       "Super E10 95                                                                                                                       331\n",
       "Super 95 (Particulate Filter)                                                                                                      268\n",
       "Super 95 / Super E10 95                                                                                                            131\n",
       "Regular/Benzine 91 (Particulate Filter)                                                                                            100\n",
       "Super 95 / Super Plus 98                                                                                                            85\n",
       "Gasoline (Particulate Filter)                                                                                                       77\n",
       "Super 95 / Super Plus 98 / Super E10 95 / Super Plus E10 98                                                                         40\n",
       "Super E10 95 / Super 95                                                                                                             38\n",
       "CNG                                                                                                                                 33\n",
       "Super 95 / Super E10 95 (Particulate Filter)                                                                                        25\n",
       "Super E10 95 / Super 95 / Super Plus 98 / Super Plus E10 98                                                                         19\n",
       "LPG                                                                                                                                 16\n",
       "Super 95 / Super Plus 98 (Particulate Filter)                                                                                       14\n",
       "Regular/Benzine 91 / Super 95 / Super Plus 98 / Regular/Benzine E10 91 / Super E10 95 / Super Plus E10 98                           13\n",
       "Regular/Benzine E10 91                                                                                                              11\n",
       "Liquid petroleum gas (LPG)                                                                                                          10\n",
       "Super 95 / Super Plus 98 / Super E10 95                                                                                              8\n",
       "Super E10 95 (Particulate Filter)                                                                                                    7\n",
       "Super Plus 98                                                                                                                        7\n",
       "Super 95 / Regular/Benzine 91 / Super Plus 98 / Regular/Benzine E10 91 / Super E10 95 / Super Plus E10 98                            7\n",
       "Regular/Benzine 91 / Regular/Benzine E10 91                                                                                          7\n",
       "Others                                                                                                                               5\n",
       "Super 95 / Super Plus 98 / Super Plus E10 98 / Super E10 95                                                                          5\n",
       "Regular/Benzine 91 / Super 95 / Super Plus 98 / Regular/Benzine E10 91 / Super Plus E10 98 / Super E10 95                            4\n",
       "Super 95 / Super Plus 98 / Super E10 95 / Super Plus E10 98 (Particulate Filter)                                                     4\n",
       "Electric/Gasoline                                                                                                                    4\n",
       "Super E10 95 / Super Plus E10 98                                                                                                     4\n",
       "Super 95 / Super E10 95 / Super Plus E10 98 / Super Plus 98                                                                          4\n",
       "Super E10 95 / Super 95 / Super Plus 98                                                                                              3\n",
       "CNG (Particulate Filter)                                                                                                             3\n",
       "Super E10 95 / Super 95 / Super Plus 98 / Super Plus E10 98 (Particulate Filter)                                                     3\n",
       "Super 95 / Regular/Benzine 91 / Super Plus 98                                                                                        2\n",
       "Super E10 95 / Regular/Benzine 91                                                                                                    2\n",
       "Regular/Benzine 91 / Super 95 / Super Plus 98 / Super Plus E10 98 / Super E10 95 / Regular/Benzine E10 91                            2\n",
       "Super 95 / Super E10 95 / Regular/Benzine 91                                                                                         1\n",
       "Super E10 95 / Regular/Benzine 91 / Regular/Benzine E10 91 / Super 95                                                                1\n",
       "Super 95 / Regular/Benzine 91 / Super Plus 98 / Regular/Benzine E10 91 / Super Plus E10 98 / Super E10 95                            1\n",
       "Super Plus 98 / Super 95 / Super Plus E10 98                                                                                         1\n",
       "Regular/Benzine 91 / Super 95 / Super E10 95 / Super Plus E10 98 / Super Plus 98 / Regular/Benzine E10 91                            1\n",
       "Regular/Benzine 91 / Super 95 / Super Plus E10 98 / Super E10 95 / Regular/Benzine E10 91 / Super Plus 98                            1\n",
       "Super Plus 98 / Super E10 95                                                                                                         1\n",
       "Super Plus E10 98                                                                                                                    1\n",
       "Super 95 / Regular/Benzine 91 / Super E10 95 / Super Plus E10 98 / Super Plus 98                                                     1\n",
       "Super Plus 98 / Regular/Benzine 91                                                                                                   1\n",
       "Super 95 / Regular/Benzine 91 / Super E10 95 / Super Plus E10 98 / Super Plus 98 / Regular/Benzine E10 91                            1\n",
       "Biogas                                                                                                                               1\n",
       "Regular/Benzine 91 / Super Plus 98 / Regular/Benzine E10 91 / Super 95 / Super E10 95 / Super Plus E10 98                            1\n",
       "Regular/Benzine 91 / Super 95 / Super Plus 98                                                                                        1\n",
       "Regular/Benzine 91 / Super 95                                                                                                        1\n",
       "Super 95 / Regular/Benzine 91 / Super E10 95 / Super Plus 98 / Super Plus E10 98 / Regular/Benzine E10 91                            1\n",
       "Regular/Benzine 91 / Super 95 / Regular/Benzine E10 91                                                                               1\n",
       "Super 95 / Regular/Benzine E10 91                                                                                                    1\n",
       "Super 95 / Regular/Benzine E10 91 / Super E10 95                                                                                     1\n",
       "Others (Particulate Filter)                                                                                                          1\n",
       "Super 95 / Super E10 95 / Super Plus 98                                                                                              1\n",
       "Regular/Benzine E10 91 / Regular/Benzine 91 / Super 95 / Super Plus 98 / Super E10 95 / Super Plus E10 98                            1\n",
       "Domestic gas H                                                                                                                       1\n",
       "Super Plus E10 98 / Super 95 / Super Plus 98 / Super E10 95                                                                          1\n",
       "Super 95 / Super Plus 98 / Super Plus E10 98                                                                                         1\n",
       "Regular/Benzine 91 / Super 95 / Regular/Benzine E10 91 / Super E10 95 / Super Plus 98 / Super Plus E10 98                            1\n",
       "Electric                                                                                                                             1\n",
       "Super 95 / Super E10 95 / Super Plus E10 98                                                                                          1\n",
       "Super 95 / Super Plus 98 / Regular/Benzine E10 91 / Super Plus E10 98 / Super E10 95 / Regular/Benzine 91                            1\n",
       "Regular/Benzine 91 / Super 95 / Super Plus 98 / Super Plus E10 98 / Super E10 95 / Regular/Benzine E10 91 (Particulate Filter)       1\n",
       "Regular/Benzine 91 / Super 95 / Super E10 95 / Regular/Benzine E10 91                                                                1\n",
       "Super Plus 98 / Super 95 / Super E10 95                                                                                              1\n",
       "Super E10 95 / Regular/Benzine 91 / Super 95 / Super Plus 98 / Regular/Benzine E10 91 / Super Plus E10 98                            1\n",
       "Super 95 / Biodiesel                                                                                                                 1\n",
       "Super 95 / Regular/Benzine 91 (Particulate Filter)                                                                                   1\n",
       "Regular/Benzine 91 / Super 95 / Super E10 95                                                                                         1\n",
       "Regular/Benzine E10 91 / Super E10 95 / Super Plus E10 98 / Super Plus 98 / Super 95 / Regular/Benzine 91                            1\n",
       "Name: fuel, dtype: int64"
      ]
     },
     "execution_count": 89,
     "metadata": {},
     "output_type": "execute_result"
    }
   ],
   "source": [
    "df.fuel.value_counts(dropna=False)"
   ]
  },
  {
   "cell_type": "code",
   "execution_count": 90,
   "id": "fa45f327-7360-42bd-b211-c010c0e2867b",
   "metadata": {},
   "outputs": [],
   "source": [
    "# we don't need that much different categories. so we can categorize them as diesel, benzine, electric and LPG\n",
    "diesel = [\"Diesel (Particulate Filter)\",\"Diesel\"]\n",
    "benzine = [\"Regular\", \"Super 95\", \"Super 95 (Particulate Filter)\", \"Super Plus 98\", \"Super E10 95\", \"Super E10 95 (Particulate Filter)\", \"Super Plus E10 98\",\"Gasoline (Particulate Filter)\", \"Gasoline\"]\n",
    "LPG = [\"Biogas\", \"Domestic gas H\", \"CNG\",\"CNG (Particulate Filter)\", \"Liquid petroleum gas (LPG)\", \"LPG\"]\n",
    "electric= [\"Electric\"]\n",
    "others = [\"Others\", \"Others (Particulate Filter)\"]\n"
   ]
  },
  {
   "cell_type": "code",
   "execution_count": 91,
   "id": "6332f1da-a8d6-4430-a4ef-9c0f566a4646",
   "metadata": {},
   "outputs": [],
   "source": [
    "df.fuel = df.fuel.str.split(\"/\").str[0].str.strip()"
   ]
  },
  {
   "cell_type": "code",
   "execution_count": 92,
   "id": "93e15d07-3391-4b9b-b3d4-e929bdf456f3",
   "metadata": {},
   "outputs": [
    {
     "data": {
      "text/plain": [
       "benzine     8545\n",
       "diesel      7299\n",
       "LPG           64\n",
       "others         6\n",
       "Electric       5\n",
       "Name: fuel, dtype: int64"
      ]
     },
     "execution_count": 92,
     "metadata": {},
     "output_type": "execute_result"
    }
   ],
   "source": [
    "df.fuel = df.fuel.apply(lambda x : \"diesel\" if x in diesel else x)\n",
    "df.fuel = df.fuel.apply(lambda x: \"benzine\" if x in benzine else x)\n",
    "df.fuel = df.fuel.apply(lambda x : \"LPG\" if x in LPG else x)\n",
    "df.fuel = df.fuel.apply(lambda x : \"others\" if x in others else x)\n",
    "df.fuel.value_counts(dropna=False)"
   ]
  },
  {
   "cell_type": "markdown",
   "id": "e20921fc-b6ef-4fd6-80a6-d2d3da47e68e",
   "metadata": {},
   "source": [
    "## consumption"
   ]
  },
  {
   "cell_type": "code",
   "execution_count": 93,
   "id": "af2dca2d-b9cd-4acc-835b-9d45ba4aa4eb",
   "metadata": {},
   "outputs": [
    {
     "data": {
      "text/plain": [
       "nan                                                                                               1906\n",
       "[['3.9 l/100 km (comb)'], ['4.1 l/100 km (city)'], ['3.7 l/100 km (country)']]                     304\n",
       "[['4.2 l/100 km (comb)'], ['5 l/100 km (city)'], ['3.7 l/100 km (country)']]                       276\n",
       "[['5.4 l/100 km (comb)'], ['6.8 l/100 km (city)'], ['4.5 l/100 km (country)']]                     257\n",
       "[['3.8 l/100 km (comb)'], ['4.3 l/100 km (city)'], ['3.5 l/100 km (country)']]                     253\n",
       "                                                                                                  ... \n",
       "[['5.2 l/100 km (comb)'], ['6.7 l/100 km (city)'], ['4.5 l/100 km (country)']]                       1\n",
       "['\\n', '5 l/100 km (comb)', '\\n', '5.5 l/100 km (city)', '\\n', '3.9 l/100 km (country)', '\\n']       1\n",
       "[['3.5 l/100 km (comb)'], ['3.3 l/100 km (city)'], ['3.1 l/100 km (country)']]                       1\n",
       "[['8.7 l/100 km (comb)'], ['6.4 l/100 km (city)'], ['5 l/100 km (country)']]                         1\n",
       "[['4 l/100 km (comb)'], ['5 l/100 km (city)'], ['3.4 l/100 km (country)']]                           1\n",
       "Name: consumption, Length: 882, dtype: int64"
      ]
     },
     "execution_count": 93,
     "metadata": {},
     "output_type": "execute_result"
    }
   ],
   "source": [
    "df.consumption.astype(str).value_counts(dropna=False)"
   ]
  },
  {
   "cell_type": "code",
   "execution_count": 94,
   "id": "e29f8a2e-d79e-41e6-9c23-02e5c655b474",
   "metadata": {},
   "outputs": [],
   "source": [
    "def cons_comb(x):\n",
    "    \n",
    "    if type(x)==list and len(x)==3:\n",
    "        if x[0] != []: return x[0][0]\n",
    "        else: return None\n",
    "        \n",
    "    if type(x)==list and len(x)==5:\n",
    "        return x[1]\n",
    "    \n",
    "    if type(x)==list and len(x)==7:\n",
    "        return x[1]\n",
    "    \n",
    "    else:\n",
    "        return None"
   ]
  },
  {
   "cell_type": "code",
   "execution_count": 95,
   "id": "395bb98c-f88e-4b83-adc6-fa603204a693",
   "metadata": {},
   "outputs": [],
   "source": [
    "def cons_city(x):\n",
    "    \n",
    "    if type(x)==list and len(x)==3:\n",
    "        if x[1] != []: return x[1][0]\n",
    "        else: return None\n",
    "        \n",
    "    if type(x)==list and len(x)==5:\n",
    "        return None\n",
    "    \n",
    "    if type(x)==list and len(x)==7:\n",
    "        return x[3]\n",
    "    \n",
    "    else:\n",
    "        return None"
   ]
  },
  {
   "cell_type": "code",
   "execution_count": 96,
   "id": "ae5b4182-bfa1-42f8-895e-bf98223196cc",
   "metadata": {},
   "outputs": [],
   "source": [
    "def cons_country(x):\n",
    "    \n",
    "    if type(x)==list and len(x)==3:\n",
    "        if x[2] != []: return x[2][0]\n",
    "        else: return None\n",
    "        \n",
    "    if type(x)==list and len(x)==5:\n",
    "        return None\n",
    "    \n",
    "    if type(x)==list and len(x)==7:\n",
    "        return x[5]\n",
    "    \n",
    "    else:\n",
    "        return None"
   ]
  },
  {
   "cell_type": "code",
   "execution_count": 97,
   "id": "795f0fd9-cf2a-42df-b8db-73f82117b868",
   "metadata": {},
   "outputs": [],
   "source": [
    "df['cons_comb'] = df.consumption.apply(cons_comb).str.extract('(\\d{1,2}.\\d|\\d{1,3})').astype(\"float\") # str.extract('(\\S+)')\n",
    "df['cons_city'] = df.consumption.apply(cons_city).str.extract('(\\d{1,2}.\\d|\\d{1,3})').astype(\"float\")\n",
    "df['cons_country'] = df.consumption.apply(cons_country).str.extract('(\\d{1,2}.\\d|\\d{1,3})').astype(\"float\")"
   ]
  },
  {
   "cell_type": "code",
   "execution_count": 98,
   "id": "04eb1d0c-46fb-40fc-be8a-a8c3564fe95e",
   "metadata": {},
   "outputs": [
    {
     "data": {
      "text/plain": [
       "NaN     2033\n",
       "5.4      770\n",
       "3.9      733\n",
       "4.0      713\n",
       "5.1      657\n",
       "4.4      623\n",
       "5.6      618\n",
       "4.7      602\n",
       "3.8      585\n",
       "4.8      546\n",
       "5.0      545\n",
       "4.5      523\n",
       "5.2      454\n",
       "4.2      435\n",
       "4.6      426\n",
       "4.9      393\n",
       "5.3      380\n",
       "5.5      380\n",
       "5.9      369\n",
       "3.7      369\n",
       "5.7      342\n",
       "4.1      342\n",
       "6.0      331\n",
       "4.3      307\n",
       "3.3      307\n",
       "3.5      288\n",
       "6.2      216\n",
       "3.6      194\n",
       "6.3      181\n",
       "6.1      175\n",
       "5.8      164\n",
       "6.6      148\n",
       "6.8      136\n",
       "3.4      106\n",
       "6.4       75\n",
       "3.0       69\n",
       "7.4       66\n",
       "6.7       43\n",
       "6.5       43\n",
       "7.1       38\n",
       "10.0      34\n",
       "6.9       27\n",
       "3.2       25\n",
       "8.3       20\n",
       "7.6       14\n",
       "7.0       10\n",
       "3.1        7\n",
       "7.2        6\n",
       "7.8        6\n",
       "8.0        5\n",
       "51.0       4\n",
       "8.6        4\n",
       "8.7        3\n",
       "1.6        3\n",
       "7.9        3\n",
       "38.0       2\n",
       "0.0        2\n",
       "40.0       2\n",
       "7.3        2\n",
       "8.1        2\n",
       "32.0       1\n",
       "1.2        1\n",
       "33.0       1\n",
       "50.0       1\n",
       "11.0       1\n",
       "55.0       1\n",
       "54.0       1\n",
       "1.0        1\n",
       "9.1        1\n",
       "7.5        1\n",
       "43.0       1\n",
       "46.0       1\n",
       "13.8       1\n",
       "Name: cons_comb, dtype: int64"
      ]
     },
     "execution_count": 98,
     "metadata": {},
     "output_type": "execute_result"
    }
   ],
   "source": [
    "df['cons_comb'].value_counts(dropna=False)"
   ]
  },
  {
   "cell_type": "code",
   "execution_count": 99,
   "id": "9e03ba18-84dc-4e11-bddf-ce32f6ee0aed",
   "metadata": {},
   "outputs": [
    {
     "data": {
      "text/plain": [
       "NaN     2436\n",
       "5.0      669\n",
       "5.8      633\n",
       "4.5      580\n",
       "4.3      533\n",
       "5.1      479\n",
       "6.8      454\n",
       "7.2      445\n",
       "7.3      435\n",
       "4.6      417\n",
       "7.8      413\n",
       "5.9      389\n",
       "5.7      376\n",
       "4.2      353\n",
       "6.6      352\n",
       "6.7      346\n",
       "5.2      345\n",
       "6.3      338\n",
       "5.4      321\n",
       "4.1      320\n",
       "4.0      300\n",
       "4.7      289\n",
       "7.5      267\n",
       "7.1      258\n",
       "6.0      251\n",
       "7.6      248\n",
       "3.9      245\n",
       "3.5      230\n",
       "6.9      223\n",
       "5.5      216\n",
       "6.2      211\n",
       "7.7      204\n",
       "7.0      194\n",
       "7.4      179\n",
       "6.5      162\n",
       "8.7      161\n",
       "6.1      152\n",
       "8.2      140\n",
       "4.4      136\n",
       "6.4      121\n",
       "8.0      110\n",
       "5.6      104\n",
       "5.3      101\n",
       "7.9      101\n",
       "4.8       72\n",
       "4.9       58\n",
       "3.7       53\n",
       "3.4       50\n",
       "9.6       42\n",
       "8.6       42\n",
       "8.3       41\n",
       "8.5       39\n",
       "9.2       34\n",
       "3.3       30\n",
       "3.8       26\n",
       "8.1       25\n",
       "10.2      21\n",
       "11.3      19\n",
       "10.0      16\n",
       "9.9       15\n",
       "9.4       14\n",
       "9.1       12\n",
       "3.0        9\n",
       "8.4        7\n",
       "0.0        6\n",
       "9.8        5\n",
       "8.9        4\n",
       "11.5       4\n",
       "11.2       4\n",
       "62.0       4\n",
       "11.0       4\n",
       "9.5        3\n",
       "10.8       3\n",
       "1.0        2\n",
       "8.8        2\n",
       "43.0       2\n",
       "45.0       2\n",
       "10.1       2\n",
       "3.6        2\n",
       "19.9       1\n",
       "66.0       1\n",
       "10.5       1\n",
       "10.4       1\n",
       "9.0        1\n",
       "16.1       1\n",
       "9.7        1\n",
       "64.0       1\n",
       "Name: cons_city, dtype: int64"
      ]
     },
     "execution_count": 99,
     "metadata": {},
     "output_type": "execute_result"
    }
   ],
   "source": [
    "df['cons_city'].value_counts(dropna=False)"
   ]
  },
  {
   "cell_type": "code",
   "execution_count": 100,
   "id": "b8cc3088-234e-4870-98e4-31c273373c39",
   "metadata": {},
   "outputs": [
    {
     "data": {
      "text/plain": [
       "NaN     2376\n",
       "4.2     1178\n",
       "3.7     1089\n",
       "4.4      898\n",
       "4.5      848\n",
       "3.8      802\n",
       "3.9      777\n",
       "4.7      615\n",
       "4.1      592\n",
       "4.0      589\n",
       "3.5      525\n",
       "4.3      520\n",
       "4.6      516\n",
       "3.6      486\n",
       "3.1      481\n",
       "4.9      481\n",
       "3.3      457\n",
       "3.4      353\n",
       "4.8      341\n",
       "5.3      278\n",
       "5.4      239\n",
       "5.1      232\n",
       "5.7      204\n",
       "3.2      180\n",
       "5.6      154\n",
       "3.0      142\n",
       "5.0      130\n",
       "5.2      117\n",
       "6.3       52\n",
       "6.0       42\n",
       "5.5       36\n",
       "10.0      32\n",
       "5.8       30\n",
       "7.7       20\n",
       "6.6       19\n",
       "2.9       16\n",
       "6.4       15\n",
       "0.0        9\n",
       "2.8        9\n",
       "44.0       4\n",
       "7.3        4\n",
       "6.5        4\n",
       "7.1        3\n",
       "7.0        3\n",
       "6.1        2\n",
       "6.9        2\n",
       "37.0       2\n",
       "7.8        2\n",
       "35.0       2\n",
       "5.9        2\n",
       "6.7        2\n",
       "8.6        1\n",
       "8.0        1\n",
       "2.0        1\n",
       "7.6        1\n",
       "42.0       1\n",
       "10.3       1\n",
       "1.0        1\n",
       "Name: cons_country, dtype: int64"
      ]
     },
     "execution_count": 100,
     "metadata": {},
     "output_type": "execute_result"
    }
   ],
   "source": [
    "df['cons_country'].value_counts(dropna=False)"
   ]
  },
  {
   "cell_type": "code",
   "execution_count": 101,
   "id": "23cc3346-5a0c-4f48-ac54-fc2db4537f26",
   "metadata": {},
   "outputs": [],
   "source": [
    "df.drop(\"consumption\", axis=1, inplace=True)"
   ]
  },
  {
   "cell_type": "markdown",
   "id": "48357ce7-aa71-4bd0-8edb-a3f89a5bec7f",
   "metadata": {},
   "source": [
    "if I need to cchoose one of them, I will choose cons_comb. because it has less missing values."
   ]
  },
  {
   "cell_type": "markdown",
   "id": "b4753c8a-6128-41a5-a79c-6a7ad39d768d",
   "metadata": {},
   "source": [
    "## co2_emission & emission_class & emission_label"
   ]
  },
  {
   "cell_type": "code",
   "execution_count": 102,
   "id": "d124989f-643d-4084-bef2-efe4b6d96ae8",
   "metadata": {},
   "outputs": [
    {
     "data": {
      "text/plain": [
       "nan                               1808\n",
       "['\\n120 g CO2/km (comb)\\n']        740\n",
       "[[], [], []]                       628\n",
       "['\\n99 g CO2/km (comb)\\n']         545\n",
       "['\\n97 g CO2/km (comb)\\n']         537\n",
       "                                  ... \n",
       "['\\n14,457 g CO2/km (comb)\\n']       1\n",
       "['\\n171 g CO2/km (comb)\\n']          1\n",
       "['\\n12,324 g CO2/km (comb)\\n']       1\n",
       "['\\n51 g CO2/km (comb)\\n']           1\n",
       "['\\n165 g CO2/km (comb)\\n']          1\n",
       "Name: co2_emission, Length: 124, dtype: int64"
      ]
     },
     "execution_count": 102,
     "metadata": {},
     "output_type": "execute_result"
    }
   ],
   "source": [
    "df.co2_emission.astype(str).value_counts(dropna=False)"
   ]
  },
  {
   "cell_type": "code",
   "execution_count": 103,
   "id": "84657e0b-d23b-4b32-8807-38c233bf6b69",
   "metadata": {},
   "outputs": [],
   "source": [
    "df[\"co2_emission\"] = df['co2_emission'].str[0].str.replace(',', '').str.extract('(\\d+)').astype('float')"
   ]
  },
  {
   "cell_type": "code",
   "execution_count": 104,
   "id": "43031466-1195-49a1-b25b-df8b300e9621",
   "metadata": {},
   "outputs": [
    {
     "data": {
      "text/plain": [
       "120.0      740\n",
       "99.0       545\n",
       "97.0       537\n",
       "104.0      501\n",
       "102.0      477\n",
       "          ... \n",
       "51.0         1\n",
       "13983.0      1\n",
       "160.0        1\n",
       "14457.0      1\n",
       "1060.0       1\n",
       "Name: co2_emission, Length: 122, dtype: int64"
      ]
     },
     "execution_count": 104,
     "metadata": {},
     "output_type": "execute_result"
    }
   ],
   "source": [
    "df.co2_emission.value_counts()"
   ]
  },
  {
   "cell_type": "markdown",
   "id": "73c46ca1-fad8-46a9-9155-7b2a707cd3aa",
   "metadata": {},
   "source": []
  },
  {
   "cell_type": "code",
   "execution_count": 105,
   "id": "81462ae3-7ab8-4a77-980c-a443f35ab632",
   "metadata": {},
   "outputs": [
    {
     "data": {
      "text/plain": [
       "['\\nEuro 6\\n']          10139\n",
       "nan                      3021\n",
       "['\\nEuro 6d-TEMP\\n']     1845\n",
       "[[], [], []]              607\n",
       "['\\nEuro 6c\\n']           127\n",
       "['\\nEuro 5\\n']             78\n",
       "['\\nEuro 6d\\n']            62\n",
       "['\\nEuro 4\\n']             40\n",
       "Name: emission_class, dtype: int64"
      ]
     },
     "execution_count": 105,
     "metadata": {},
     "output_type": "execute_result"
    }
   ],
   "source": [
    "df.emission_class.astype(str).value_counts()"
   ]
  },
  {
   "cell_type": "code",
   "execution_count": 106,
   "id": "2051b150-408d-4961-9466-7897919f5b0d",
   "metadata": {},
   "outputs": [],
   "source": [
    "df.emission_class = df.emission_class.str[0].str.strip(\"\\n\")"
   ]
  },
  {
   "cell_type": "code",
   "execution_count": 107,
   "id": "5e2a32bd-4709-40d8-8c91-c642e8d1ae88",
   "metadata": {},
   "outputs": [
    {
     "data": {
      "text/plain": [
       "Euro 6          10139\n",
       "nan              3628\n",
       "Euro 6d-TEMP     1845\n",
       "Euro 6c           127\n",
       "Euro 5             78\n",
       "Euro 6d            62\n",
       "Euro 4             40\n",
       "Name: emission_class, dtype: int64"
      ]
     },
     "execution_count": 107,
     "metadata": {},
     "output_type": "execute_result"
    }
   ],
   "source": [
    "df.emission_class.astype(str).value_counts(dropna=False)"
   ]
  },
  {
   "cell_type": "code",
   "execution_count": 108,
   "id": "0a93796b-8dde-4109-ae3a-57611bd1da0a",
   "metadata": {},
   "outputs": [],
   "source": [
    "euro6 = [\"Euro 6d-TEMP\", \"Euro 6d\", \"Euro 6c\"]\n",
    "df.emission_class = df.emission_class.apply(lambda x: \"Euro 6\" if x in euro6 else x)"
   ]
  },
  {
   "cell_type": "code",
   "execution_count": 109,
   "id": "05c3c07f-63b5-4a88-89b4-fbe06203f56e",
   "metadata": {},
   "outputs": [
    {
     "data": {
      "text/plain": [
       "Euro 6    12173\n",
       "NaN        3628\n",
       "Euro 5       78\n",
       "Euro 4       40\n",
       "Name: emission_class, dtype: int64"
      ]
     },
     "execution_count": 109,
     "metadata": {},
     "output_type": "execute_result"
    }
   ],
   "source": [
    "df.emission_class.value_counts(dropna=False)"
   ]
  },
  {
   "cell_type": "code",
   "execution_count": 110,
   "id": "4fabc882-d484-4570-9015-d971e014f017",
   "metadata": {},
   "outputs": [
    {
     "data": {
      "text/plain": [
       "nan                       11934\n",
       "['\\n4 (Green)\\n']          3553\n",
       "['\\n1 (No sticker)\\n']      381\n",
       "[[], [], []]                 40\n",
       "['\\n5 (Blue)\\n']              8\n",
       "['\\n3 (Yellow)\\n']            2\n",
       "['\\n2 (Red)\\n']               1\n",
       "Name: emission_label, dtype: int64"
      ]
     },
     "execution_count": 110,
     "metadata": {},
     "output_type": "execute_result"
    }
   ],
   "source": [
    "df.emission_label.astype(str).value_counts(dropna=False)"
   ]
  },
  {
   "cell_type": "markdown",
   "id": "a4a4aa9f-ddca-4b2f-bd2b-3d338676e51e",
   "metadata": {},
   "source": [
    "emission label is something different from the values here. This column is useless."
   ]
  },
  {
   "cell_type": "code",
   "execution_count": 111,
   "id": "c7159ca4-aa2c-4d1f-84b5-9da70457c34a",
   "metadata": {},
   "outputs": [],
   "source": [
    "df.drop(\"emission_label\", axis=1, inplace=True)"
   ]
  },
  {
   "cell_type": "markdown",
   "id": "9327604c-b3bc-4469-9c0b-8e14802bcd4b",
   "metadata": {},
   "source": [
    "## country_version"
   ]
  },
  {
   "cell_type": "code",
   "execution_count": 112,
   "id": "28da58c6-ca91-464a-a44b-66eef10d9a9f",
   "metadata": {},
   "outputs": [
    {
     "data": {
      "text/plain": [
       "nan                       8333\n",
       "['\\nGermany\\n']           4502\n",
       "['\\nItaly\\n']             1038\n",
       "['\\nEuropean Union\\n']     507\n",
       "['\\nNetherlands\\n']        464\n",
       "['\\nSpain\\n']              325\n",
       "['\\nBelgium\\n']            314\n",
       "['\\nAustria\\n']            208\n",
       "['\\nCzech Republic\\n']      52\n",
       "['\\nPoland\\n']              49\n",
       "['\\nFrance\\n']              38\n",
       "['\\nDenmark\\n']             33\n",
       "['\\nHungary\\n']             28\n",
       "['\\nJapan\\n']                8\n",
       "['\\nCroatia\\n']              4\n",
       "['\\nSlovakia\\n']             4\n",
       "['\\nSweden\\n']               3\n",
       "['\\nRomania\\n']              2\n",
       "['\\nBulgaria\\n']             2\n",
       "['\\nSlovenia\\n']             1\n",
       "['\\nSerbia\\n']               1\n",
       "['\\nEgypt\\n']                1\n",
       "['\\nSwitzerland\\n']          1\n",
       "['\\nLuxembourg\\n']           1\n",
       "Name: country_version, dtype: int64"
      ]
     },
     "execution_count": 112,
     "metadata": {},
     "output_type": "execute_result"
    }
   ],
   "source": [
    "df.country_version.astype(str).value_counts(dropna=False)"
   ]
  },
  {
   "cell_type": "code",
   "execution_count": 113,
   "id": "6b44666c-5456-4cd5-b8c3-58d16d7ff2c2",
   "metadata": {},
   "outputs": [],
   "source": [
    "df.drop(\"country_version\", axis=1, inplace=True)"
   ]
  },
  {
   "cell_type": "markdown",
   "id": "b0edceed-4d50-40d6-8e3d-788ac540bd11",
   "metadata": {},
   "source": [
    "## comfort_convenience"
   ]
  },
  {
   "cell_type": "code",
   "execution_count": 114,
   "id": "d13d8df3-5f8d-4a74-b16d-41ece766c7e5",
   "metadata": {},
   "outputs": [
    {
     "data": {
      "text/plain": [
       "nan                                                                                                                                                                                                                                                                                                                                                                                                                                                                                                                                       920\n",
       "['Air conditioning', 'Electrical side mirrors', 'Hill Holder', 'Power windows']                                                                                                                                                                                                                                                                                                                                                                                                                                                           216\n",
       "['Air conditioning', 'Electrical side mirrors', 'Power windows']                                                                                                                                                                                                                                                                                                                                                                                                                                                                          134\n",
       "['Air conditioning', 'Power windows']                                                                                                                                                                                                                                                                                                                                                                                                                                                                                                     130\n",
       "['Air conditioning', 'Armrest', 'Automatic climate control', 'Cruise control', 'Electrical side mirrors', 'Leather steering wheel', 'Light sensor', 'Lumbar support', 'Multi-function steering wheel', 'Navigation system', 'Park Distance Control', 'Parking assist system sensors front', 'Parking assist system sensors rear', 'Power windows', 'Rain sensor', 'Seat heating', 'Start-stop system']                                                                                                                                    105\n",
       "                                                                                                                                                                                                                                                                                                                                                                                                                                                                                                                                         ... \n",
       "['Air conditioning', 'Automatic climate control', 'Cruise control', 'Electrically adjustable seats', 'Electrically heated windshield', 'Electrical side mirrors', 'Electric tailgate', 'Heads-up display', 'Heated steering wheel', 'Keyless central door lock', 'Leather steering wheel', 'Light sensor', 'Lumbar support', 'Navigation system', 'Panorama roof', 'Park Distance Control', 'Parking assist system camera', 'Parking assist system sensors rear', 'Power windows', 'Rain sensor', 'Seat heating', 'Start-stop system']      1\n",
       "['Air conditioning', 'Armrest', 'Automatic climate control', 'Cruise control', 'Leather steering wheel', 'Multi-function steering wheel', 'Navigation system', 'Park Distance Control', 'Power windows', 'Rain sensor', 'Seat heating']                                                                                                                                                                                                                                                                                                     1\n",
       "['Air conditioning', 'Cruise control', 'Electrical side mirrors', 'Multi-function steering wheel', 'Power windows', 'Seat ventilation', 'Split rear seats']                                                                                                                                                                                                                                                                                                                                                                                 1\n",
       "['Air conditioning', 'Armrest', 'Automatic climate control', 'Electrical side mirrors', 'Hill Holder', 'Leather steering wheel', 'Light sensor', 'Lumbar support', 'Multi-function steering wheel', 'Navigation system', 'Park Distance Control', 'Parking assist system sensors front', 'Parking assist system sensors rear', 'Power windows', 'Seat heating', 'Start-stop system']                                                                                                                                                        1\n",
       "['Air conditioning', 'Armrest', 'Automatic climate control', 'Cruise control', 'Leather steering wheel', 'Multi-function steering wheel', 'Navigation system', 'Parking assist system sensors front', 'Parking assist system sensors rear', 'Power windows', 'Rain sensor', 'Seat ventilation', 'Split rear seats', 'Start-stop system']                                                                                                                                                                                                    1\n",
       "Name: comfort_convenience, Length: 6199, dtype: int64"
      ]
     },
     "execution_count": 114,
     "metadata": {},
     "output_type": "execute_result"
    }
   ],
   "source": [
    "df.comfort_convenience.astype(str).value_counts(dropna=False)"
   ]
  },
  {
   "cell_type": "code",
   "execution_count": 115,
   "id": "1483930b-d41b-441c-9d99-a4942ff77ca1",
   "metadata": {},
   "outputs": [
    {
     "data": {
      "text/plain": [
       "NaN                                                                                                                                                                                                                                                                                                                                                                                                         920\n",
       "Air conditioning,Electrical side mirrors,Hill Holder,Power windows                                                                                                                                                                                                                                                                                                                                          216\n",
       "Air conditioning,Electrical side mirrors,Power windows                                                                                                                                                                                                                                                                                                                                                      134\n",
       "Air conditioning,Power windows                                                                                                                                                                                                                                                                                                                                                                              130\n",
       "Air conditioning,Armrest,Automatic climate control,Cruise control,Electrical side mirrors,Leather steering wheel,Light sensor,Lumbar support,Multi-function steering wheel,Navigation system,Park Distance Control,Parking assist system sensors front,Parking assist system sensors rear,Power windows,Rain sensor,Seat heating,Start-stop system                                                          105\n",
       "                                                                                                                                                                                                                                                                                                                                                                                                           ... \n",
       "Air conditioning,Multi-function steering wheel,Park Distance Control,Power windows,Seat heating,Start-stop system                                                                                                                                                                                                                                                                                             1\n",
       "Air conditioning,Automatic climate control,Cruise control,Electrical side mirrors,Heated steering wheel,Hill Holder,Leather steering wheel,Light sensor,Multi-function steering wheel,Navigation system,Park Distance Control,Parking assist system camera,Parking assist system sensors front,Parking assist system sensors rear,Power windows,Rain sensor,Split rear seats,Tinted windows                   1\n",
       "Air conditioning,Armrest,Cruise control,Electrical side mirrors,Heated steering wheel,Leather steering wheel,Multi-function steering wheel,Park Distance Control,Parking assist system sensors rear,Power windows,Seat heating,Start-stop system                                                                                                                                                              1\n",
       "Air conditioning,Electrical side mirrors,Multi-function steering wheel,Navigation system,Park Distance Control,Parking assist system sensors front,Parking assist system sensors rear,Power windows,Rain sensor,Seat heating                                                                                                                                                                                  1\n",
       "Air conditioning,Armrest,Automatic climate control,Cruise control,Electrically adjustable seats,Electrical side mirrors,Electric tailgate,Heated steering wheel,Keyless central door lock,Leather steering wheel,Massage seats,Navigation system,Park Distance Control,Parking assist system camera,Parking assist system self-steering,Power windows,Rain sensor,Seat heating,Start-stop system,Sunroof      1\n",
       "Name: comfort_convenience, Length: 6199, dtype: int64"
      ]
     },
     "execution_count": 115,
     "metadata": {},
     "output_type": "execute_result"
    }
   ],
   "source": [
    "df[\"comfort_convenience\"] = df.comfort_convenience.apply(lambda x : \",\".join(x) if type(x)==list else x)\n",
    "df[\"comfort_convenience\"].value_counts(dropna=False)"
   ]
  },
  {
   "cell_type": "markdown",
   "id": "cb4de69b-ec9d-485c-9d45-4a8745b0dcaf",
   "metadata": {},
   "source": [
    "We will seperate the  items with get_dummies later. so we can see the effect of each of them seperately."
   ]
  },
  {
   "cell_type": "markdown",
   "id": "4c8f6464-4de4-4567-ac2e-e1f5274dc691",
   "metadata": {},
   "source": [
    "## entertainment_media"
   ]
  },
  {
   "cell_type": "code",
   "execution_count": 116,
   "id": "67b532d8-90a3-4199-b40f-3e0b7fd781a4",
   "metadata": {},
   "outputs": [
    {
     "data": {
      "text/plain": [
       "nan                                                                                                                             1374\n",
       "['Bluetooth', 'Hands-free equipment', 'On-board computer', 'Radio', 'USB']                                                      1282\n",
       "['Bluetooth', 'Hands-free equipment', 'MP3', 'On-board computer', 'Radio', 'USB']                                                982\n",
       "['Bluetooth', 'CD player', 'Hands-free equipment', 'MP3', 'On-board computer', 'Radio', 'USB']                                   783\n",
       "['On-board computer', 'Radio']                                                                                                   487\n",
       "                                                                                                                                ... \n",
       "['Bluetooth', 'CD player', 'Hands-free equipment', 'MP3', 'On-board computer', 'Radio', 'Sound system', 'Television', 'USB']       1\n",
       "['Bluetooth', 'CD player', 'Digital radio', 'MP3', 'Radio', 'Sound system', 'USB']                                                 1\n",
       "['Bluetooth', 'Digital radio', 'Hands-free equipment', 'MP3', 'Sound system', 'USB']                                               1\n",
       "['Hands-free equipment', 'On-board computer', 'Radio', 'Sound system']                                                             1\n",
       "['Bluetooth', 'CD player', 'Digital radio', 'Hands-free equipment', 'USB']                                                         1\n",
       "Name: entertainment_media, Length: 347, dtype: int64"
      ]
     },
     "execution_count": 116,
     "metadata": {},
     "output_type": "execute_result"
    }
   ],
   "source": [
    "df.entertainment_media.astype(str).value_counts(dropna=False)"
   ]
  },
  {
   "cell_type": "code",
   "execution_count": 117,
   "id": "a180068e-7433-4a86-b8f2-64cd861f8db2",
   "metadata": {},
   "outputs": [
    {
     "data": {
      "text/plain": [
       "Bluetooth,Hands-free equipment,On-board computer,Radio,USB                  1282\n",
       "Bluetooth,Hands-free equipment,MP3,On-board computer,Radio,USB               982\n",
       "Bluetooth,CD player,Hands-free equipment,MP3,On-board computer,Radio,USB     783\n",
       "On-board computer,Radio                                                      487\n",
       "Radio                                                                        477\n",
       "                                                                            ... \n",
       "CD player,Digital radio,On-board computer,USB                                  1\n",
       "CD player,Digital radio,Radio                                                  1\n",
       "Bluetooth,Digital radio,On-board computer,Radio,Television,USB                 1\n",
       "Digital radio,USB                                                              1\n",
       "Bluetooth,Digital radio,MP3,On-board computer,Radio,Sound system               1\n",
       "Name: entertainment_media, Length: 346, dtype: int64"
      ]
     },
     "execution_count": 117,
     "metadata": {},
     "output_type": "execute_result"
    }
   ],
   "source": [
    "df.entertainment_media = df.entertainment_media.apply(lambda x : \",\".join(x) if type(x)==list else x)\n",
    "df.entertainment_media.value_counts()"
   ]
  },
  {
   "cell_type": "markdown",
   "id": "7b92b3d7-98f0-4600-9c68-64698254bb86",
   "metadata": {},
   "source": [
    "## extras"
   ]
  },
  {
   "cell_type": "code",
   "execution_count": 118,
   "id": "b0dc5b24-a53e-43d6-8571-2bdf6dff11b8",
   "metadata": {},
   "outputs": [
    {
     "data": {
      "text/plain": [
       "['Alloy wheels']                                                                                                                                                            3245\n",
       "nan                                                                                                                                                                         2962\n",
       "['Alloy wheels', 'Touch screen']                                                                                                                                             697\n",
       "['Alloy wheels', 'Voice Control']                                                                                                                                            577\n",
       "['Alloy wheels', 'Touch screen', 'Voice Control']                                                                                                                            541\n",
       "                                                                                                                                                                            ... \n",
       "['Alloy wheels', 'Catalytic Converter', 'Shift paddles', 'Sport package', 'Voice Control']                                                                                     1\n",
       "['Alloy wheels', 'Catalytic Converter', 'Handicapped enabled', 'Shift paddles', 'Sport package', 'Sport suspension', 'Touch screen', 'Trailer hitch', 'Voice Control']         1\n",
       "['Alloy wheels', 'Catalytic Converter', 'Ski bag', 'Sport package', 'Sport seats', 'Sport suspension', 'Touch screen', 'Trailer hitch', 'Voice Control', 'Winter tyres']       1\n",
       "['Alloy wheels', 'Handicapped enabled', 'Roof rack', 'Sport seats', 'Touch screen', 'Voice Control']                                                                           1\n",
       "['Sport seats', 'Touch screen', 'Voice Control', 'Winter tyres']                                                                                                               1\n",
       "Name: extras, Length: 660, dtype: int64"
      ]
     },
     "execution_count": 118,
     "metadata": {},
     "output_type": "execute_result"
    }
   ],
   "source": [
    "df.extras.astype(str).value_counts(dropna=False)"
   ]
  },
  {
   "cell_type": "code",
   "execution_count": 119,
   "id": "1d886ab7-9539-46e8-a69c-f532bf1e4ab8",
   "metadata": {},
   "outputs": [
    {
     "data": {
      "text/plain": [
       "Alloy wheels                                                                                                                                 3245\n",
       "NaN                                                                                                                                          2962\n",
       "Alloy wheels,Touch screen                                                                                                                     697\n",
       "Alloy wheels,Voice Control                                                                                                                    577\n",
       "Alloy wheels,Touch screen,Voice Control                                                                                                       541\n",
       "                                                                                                                                             ... \n",
       "Catalytic Converter,Roof rack,Trailer hitch                                                                                                     1\n",
       "Roof rack,Trailer hitch,Voice Control                                                                                                           1\n",
       "Alloy wheels,Catalytic Converter,Ski bag,Sport package,Sport seats,Sport suspension,Touch screen,Trailer hitch,Voice Control,Winter tyres       1\n",
       "Alloy wheels,Roof rack,Touch screen,Winter tyres                                                                                                1\n",
       "Alloy wheels,Cab or rented Car,Catalytic Converter,Sport package                                                                                1\n",
       "Name: extras, Length: 660, dtype: int64"
      ]
     },
     "execution_count": 119,
     "metadata": {},
     "output_type": "execute_result"
    }
   ],
   "source": [
    "df.extras = df.extras.apply(lambda x : \",\".join(x) if type(x)==list else x)\n",
    "df.extras.value_counts(dropna=False)"
   ]
  },
  {
   "cell_type": "markdown",
   "id": "f6afb2a5-012f-4eb3-b38e-0c4a1a8ddc09",
   "metadata": {},
   "source": [
    "## safety_security"
   ]
  },
  {
   "cell_type": "code",
   "execution_count": 120,
   "id": "4dfcfc42-6f90-456b-9b0f-9187615f80ce",
   "metadata": {},
   "outputs": [
    {
     "data": {
      "text/plain": [
       "nan                                                                                                                                                                                                                                                                                                                                                                                                                                  982\n",
       "['ABS', 'Central door lock', 'Daytime running lights', 'Driver-side airbag', 'Electronic stability control', 'Fog lights', 'Immobilizer', 'Isofix', 'Passenger-side airbag', 'Power steering', 'Side airbag', 'Tire pressure monitoring system', 'Traction control']                                                                                                                                                                 538\n",
       "['ABS', 'Central door lock', 'Daytime running lights', 'Driver-side airbag', 'Electronic stability control', 'Immobilizer', 'Isofix', 'Passenger-side airbag', 'Power steering', 'Side airbag', 'Tire pressure monitoring system', 'Traction control']                                                                                                                                                                               480\n",
       "['ABS', 'Central door lock', 'Daytime running lights', 'Driver-side airbag', 'Electronic stability control', 'Immobilizer', 'Isofix', 'Passenger-side airbag', 'Power steering', 'Side airbag', 'Tire pressure monitoring system', 'Traction control', 'Xenon headlights']                                                                                                                                                           275\n",
       "['ABS', 'Central door lock', 'Daytime running lights', 'Driver-side airbag', 'Electronic stability control', 'Fog lights', 'Immobilizer', 'Isofix', 'LED Daytime Running Lights', 'Passenger-side airbag', 'Power steering', 'Side airbag', 'Tire pressure monitoring system', 'Traction control']                                                                                                                                   272\n",
       "                                                                                                                                                                                                                                                                                                                                                                                                                                    ... \n",
       "['ABS', 'Driver-side airbag', 'Passenger-side airbag', 'Power steering', 'Side airbag', 'Traction control', 'Xenon headlights']                                                                                                                                                                                                                                                                                                        1\n",
       "['ABS', 'Alarm system', 'Central door lock', 'Driver-side airbag', 'Electronic stability control', 'Immobilizer', 'Isofix', 'Passenger-side airbag', 'Power steering', 'Traction control']                                                                                                                                                                                                                                             1\n",
       "['ABS', 'Central door lock with remote control', 'Electronic stability control', 'Isofix', 'Power steering', 'Side airbag']                                                                                                                                                                                                                                                                                                            1\n",
       "['ABS', 'Adaptive headlights', 'Central door lock', 'Central door lock with remote control', 'Daytime running lights', 'Driver-side airbag', 'Electronic stability control', 'Emergency brake assistant', 'Head airbag', 'Immobilizer', 'Isofix', 'LED Daytime Running Lights', 'LED Headlights', 'Passenger-side airbag', 'Power steering', 'Rear airbag', 'Side airbag', 'Tire pressure monitoring system', 'Traction control']      1\n",
       "['ABS', 'Driver-side airbag', 'Electronic stability control', 'Passenger-side airbag', 'Side airbag', 'Traction control', 'Xenon headlights']                                                                                                                                                                                                                                                                                          1\n",
       "Name: safety_security, Length: 4444, dtype: int64"
      ]
     },
     "execution_count": 120,
     "metadata": {},
     "output_type": "execute_result"
    }
   ],
   "source": [
    "df.safety_security.astype(str).value_counts(dropna=False)"
   ]
  },
  {
   "cell_type": "code",
   "execution_count": 121,
   "id": "d519c30f-edb5-4307-957f-dc198e97eb80",
   "metadata": {},
   "outputs": [
    {
     "data": {
      "text/plain": [
       "NaN                                                                                                                                                                                                                                                                                                                                                                                                      982\n",
       "ABS,Central door lock,Daytime running lights,Driver-side airbag,Electronic stability control,Fog lights,Immobilizer,Isofix,Passenger-side airbag,Power steering,Side airbag,Tire pressure monitoring system,Traction control                                                                                                                                                                             538\n",
       "ABS,Central door lock,Daytime running lights,Driver-side airbag,Electronic stability control,Immobilizer,Isofix,Passenger-side airbag,Power steering,Side airbag,Tire pressure monitoring system,Traction control                                                                                                                                                                                        480\n",
       "ABS,Central door lock,Daytime running lights,Driver-side airbag,Electronic stability control,Immobilizer,Isofix,Passenger-side airbag,Power steering,Side airbag,Tire pressure monitoring system,Traction control,Xenon headlights                                                                                                                                                                       275\n",
       "ABS,Central door lock,Daytime running lights,Driver-side airbag,Electronic stability control,Fog lights,Immobilizer,Isofix,LED Daytime Running Lights,Passenger-side airbag,Power steering,Side airbag,Tire pressure monitoring system,Traction control                                                                                                                                                  272\n",
       "                                                                                                                                                                                                                                                                                                                                                                                                        ... \n",
       "ABS,Adaptive headlights,Central door lock,Daytime running lights,Driver-side airbag,Electronic stability control,Fog lights,Immobilizer,Passenger-side airbag,Power steering,Side airbag,Traction control,Xenon headlights                                                                                                                                                                                 1\n",
       "ABS,Central door lock,Daytime running lights,Driver-side airbag,Electronic stability control,Emergency brake assistant,Emergency system,Immobilizer,Isofix,Lane departure warning system,LED Headlights,Passenger-side airbag,Power steering,Side airbag,Traction control                                                                                                                                  1\n",
       "ABS,Central door lock,Daytime running lights,Driver drowsiness detection,Driver-side airbag,Electronic stability control,Emergency system,Immobilizer,Isofix,Passenger-side airbag,Power steering,Side airbag,Tire pressure monitoring system,Traction control,Xenon headlights                                                                                                                            1\n",
       "ABS,Adaptive headlights,Central door lock with remote control,Driver-side airbag,Electronic stability control,Emergency brake assistant,Emergency system,Fog lights,Head airbag,Immobilizer,Isofix,Lane departure warning system,LED Daytime Running Lights,LED Headlights,Passenger-side airbag,Power steering,Side airbag,Tire pressure monitoring system,Traction control,Traffic sign recognition      1\n",
       "ABS,Central door lock,Central door lock with remote control,Daytime running lights,Driver-side airbag,Electronic stability control,Head airbag,Isofix,Passenger-side airbag,Power steering,Rear airbag,Side airbag,Tire pressure monitoring system,Traction control                                                                                                                                        1\n",
       "Name: safety_security, Length: 4444, dtype: int64"
      ]
     },
     "execution_count": 121,
     "metadata": {},
     "output_type": "execute_result"
    }
   ],
   "source": [
    "df.safety_security = df.safety_security.apply(lambda x : \",\".join(x) if type(x)==list else x)\n",
    "df.safety_security.value_counts(dropna=False)"
   ]
  },
  {
   "cell_type": "code",
   "execution_count": 122,
   "id": "244f5ef8-9705-431e-8d7e-6c9d2b7a2318",
   "metadata": {},
   "outputs": [
    {
     "data": {
      "text/plain": [
       "['', 'Used', '', 'Diesel (Particulate Filter)']                                                                                            3475\n",
       "['', 'Used', '', 'Diesel']                                                                                                                 2516\n",
       "['', 'Used', '', 'Gasoline']                                                                                                               2367\n",
       "['', 'Used', '', 'Super 95']                                                                                                               1818\n",
       "['', 'Pre-registered', '', 'Super 95']                                                                                                      500\n",
       "                                                                                                                                           ... \n",
       "['', 'Pre-registered', '', 'Regular/Benzine 91 / Super 95 / Regular/Benzine E10 91 / Super E10 95 / Super Plus 98 / Super Plus E10 98']       1\n",
       "['', 'Demonstration', '', 'Gasoline (Particulate Filter)']                                                                                    1\n",
       "['', 'Demonstration', '', 'Super Plus 98 / Regular/Benzine 91']                                                                               1\n",
       "['', 'Used', '', 'Others (Particulate Filter)']                                                                                               1\n",
       "['', 'Pre-registered', '', 'Biogas']                                                                                                          1\n",
       "Name: type, Length: 170, dtype: int64"
      ]
     },
     "execution_count": 122,
     "metadata": {},
     "output_type": "execute_result"
    }
   ],
   "source": [
    "df.type.astype(str).value_counts()"
   ]
  },
  {
   "cell_type": "code",
   "execution_count": 123,
   "id": "2fe86ded-b9b0-4704-9283-4eb76ddab78f",
   "metadata": {},
   "outputs": [
    {
     "data": {
      "text/plain": [
       "Used              11096\n",
       "New                1650\n",
       "Pre-registered     1364\n",
       "Employee's car     1011\n",
       "Demonstration       796\n",
       "NaN                   2\n",
       "Name: type, dtype: int64"
      ]
     },
     "execution_count": 123,
     "metadata": {},
     "output_type": "execute_result"
    }
   ],
   "source": [
    "df.type = df.type.apply(lambda x : x[1] if type(x)==list and len(x)>1 else x)\n",
    "df.type.value_counts(dropna=False)"
   ]
  },
  {
   "cell_type": "markdown",
   "id": "3e368004-0849-4f16-b6b1-d27cbf96221b",
   "metadata": {},
   "source": [
    "## end of the data cleaning phase"
   ]
  },
  {
   "cell_type": "code",
   "execution_count": 124,
   "id": "38157855-9677-443a-aed1-f2a60e32b022",
   "metadata": {},
   "outputs": [
    {
     "name": "stdout",
     "output_type": "stream",
     "text": [
      "<class 'pandas.core.frame.DataFrame'>\n",
      "RangeIndex: 15919 entries, 0 to 15918\n",
      "Data columns (total 34 columns):\n",
      " #   Column               Non-Null Count  Dtype  \n",
      "---  ------               --------------  -----  \n",
      " 0   make_model           15919 non-null  object \n",
      " 1   body_type            15859 non-null  object \n",
      " 2   price                15919 non-null  int64  \n",
      " 3   vat                  11406 non-null  object \n",
      " 4   km                   14895 non-null  float64\n",
      " 5   type                 15917 non-null  object \n",
      " 6   previous_owners      9279 non-null   object \n",
      " 7   inspection_new       3932 non-null   object \n",
      " 8   make                 15919 non-null  object \n",
      " 9   model                15919 non-null  object \n",
      " 10  body_color           15322 non-null  object \n",
      " 11  paint_type           10147 non-null  object \n",
      " 12  nr_of_doors          15707 non-null  float64\n",
      " 13  nr_of_seats          14942 non-null  float64\n",
      " 14  gearing_type         15919 non-null  object \n",
      " 15  cylinders            10239 non-null  float64\n",
      " 16  drive_chain          9061 non-null   object \n",
      " 17  fuel                 15919 non-null  object \n",
      " 18  co2_emission         13483 non-null  float64\n",
      " 19  emission_class       12291 non-null  object \n",
      " 20  comfort_convenience  14999 non-null  object \n",
      " 21  entertainment_media  14545 non-null  object \n",
      " 22  extras               12957 non-null  object \n",
      " 23  safety_security      14937 non-null  object \n",
      " 24  gears                11207 non-null  float64\n",
      " 25  age                  14322 non-null  float64\n",
      " 26  hp_kW                15831 non-null  float64\n",
      " 27  upholstery_type      1302 non-null   object \n",
      " 28  warranty_months      4853 non-null   float64\n",
      " 29  displacement_cc      15423 non-null  float64\n",
      " 30  weight_kg            8945 non-null   float64\n",
      " 31  cons_comb            13886 non-null  float64\n",
      " 32  cons_city            13483 non-null  float64\n",
      " 33  cons_country         13543 non-null  float64\n",
      "dtypes: float64(14), int64(1), object(19)\n",
      "memory usage: 4.1+ MB\n"
     ]
    }
   ],
   "source": [
    "df.info()"
   ]
  },
  {
   "cell_type": "code",
   "execution_count": 125,
   "id": "e01dd35d-4415-4aa5-b917-395acc09503c",
   "metadata": {},
   "outputs": [],
   "source": [
    "df.to_csv(\"clean_scout.csv\", index=False)"
   ]
  },
  {
   "cell_type": "code",
   "execution_count": null,
   "id": "b2da3362-d092-4add-b1bc-ac5e98cecf8d",
   "metadata": {},
   "outputs": [],
   "source": []
  }
 ],
 "metadata": {
  "kernelspec": {
   "display_name": "Python 3",
   "language": "python",
   "name": "python3"
  },
  "language_info": {
   "codemirror_mode": {
    "name": "ipython",
    "version": 3
   },
   "file_extension": ".py",
   "mimetype": "text/x-python",
   "name": "python",
   "nbconvert_exporter": "python",
   "pygments_lexer": "ipython3",
   "version": "3.8.8"
  }
 },
 "nbformat": 4,
 "nbformat_minor": 5
}
